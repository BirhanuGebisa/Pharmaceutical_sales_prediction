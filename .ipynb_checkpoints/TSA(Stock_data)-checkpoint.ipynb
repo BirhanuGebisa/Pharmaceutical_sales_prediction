{
 "cells": [
  {
   "cell_type": "code",
   "execution_count": null,
   "metadata": {
    "colab": {
     "base_uri": "https://localhost:8080/"
    },
    "executionInfo": {
     "elapsed": 22404,
     "status": "ok",
     "timestamp": 1662367368116,
     "user": {
      "displayName": "Nardos Tilahun",
      "userId": "17544391502131465043"
     },
     "user_tz": -180
    },
    "id": "4VIjP1zF1Pw2",
    "outputId": "fb580a91-0cde-4f34-eee6-7848f9be6810"
   },
   "outputs": [
    {
     "name": "stdout",
     "output_type": "stream",
     "text": [
      "Mounted at /content/drive\n"
     ]
    }
   ],
   "source": [
    "from google.colab import drive\n",
    "drive.mount(\"/content/drive\")"
   ]
  },
  {
   "cell_type": "code",
   "execution_count": null,
   "metadata": {
    "colab": {
     "base_uri": "https://localhost:8080/"
    },
    "executionInfo": {
     "elapsed": 474,
     "status": "ok",
     "timestamp": 1662367386642,
     "user": {
      "displayName": "Nardos Tilahun",
      "userId": "17544391502131465043"
     },
     "user_tz": -180
    },
    "id": "eIG2VaqR2ECd",
    "outputId": "1a493384-2fb0-47dd-a2aa-2eee8dc61215"
   },
   "outputs": [
    {
     "name": "stdout",
     "output_type": "stream",
     "text": [
      "/content/drive/My Drive/Time_Series_Analysis\n"
     ]
    }
   ],
   "source": [
    "%cd /content/drive/My Drive/Time_Series_Analysis"
   ]
  },
  {
   "cell_type": "code",
   "execution_count": null,
   "metadata": {
    "id": "tjhsT7xE2K6F"
   },
   "outputs": [],
   "source": [
    "import numpy as np\n",
    "import pandas as pd\n",
    "import matplotlib\n",
    "import matplotlib.pyplot as plt\n",
    "import seaborn as sns\n",
    "import logging\n",
    "\n",
    "sns.set_style(\"darkgrid\")\n",
    "%matplotlib inline"
   ]
  },
  {
   "cell_type": "code",
   "execution_count": 9,
   "metadata": {
    "colab": {
     "base_uri": "https://localhost:8080/",
     "height": 363
    },
    "executionInfo": {
     "elapsed": 500,
     "status": "error",
     "timestamp": 1662369084561,
     "user": {
      "displayName": "Nardos Tilahun",
      "userId": "17544391502131465043"
     },
     "user_tz": -180
    },
    "id": "VUJE5tbW2Pw4",
    "outputId": "9bc08122-a3d3-4466-aba9-8af1703ff20f"
   },
   "outputs": [
    {
     "ename": "FileNotFoundError",
     "evalue": "ignored",
     "output_type": "error",
     "traceback": [
      "\u001b[0;31m---------------------------------------------------------------------------\u001b[0m",
      "\u001b[0;31mFileNotFoundError\u001b[0m                         Traceback (most recent call last)",
      "\u001b[0;32m<ipython-input-9-888c8b1bef1c>\u001b[0m in \u001b[0;36m<module>\u001b[0;34m\u001b[0m\n\u001b[0;32m----> 1\u001b[0;31m \u001b[0mstocks_df\u001b[0m \u001b[0;34m=\u001b[0m \u001b[0mpd\u001b[0m\u001b[0;34m.\u001b[0m\u001b[0mread_csv\u001b[0m\u001b[0;34m(\u001b[0m\u001b[0;34m'stock_data/stocks_data_2020_till_2020_09_03.csv'\u001b[0m\u001b[0;34m)\u001b[0m\u001b[0;34m\u001b[0m\u001b[0;34m\u001b[0m\u001b[0m\n\u001b[0m\u001b[1;32m      2\u001b[0m \u001b[0mprint\u001b[0m\u001b[0;34m(\u001b[0m\u001b[0mlen\u001b[0m\u001b[0;34m(\u001b[0m\u001b[0mstocks_df\u001b[0m\u001b[0;34m)\u001b[0m\u001b[0;34m)\u001b[0m\u001b[0;34m\u001b[0m\u001b[0;34m\u001b[0m\u001b[0m\n\u001b[1;32m      3\u001b[0m \u001b[0mstocks_df\u001b[0m\u001b[0;34m.\u001b[0m\u001b[0mhead\u001b[0m\u001b[0;34m(\u001b[0m\u001b[0;34m)\u001b[0m\u001b[0;34m\u001b[0m\u001b[0;34m\u001b[0m\u001b[0m\n",
      "\u001b[0;32m/usr/local/lib/python3.7/dist-packages/pandas/util/_decorators.py\u001b[0m in \u001b[0;36mwrapper\u001b[0;34m(*args, **kwargs)\u001b[0m\n\u001b[1;32m    309\u001b[0m                     \u001b[0mstacklevel\u001b[0m\u001b[0;34m=\u001b[0m\u001b[0mstacklevel\u001b[0m\u001b[0;34m,\u001b[0m\u001b[0;34m\u001b[0m\u001b[0;34m\u001b[0m\u001b[0m\n\u001b[1;32m    310\u001b[0m                 )\n\u001b[0;32m--> 311\u001b[0;31m             \u001b[0;32mreturn\u001b[0m \u001b[0mfunc\u001b[0m\u001b[0;34m(\u001b[0m\u001b[0;34m*\u001b[0m\u001b[0margs\u001b[0m\u001b[0;34m,\u001b[0m \u001b[0;34m**\u001b[0m\u001b[0mkwargs\u001b[0m\u001b[0;34m)\u001b[0m\u001b[0;34m\u001b[0m\u001b[0;34m\u001b[0m\u001b[0m\n\u001b[0m\u001b[1;32m    312\u001b[0m \u001b[0;34m\u001b[0m\u001b[0m\n\u001b[1;32m    313\u001b[0m         \u001b[0;32mreturn\u001b[0m \u001b[0mwrapper\u001b[0m\u001b[0;34m\u001b[0m\u001b[0;34m\u001b[0m\u001b[0m\n",
      "\u001b[0;32m/usr/local/lib/python3.7/dist-packages/pandas/io/parsers/readers.py\u001b[0m in \u001b[0;36mread_csv\u001b[0;34m(filepath_or_buffer, sep, delimiter, header, names, index_col, usecols, squeeze, prefix, mangle_dupe_cols, dtype, engine, converters, true_values, false_values, skipinitialspace, skiprows, skipfooter, nrows, na_values, keep_default_na, na_filter, verbose, skip_blank_lines, parse_dates, infer_datetime_format, keep_date_col, date_parser, dayfirst, cache_dates, iterator, chunksize, compression, thousands, decimal, lineterminator, quotechar, quoting, doublequote, escapechar, comment, encoding, encoding_errors, dialect, error_bad_lines, warn_bad_lines, on_bad_lines, delim_whitespace, low_memory, memory_map, float_precision, storage_options)\u001b[0m\n\u001b[1;32m    584\u001b[0m     \u001b[0mkwds\u001b[0m\u001b[0;34m.\u001b[0m\u001b[0mupdate\u001b[0m\u001b[0;34m(\u001b[0m\u001b[0mkwds_defaults\u001b[0m\u001b[0;34m)\u001b[0m\u001b[0;34m\u001b[0m\u001b[0;34m\u001b[0m\u001b[0m\n\u001b[1;32m    585\u001b[0m \u001b[0;34m\u001b[0m\u001b[0m\n\u001b[0;32m--> 586\u001b[0;31m     \u001b[0;32mreturn\u001b[0m \u001b[0m_read\u001b[0m\u001b[0;34m(\u001b[0m\u001b[0mfilepath_or_buffer\u001b[0m\u001b[0;34m,\u001b[0m \u001b[0mkwds\u001b[0m\u001b[0;34m)\u001b[0m\u001b[0;34m\u001b[0m\u001b[0;34m\u001b[0m\u001b[0m\n\u001b[0m\u001b[1;32m    587\u001b[0m \u001b[0;34m\u001b[0m\u001b[0m\n\u001b[1;32m    588\u001b[0m \u001b[0;34m\u001b[0m\u001b[0m\n",
      "\u001b[0;32m/usr/local/lib/python3.7/dist-packages/pandas/io/parsers/readers.py\u001b[0m in \u001b[0;36m_read\u001b[0;34m(filepath_or_buffer, kwds)\u001b[0m\n\u001b[1;32m    480\u001b[0m \u001b[0;34m\u001b[0m\u001b[0m\n\u001b[1;32m    481\u001b[0m     \u001b[0;31m# Create the parser.\u001b[0m\u001b[0;34m\u001b[0m\u001b[0;34m\u001b[0m\u001b[0;34m\u001b[0m\u001b[0m\n\u001b[0;32m--> 482\u001b[0;31m     \u001b[0mparser\u001b[0m \u001b[0;34m=\u001b[0m \u001b[0mTextFileReader\u001b[0m\u001b[0;34m(\u001b[0m\u001b[0mfilepath_or_buffer\u001b[0m\u001b[0;34m,\u001b[0m \u001b[0;34m**\u001b[0m\u001b[0mkwds\u001b[0m\u001b[0;34m)\u001b[0m\u001b[0;34m\u001b[0m\u001b[0;34m\u001b[0m\u001b[0m\n\u001b[0m\u001b[1;32m    483\u001b[0m \u001b[0;34m\u001b[0m\u001b[0m\n\u001b[1;32m    484\u001b[0m     \u001b[0;32mif\u001b[0m \u001b[0mchunksize\u001b[0m \u001b[0;32mor\u001b[0m \u001b[0miterator\u001b[0m\u001b[0;34m:\u001b[0m\u001b[0;34m\u001b[0m\u001b[0;34m\u001b[0m\u001b[0m\n",
      "\u001b[0;32m/usr/local/lib/python3.7/dist-packages/pandas/io/parsers/readers.py\u001b[0m in \u001b[0;36m__init__\u001b[0;34m(self, f, engine, **kwds)\u001b[0m\n\u001b[1;32m    809\u001b[0m             \u001b[0mself\u001b[0m\u001b[0;34m.\u001b[0m\u001b[0moptions\u001b[0m\u001b[0;34m[\u001b[0m\u001b[0;34m\"has_index_names\"\u001b[0m\u001b[0;34m]\u001b[0m \u001b[0;34m=\u001b[0m \u001b[0mkwds\u001b[0m\u001b[0;34m[\u001b[0m\u001b[0;34m\"has_index_names\"\u001b[0m\u001b[0;34m]\u001b[0m\u001b[0;34m\u001b[0m\u001b[0;34m\u001b[0m\u001b[0m\n\u001b[1;32m    810\u001b[0m \u001b[0;34m\u001b[0m\u001b[0m\n\u001b[0;32m--> 811\u001b[0;31m         \u001b[0mself\u001b[0m\u001b[0;34m.\u001b[0m\u001b[0m_engine\u001b[0m \u001b[0;34m=\u001b[0m \u001b[0mself\u001b[0m\u001b[0;34m.\u001b[0m\u001b[0m_make_engine\u001b[0m\u001b[0;34m(\u001b[0m\u001b[0mself\u001b[0m\u001b[0;34m.\u001b[0m\u001b[0mengine\u001b[0m\u001b[0;34m)\u001b[0m\u001b[0;34m\u001b[0m\u001b[0;34m\u001b[0m\u001b[0m\n\u001b[0m\u001b[1;32m    812\u001b[0m \u001b[0;34m\u001b[0m\u001b[0m\n\u001b[1;32m    813\u001b[0m     \u001b[0;32mdef\u001b[0m \u001b[0mclose\u001b[0m\u001b[0;34m(\u001b[0m\u001b[0mself\u001b[0m\u001b[0;34m)\u001b[0m\u001b[0;34m:\u001b[0m\u001b[0;34m\u001b[0m\u001b[0;34m\u001b[0m\u001b[0m\n",
      "\u001b[0;32m/usr/local/lib/python3.7/dist-packages/pandas/io/parsers/readers.py\u001b[0m in \u001b[0;36m_make_engine\u001b[0;34m(self, engine)\u001b[0m\n\u001b[1;32m   1038\u001b[0m             )\n\u001b[1;32m   1039\u001b[0m         \u001b[0;31m# error: Too many arguments for \"ParserBase\"\u001b[0m\u001b[0;34m\u001b[0m\u001b[0;34m\u001b[0m\u001b[0;34m\u001b[0m\u001b[0m\n\u001b[0;32m-> 1040\u001b[0;31m         \u001b[0;32mreturn\u001b[0m \u001b[0mmapping\u001b[0m\u001b[0;34m[\u001b[0m\u001b[0mengine\u001b[0m\u001b[0;34m]\u001b[0m\u001b[0;34m(\u001b[0m\u001b[0mself\u001b[0m\u001b[0;34m.\u001b[0m\u001b[0mf\u001b[0m\u001b[0;34m,\u001b[0m \u001b[0;34m**\u001b[0m\u001b[0mself\u001b[0m\u001b[0;34m.\u001b[0m\u001b[0moptions\u001b[0m\u001b[0;34m)\u001b[0m  \u001b[0;31m# type: ignore[call-arg]\u001b[0m\u001b[0;34m\u001b[0m\u001b[0;34m\u001b[0m\u001b[0m\n\u001b[0m\u001b[1;32m   1041\u001b[0m \u001b[0;34m\u001b[0m\u001b[0m\n\u001b[1;32m   1042\u001b[0m     \u001b[0;32mdef\u001b[0m \u001b[0m_failover_to_python\u001b[0m\u001b[0;34m(\u001b[0m\u001b[0mself\u001b[0m\u001b[0;34m)\u001b[0m\u001b[0;34m:\u001b[0m\u001b[0;34m\u001b[0m\u001b[0;34m\u001b[0m\u001b[0m\n",
      "\u001b[0;32m/usr/local/lib/python3.7/dist-packages/pandas/io/parsers/c_parser_wrapper.py\u001b[0m in \u001b[0;36m__init__\u001b[0;34m(self, src, **kwds)\u001b[0m\n\u001b[1;32m     49\u001b[0m \u001b[0;34m\u001b[0m\u001b[0m\n\u001b[1;32m     50\u001b[0m         \u001b[0;31m# open handles\u001b[0m\u001b[0;34m\u001b[0m\u001b[0;34m\u001b[0m\u001b[0;34m\u001b[0m\u001b[0m\n\u001b[0;32m---> 51\u001b[0;31m         \u001b[0mself\u001b[0m\u001b[0;34m.\u001b[0m\u001b[0m_open_handles\u001b[0m\u001b[0;34m(\u001b[0m\u001b[0msrc\u001b[0m\u001b[0;34m,\u001b[0m \u001b[0mkwds\u001b[0m\u001b[0;34m)\u001b[0m\u001b[0;34m\u001b[0m\u001b[0;34m\u001b[0m\u001b[0m\n\u001b[0m\u001b[1;32m     52\u001b[0m         \u001b[0;32massert\u001b[0m \u001b[0mself\u001b[0m\u001b[0;34m.\u001b[0m\u001b[0mhandles\u001b[0m \u001b[0;32mis\u001b[0m \u001b[0;32mnot\u001b[0m \u001b[0;32mNone\u001b[0m\u001b[0;34m\u001b[0m\u001b[0;34m\u001b[0m\u001b[0m\n\u001b[1;32m     53\u001b[0m \u001b[0;34m\u001b[0m\u001b[0m\n",
      "\u001b[0;32m/usr/local/lib/python3.7/dist-packages/pandas/io/parsers/base_parser.py\u001b[0m in \u001b[0;36m_open_handles\u001b[0;34m(self, src, kwds)\u001b[0m\n\u001b[1;32m    227\u001b[0m             \u001b[0mmemory_map\u001b[0m\u001b[0;34m=\u001b[0m\u001b[0mkwds\u001b[0m\u001b[0;34m.\u001b[0m\u001b[0mget\u001b[0m\u001b[0;34m(\u001b[0m\u001b[0;34m\"memory_map\"\u001b[0m\u001b[0;34m,\u001b[0m \u001b[0;32mFalse\u001b[0m\u001b[0;34m)\u001b[0m\u001b[0;34m,\u001b[0m\u001b[0;34m\u001b[0m\u001b[0;34m\u001b[0m\u001b[0m\n\u001b[1;32m    228\u001b[0m             \u001b[0mstorage_options\u001b[0m\u001b[0;34m=\u001b[0m\u001b[0mkwds\u001b[0m\u001b[0;34m.\u001b[0m\u001b[0mget\u001b[0m\u001b[0;34m(\u001b[0m\u001b[0;34m\"storage_options\"\u001b[0m\u001b[0;34m,\u001b[0m \u001b[0;32mNone\u001b[0m\u001b[0;34m)\u001b[0m\u001b[0;34m,\u001b[0m\u001b[0;34m\u001b[0m\u001b[0;34m\u001b[0m\u001b[0m\n\u001b[0;32m--> 229\u001b[0;31m             \u001b[0merrors\u001b[0m\u001b[0;34m=\u001b[0m\u001b[0mkwds\u001b[0m\u001b[0;34m.\u001b[0m\u001b[0mget\u001b[0m\u001b[0;34m(\u001b[0m\u001b[0;34m\"encoding_errors\"\u001b[0m\u001b[0;34m,\u001b[0m \u001b[0;34m\"strict\"\u001b[0m\u001b[0;34m)\u001b[0m\u001b[0;34m,\u001b[0m\u001b[0;34m\u001b[0m\u001b[0;34m\u001b[0m\u001b[0m\n\u001b[0m\u001b[1;32m    230\u001b[0m         )\n\u001b[1;32m    231\u001b[0m \u001b[0;34m\u001b[0m\u001b[0m\n",
      "\u001b[0;32m/usr/local/lib/python3.7/dist-packages/pandas/io/common.py\u001b[0m in \u001b[0;36mget_handle\u001b[0;34m(path_or_buf, mode, encoding, compression, memory_map, is_text, errors, storage_options)\u001b[0m\n\u001b[1;32m    705\u001b[0m                 \u001b[0mencoding\u001b[0m\u001b[0;34m=\u001b[0m\u001b[0mioargs\u001b[0m\u001b[0;34m.\u001b[0m\u001b[0mencoding\u001b[0m\u001b[0;34m,\u001b[0m\u001b[0;34m\u001b[0m\u001b[0;34m\u001b[0m\u001b[0m\n\u001b[1;32m    706\u001b[0m                 \u001b[0merrors\u001b[0m\u001b[0;34m=\u001b[0m\u001b[0merrors\u001b[0m\u001b[0;34m,\u001b[0m\u001b[0;34m\u001b[0m\u001b[0;34m\u001b[0m\u001b[0m\n\u001b[0;32m--> 707\u001b[0;31m                 \u001b[0mnewline\u001b[0m\u001b[0;34m=\u001b[0m\u001b[0;34m\"\"\u001b[0m\u001b[0;34m,\u001b[0m\u001b[0;34m\u001b[0m\u001b[0;34m\u001b[0m\u001b[0m\n\u001b[0m\u001b[1;32m    708\u001b[0m             )\n\u001b[1;32m    709\u001b[0m         \u001b[0;32melse\u001b[0m\u001b[0;34m:\u001b[0m\u001b[0;34m\u001b[0m\u001b[0;34m\u001b[0m\u001b[0m\n",
      "\u001b[0;31mFileNotFoundError\u001b[0m: [Errno 2] No such file or directory: 'stock_data/stocks_data_2020_till_2020_09_03.csv'"
     ]
    }
   ],
   "source": [
    "stocks_df = pd.read_csv('stock_data/stocks_data_2020_till_2020_09_03.csv')\n",
    "print(len(stocks_df))\n",
    "stocks_df.head()"
   ]
  },
  {
   "cell_type": "code",
   "execution_count": null,
   "metadata": {
    "colab": {
     "base_uri": "https://localhost:8080/"
    },
    "executionInfo": {
     "elapsed": 1503,
     "status": "ok",
     "timestamp": 1653308612751,
     "user": {
      "displayName": "Anastasia Kiiru",
      "userId": "12437046474838202979"
     },
     "user_tz": -180
    },
    "id": "Lqe94SW_3GeF",
    "outputId": "f8a25cb4-ef77-48a7-9818-81b286e0d7b5"
   },
   "outputs": [
    {
     "data": {
      "text/plain": [
       "66"
      ]
     },
     "execution_count": 8,
     "metadata": {},
     "output_type": "execute_result"
    }
   ],
   "source": [
    "stocks_df['scrip_id'].nunique()"
   ]
  },
  {
   "cell_type": "code",
   "execution_count": null,
   "metadata": {
    "colab": {
     "base_uri": "https://localhost:8080/"
    },
    "executionInfo": {
     "elapsed": 14,
     "status": "ok",
     "timestamp": 1653308627250,
     "user": {
      "displayName": "Anastasia Kiiru",
      "userId": "12437046474838202979"
     },
     "user_tz": -180
    },
    "id": "60mwPj-X3Ppn",
    "outputId": "aa84420b-d9b1-4972-dcdc-530d2fa9b9c9"
   },
   "outputs": [
    {
     "data": {
      "text/plain": [
       "array([ 2,  1,  3,  4,  5,  6,  7,  8,  9, 10, 11, 12, 13, 14, 15, 16, 17,\n",
       "       18, 19, 20, 21, 22, 23, 24, 25, 26, 27, 28, 29, 30, 31, 32, 33, 34,\n",
       "       35, 36, 37, 40, 41, 42, 43, 44, 45, 46, 47, 48, 49, 50, 51, 52, 53,\n",
       "       54, 55, 65, 63, 60, 64, 61, 62, 38, 56, 58, 57, 59, 66, 39])"
      ]
     },
     "execution_count": 9,
     "metadata": {},
     "output_type": "execute_result"
    }
   ],
   "source": [
    "stocks_df['scrip_id'].unique()"
   ]
  },
  {
   "cell_type": "code",
   "execution_count": null,
   "metadata": {
    "colab": {
     "base_uri": "https://localhost:8080/"
    },
    "executionInfo": {
     "elapsed": 15,
     "status": "ok",
     "timestamp": 1653308637471,
     "user": {
      "displayName": "Anastasia Kiiru",
      "userId": "12437046474838202979"
     },
     "user_tz": -180
    },
    "id": "4jjlHNVS37Qr",
    "outputId": "6957e3dd-2847-4193-a85e-28009670de0f"
   },
   "outputs": [
    {
     "data": {
      "text/plain": [
       "2321232"
      ]
     },
     "execution_count": 10,
     "metadata": {},
     "output_type": "execute_result"
    }
   ],
   "source": [
    "stocks_df['id'].nunique()"
   ]
  },
  {
   "cell_type": "code",
   "execution_count": null,
   "metadata": {
    "colab": {
     "base_uri": "https://localhost:8080/",
     "height": 112
    },
    "executionInfo": {
     "elapsed": 411,
     "status": "ok",
     "timestamp": 1653308658533,
     "user": {
      "displayName": "Anastasia Kiiru",
      "userId": "12437046474838202979"
     },
     "user_tz": -180
    },
    "id": "rD_UaOnQ399_",
    "outputId": "3fd51558-36bf-4ea7-887a-320c2f7f7d26"
   },
   "outputs": [
    {
     "data": {
      "text/html": [
       "\n",
       "  <div id=\"df-e322a9e2-c305-44df-b644-33b9501fcd14\">\n",
       "    <div class=\"colab-df-container\">\n",
       "      <div>\n",
       "<style scoped>\n",
       "    .dataframe tbody tr th:only-of-type {\n",
       "        vertical-align: middle;\n",
       "    }\n",
       "\n",
       "    .dataframe tbody tr th {\n",
       "        vertical-align: top;\n",
       "    }\n",
       "\n",
       "    .dataframe thead th {\n",
       "        text-align: right;\n",
       "    }\n",
       "</style>\n",
       "<table border=\"1\" class=\"dataframe\">\n",
       "  <thead>\n",
       "    <tr style=\"text-align: right;\">\n",
       "      <th></th>\n",
       "      <th>timestamp</th>\n",
       "      <th>open_price</th>\n",
       "      <th>high_price</th>\n",
       "      <th>low_price</th>\n",
       "      <th>close_price</th>\n",
       "      <th>volume</th>\n",
       "      <th>scrip_id</th>\n",
       "    </tr>\n",
       "  </thead>\n",
       "  <tbody>\n",
       "    <tr>\n",
       "      <th>81533</th>\n",
       "      <td>2020-04-20 14:00:00+05:30</td>\n",
       "      <td>370.15</td>\n",
       "      <td>370.7</td>\n",
       "      <td>370.00</td>\n",
       "      <td>370.6</td>\n",
       "      <td>95859</td>\n",
       "      <td>29</td>\n",
       "    </tr>\n",
       "    <tr>\n",
       "      <th>313750</th>\n",
       "      <td>2020-05-06 11:22:00+05:30</td>\n",
       "      <td>522.80</td>\n",
       "      <td>522.8</td>\n",
       "      <td>522.25</td>\n",
       "      <td>522.5</td>\n",
       "      <td>6969</td>\n",
       "      <td>51</td>\n",
       "    </tr>\n",
       "  </tbody>\n",
       "</table>\n",
       "</div>\n",
       "      <button class=\"colab-df-convert\" onclick=\"convertToInteractive('df-e322a9e2-c305-44df-b644-33b9501fcd14')\"\n",
       "              title=\"Convert this dataframe to an interactive table.\"\n",
       "              style=\"display:none;\">\n",
       "        \n",
       "  <svg xmlns=\"http://www.w3.org/2000/svg\" height=\"24px\"viewBox=\"0 0 24 24\"\n",
       "       width=\"24px\">\n",
       "    <path d=\"M0 0h24v24H0V0z\" fill=\"none\"/>\n",
       "    <path d=\"M18.56 5.44l.94 2.06.94-2.06 2.06-.94-2.06-.94-.94-2.06-.94 2.06-2.06.94zm-11 1L8.5 8.5l.94-2.06 2.06-.94-2.06-.94L8.5 2.5l-.94 2.06-2.06.94zm10 10l.94 2.06.94-2.06 2.06-.94-2.06-.94-.94-2.06-.94 2.06-2.06.94z\"/><path d=\"M17.41 7.96l-1.37-1.37c-.4-.4-.92-.59-1.43-.59-.52 0-1.04.2-1.43.59L10.3 9.45l-7.72 7.72c-.78.78-.78 2.05 0 2.83L4 21.41c.39.39.9.59 1.41.59.51 0 1.02-.2 1.41-.59l7.78-7.78 2.81-2.81c.8-.78.8-2.07 0-2.86zM5.41 20L4 18.59l7.72-7.72 1.47 1.35L5.41 20z\"/>\n",
       "  </svg>\n",
       "      </button>\n",
       "      \n",
       "  <style>\n",
       "    .colab-df-container {\n",
       "      display:flex;\n",
       "      flex-wrap:wrap;\n",
       "      gap: 12px;\n",
       "    }\n",
       "\n",
       "    .colab-df-convert {\n",
       "      background-color: #E8F0FE;\n",
       "      border: none;\n",
       "      border-radius: 50%;\n",
       "      cursor: pointer;\n",
       "      display: none;\n",
       "      fill: #1967D2;\n",
       "      height: 32px;\n",
       "      padding: 0 0 0 0;\n",
       "      width: 32px;\n",
       "    }\n",
       "\n",
       "    .colab-df-convert:hover {\n",
       "      background-color: #E2EBFA;\n",
       "      box-shadow: 0px 1px 2px rgba(60, 64, 67, 0.3), 0px 1px 3px 1px rgba(60, 64, 67, 0.15);\n",
       "      fill: #174EA6;\n",
       "    }\n",
       "\n",
       "    [theme=dark] .colab-df-convert {\n",
       "      background-color: #3B4455;\n",
       "      fill: #D2E3FC;\n",
       "    }\n",
       "\n",
       "    [theme=dark] .colab-df-convert:hover {\n",
       "      background-color: #434B5C;\n",
       "      box-shadow: 0px 1px 3px 1px rgba(0, 0, 0, 0.15);\n",
       "      filter: drop-shadow(0px 1px 2px rgba(0, 0, 0, 0.3));\n",
       "      fill: #FFFFFF;\n",
       "    }\n",
       "  </style>\n",
       "\n",
       "      <script>\n",
       "        const buttonEl =\n",
       "          document.querySelector('#df-e322a9e2-c305-44df-b644-33b9501fcd14 button.colab-df-convert');\n",
       "        buttonEl.style.display =\n",
       "          google.colab.kernel.accessAllowed ? 'block' : 'none';\n",
       "\n",
       "        async function convertToInteractive(key) {\n",
       "          const element = document.querySelector('#df-e322a9e2-c305-44df-b644-33b9501fcd14');\n",
       "          const dataTable =\n",
       "            await google.colab.kernel.invokeFunction('convertToInteractive',\n",
       "                                                     [key], {});\n",
       "          if (!dataTable) return;\n",
       "\n",
       "          const docLinkHtml = 'Like what you see? Visit the ' +\n",
       "            '<a target=\"_blank\" href=https://colab.research.google.com/notebooks/data_table.ipynb>data table notebook</a>'\n",
       "            + ' to learn more about interactive tables.';\n",
       "          element.innerHTML = '';\n",
       "          dataTable['output_type'] = 'display_data';\n",
       "          await google.colab.output.renderOutput(dataTable, element);\n",
       "          const docLink = document.createElement('div');\n",
       "          docLink.innerHTML = docLinkHtml;\n",
       "          element.appendChild(docLink);\n",
       "        }\n",
       "      </script>\n",
       "    </div>\n",
       "  </div>\n",
       "  "
      ],
      "text/plain": [
       "                        timestamp  open_price  high_price  low_price  \\\n",
       "81533   2020-04-20 14:00:00+05:30      370.15       370.7     370.00   \n",
       "313750  2020-05-06 11:22:00+05:30      522.80       522.8     522.25   \n",
       "\n",
       "        close_price  volume  scrip_id  \n",
       "81533         370.6   95859        29  \n",
       "313750        522.5    6969        51  "
      ]
     },
     "execution_count": 11,
     "metadata": {},
     "output_type": "execute_result"
    }
   ],
   "source": [
    "#Dropping the id coloumn since it has shown its non functionality.\n",
    "stocks_df.drop(['id'], axis=1, inplace=True)\n",
    "stocks_df.sample(2)"
   ]
  },
  {
   "cell_type": "code",
   "execution_count": null,
   "metadata": {
    "colab": {
     "base_uri": "https://localhost:8080/"
    },
    "executionInfo": {
     "elapsed": 476,
     "status": "ok",
     "timestamp": 1653308670872,
     "user": {
      "displayName": "Anastasia Kiiru",
      "userId": "12437046474838202979"
     },
     "user_tz": -180
    },
    "id": "LOhjZFln4DEt",
    "outputId": "31f5d485-efba-4a4a-9db6-5f7864c9c75b"
   },
   "outputs": [
    {
     "name": "stdout",
     "output_type": "stream",
     "text": [
      "<class 'pandas.core.frame.DataFrame'>\n",
      "RangeIndex: 2321232 entries, 0 to 2321231\n",
      "Data columns (total 7 columns):\n",
      " #   Column       Dtype  \n",
      "---  ------       -----  \n",
      " 0   timestamp    object \n",
      " 1   open_price   float64\n",
      " 2   high_price   float64\n",
      " 3   low_price    float64\n",
      " 4   close_price  float64\n",
      " 5   volume       int64  \n",
      " 6   scrip_id     int64  \n",
      "dtypes: float64(4), int64(2), object(1)\n",
      "memory usage: 124.0+ MB\n"
     ]
    }
   ],
   "source": [
    "stocks_df.info()"
   ]
  },
  {
   "cell_type": "code",
   "execution_count": null,
   "metadata": {
    "colab": {
     "base_uri": "https://localhost:8080/"
    },
    "executionInfo": {
     "elapsed": 1031,
     "status": "ok",
     "timestamp": 1653308695874,
     "user": {
      "displayName": "Anastasia Kiiru",
      "userId": "12437046474838202979"
     },
     "user_tz": -180
    },
    "id": "zhZ1jfyq4GWC",
    "outputId": "0f1620e8-70e5-4974-aff7-f9ca0634d1bd"
   },
   "outputs": [
    {
     "name": "stdout",
     "output_type": "stream",
     "text": [
      "<class 'pandas.core.frame.DataFrame'>\n",
      "RangeIndex: 2321232 entries, 0 to 2321231\n",
      "Data columns (total 7 columns):\n",
      " #   Column       Dtype                                \n",
      "---  ------       -----                                \n",
      " 0   timestamp    datetime64[ns, pytz.FixedOffset(330)]\n",
      " 1   open_price   float64                              \n",
      " 2   high_price   float64                              \n",
      " 3   low_price    float64                              \n",
      " 4   close_price  float64                              \n",
      " 5   volume       int64                                \n",
      " 6   scrip_id     int64                                \n",
      "dtypes: datetime64[ns, pytz.FixedOffset(330)](1), float64(4), int64(2)\n",
      "memory usage: 124.0 MB\n"
     ]
    }
   ],
   "source": [
    "#Converting timestamp dtype into datetime using pd.to_datetime This is Necessary, so we can aggregate data into defined time period example month/day etc..\n",
    "stocks_df['timestamp'] = pd.to_datetime(stocks_df['timestamp'])\n",
    "stocks_df.info()"
   ]
  },
  {
   "cell_type": "code",
   "execution_count": null,
   "metadata": {
    "colab": {
     "base_uri": "https://localhost:8080/",
     "height": 206
    },
    "executionInfo": {
     "elapsed": 420,
     "status": "ok",
     "timestamp": 1653308797251,
     "user": {
      "displayName": "Anastasia Kiiru",
      "userId": "12437046474838202979"
     },
     "user_tz": -180
    },
    "id": "z7GLDe5F4QEi",
    "outputId": "73a49604-ff73-4a15-9f17-a7e6c0d96da5"
   },
   "outputs": [
    {
     "data": {
      "text/html": [
       "\n",
       "  <div id=\"df-17706001-18ed-4c3f-9b59-4d765e3cff24\">\n",
       "    <div class=\"colab-df-container\">\n",
       "      <div>\n",
       "<style scoped>\n",
       "    .dataframe tbody tr th:only-of-type {\n",
       "        vertical-align: middle;\n",
       "    }\n",
       "\n",
       "    .dataframe tbody tr th {\n",
       "        vertical-align: top;\n",
       "    }\n",
       "\n",
       "    .dataframe thead th {\n",
       "        text-align: right;\n",
       "    }\n",
       "</style>\n",
       "<table border=\"1\" class=\"dataframe\">\n",
       "  <thead>\n",
       "    <tr style=\"text-align: right;\">\n",
       "      <th></th>\n",
       "      <th>id</th>\n",
       "      <th>name</th>\n",
       "      <th>zerodha_id</th>\n",
       "      <th>exchange</th>\n",
       "    </tr>\n",
       "  </thead>\n",
       "  <tbody>\n",
       "    <tr>\n",
       "      <th>0</th>\n",
       "      <td>1</td>\n",
       "      <td>GLENMARK</td>\n",
       "      <td>1895937</td>\n",
       "      <td>NSE</td>\n",
       "    </tr>\n",
       "    <tr>\n",
       "      <th>1</th>\n",
       "      <td>2</td>\n",
       "      <td>INDUSINDBK</td>\n",
       "      <td>1346049</td>\n",
       "      <td>NSE</td>\n",
       "    </tr>\n",
       "    <tr>\n",
       "      <th>2</th>\n",
       "      <td>3</td>\n",
       "      <td>TECHM</td>\n",
       "      <td>3465729</td>\n",
       "      <td>NSE</td>\n",
       "    </tr>\n",
       "    <tr>\n",
       "      <th>3</th>\n",
       "      <td>4</td>\n",
       "      <td>KOTAKBANK</td>\n",
       "      <td>492033</td>\n",
       "      <td>NSE</td>\n",
       "    </tr>\n",
       "    <tr>\n",
       "      <th>4</th>\n",
       "      <td>5</td>\n",
       "      <td>RELIANCE</td>\n",
       "      <td>738561</td>\n",
       "      <td>NSE</td>\n",
       "    </tr>\n",
       "  </tbody>\n",
       "</table>\n",
       "</div>\n",
       "      <button class=\"colab-df-convert\" onclick=\"convertToInteractive('df-17706001-18ed-4c3f-9b59-4d765e3cff24')\"\n",
       "              title=\"Convert this dataframe to an interactive table.\"\n",
       "              style=\"display:none;\">\n",
       "        \n",
       "  <svg xmlns=\"http://www.w3.org/2000/svg\" height=\"24px\"viewBox=\"0 0 24 24\"\n",
       "       width=\"24px\">\n",
       "    <path d=\"M0 0h24v24H0V0z\" fill=\"none\"/>\n",
       "    <path d=\"M18.56 5.44l.94 2.06.94-2.06 2.06-.94-2.06-.94-.94-2.06-.94 2.06-2.06.94zm-11 1L8.5 8.5l.94-2.06 2.06-.94-2.06-.94L8.5 2.5l-.94 2.06-2.06.94zm10 10l.94 2.06.94-2.06 2.06-.94-2.06-.94-.94-2.06-.94 2.06-2.06.94z\"/><path d=\"M17.41 7.96l-1.37-1.37c-.4-.4-.92-.59-1.43-.59-.52 0-1.04.2-1.43.59L10.3 9.45l-7.72 7.72c-.78.78-.78 2.05 0 2.83L4 21.41c.39.39.9.59 1.41.59.51 0 1.02-.2 1.41-.59l7.78-7.78 2.81-2.81c.8-.78.8-2.07 0-2.86zM5.41 20L4 18.59l7.72-7.72 1.47 1.35L5.41 20z\"/>\n",
       "  </svg>\n",
       "      </button>\n",
       "      \n",
       "  <style>\n",
       "    .colab-df-container {\n",
       "      display:flex;\n",
       "      flex-wrap:wrap;\n",
       "      gap: 12px;\n",
       "    }\n",
       "\n",
       "    .colab-df-convert {\n",
       "      background-color: #E8F0FE;\n",
       "      border: none;\n",
       "      border-radius: 50%;\n",
       "      cursor: pointer;\n",
       "      display: none;\n",
       "      fill: #1967D2;\n",
       "      height: 32px;\n",
       "      padding: 0 0 0 0;\n",
       "      width: 32px;\n",
       "    }\n",
       "\n",
       "    .colab-df-convert:hover {\n",
       "      background-color: #E2EBFA;\n",
       "      box-shadow: 0px 1px 2px rgba(60, 64, 67, 0.3), 0px 1px 3px 1px rgba(60, 64, 67, 0.15);\n",
       "      fill: #174EA6;\n",
       "    }\n",
       "\n",
       "    [theme=dark] .colab-df-convert {\n",
       "      background-color: #3B4455;\n",
       "      fill: #D2E3FC;\n",
       "    }\n",
       "\n",
       "    [theme=dark] .colab-df-convert:hover {\n",
       "      background-color: #434B5C;\n",
       "      box-shadow: 0px 1px 3px 1px rgba(0, 0, 0, 0.15);\n",
       "      filter: drop-shadow(0px 1px 2px rgba(0, 0, 0, 0.3));\n",
       "      fill: #FFFFFF;\n",
       "    }\n",
       "  </style>\n",
       "\n",
       "      <script>\n",
       "        const buttonEl =\n",
       "          document.querySelector('#df-17706001-18ed-4c3f-9b59-4d765e3cff24 button.colab-df-convert');\n",
       "        buttonEl.style.display =\n",
       "          google.colab.kernel.accessAllowed ? 'block' : 'none';\n",
       "\n",
       "        async function convertToInteractive(key) {\n",
       "          const element = document.querySelector('#df-17706001-18ed-4c3f-9b59-4d765e3cff24');\n",
       "          const dataTable =\n",
       "            await google.colab.kernel.invokeFunction('convertToInteractive',\n",
       "                                                     [key], {});\n",
       "          if (!dataTable) return;\n",
       "\n",
       "          const docLinkHtml = 'Like what you see? Visit the ' +\n",
       "            '<a target=\"_blank\" href=https://colab.research.google.com/notebooks/data_table.ipynb>data table notebook</a>'\n",
       "            + ' to learn more about interactive tables.';\n",
       "          element.innerHTML = '';\n",
       "          dataTable['output_type'] = 'display_data';\n",
       "          await google.colab.output.renderOutput(dataTable, element);\n",
       "          const docLink = document.createElement('div');\n",
       "          docLink.innerHTML = docLinkHtml;\n",
       "          element.appendChild(docLink);\n",
       "        }\n",
       "      </script>\n",
       "    </div>\n",
       "  </div>\n",
       "  "
      ],
      "text/plain": [
       "   id        name  zerodha_id exchange\n",
       "0   1    GLENMARK     1895937      NSE\n",
       "1   2  INDUSINDBK     1346049      NSE\n",
       "2   3       TECHM     3465729      NSE\n",
       "3   4   KOTAKBANK      492033      NSE\n",
       "4   5    RELIANCE      738561      NSE"
      ]
     },
     "execution_count": 15,
     "metadata": {},
     "output_type": "execute_result"
    }
   ],
   "source": [
    "#Getting the other file, mainly for the names of the shares.\n",
    "df = pd.read_csv('stock_data/core_scrip_names_till_2020_09_03.csv')\n",
    "df.head()"
   ]
  },
  {
   "cell_type": "markdown",
   "metadata": {
    "id": "4f1eb9CM4nzs"
   },
   "source": [
    "Here, the id column of this dataframe represents scrip_id of the dataframe containing close price. Hence we can Rename id as scrip_id so as to merge the two data frames."
   ]
  },
  {
   "cell_type": "code",
   "execution_count": null,
   "metadata": {
    "colab": {
     "base_uri": "https://localhost:8080/",
     "height": 206
    },
    "executionInfo": {
     "elapsed": 1496,
     "status": "ok",
     "timestamp": 1653308832154,
     "user": {
      "displayName": "Anastasia Kiiru",
      "userId": "12437046474838202979"
     },
     "user_tz": -180
    },
    "id": "uPqHlFgU4pFi",
    "outputId": "4f57d214-ad95-467c-9853-75a6a4644e0e"
   },
   "outputs": [
    {
     "data": {
      "text/html": [
       "\n",
       "  <div id=\"df-c01fc387-e75e-474e-967a-a871f2330bdd\">\n",
       "    <div class=\"colab-df-container\">\n",
       "      <div>\n",
       "<style scoped>\n",
       "    .dataframe tbody tr th:only-of-type {\n",
       "        vertical-align: middle;\n",
       "    }\n",
       "\n",
       "    .dataframe tbody tr th {\n",
       "        vertical-align: top;\n",
       "    }\n",
       "\n",
       "    .dataframe thead th {\n",
       "        text-align: right;\n",
       "    }\n",
       "</style>\n",
       "<table border=\"1\" class=\"dataframe\">\n",
       "  <thead>\n",
       "    <tr style=\"text-align: right;\">\n",
       "      <th></th>\n",
       "      <th>timestamp</th>\n",
       "      <th>open_price</th>\n",
       "      <th>high_price</th>\n",
       "      <th>low_price</th>\n",
       "      <th>close_price</th>\n",
       "      <th>volume</th>\n",
       "      <th>scrip_id</th>\n",
       "      <th>name</th>\n",
       "      <th>zerodha_id</th>\n",
       "      <th>exchange</th>\n",
       "    </tr>\n",
       "  </thead>\n",
       "  <tbody>\n",
       "    <tr>\n",
       "      <th>0</th>\n",
       "      <td>2020-02-24 09:15:00+05:30</td>\n",
       "      <td>1170.00</td>\n",
       "      <td>1170.00</td>\n",
       "      <td>1149.25</td>\n",
       "      <td>1164.60</td>\n",
       "      <td>104528</td>\n",
       "      <td>2</td>\n",
       "      <td>INDUSINDBK</td>\n",
       "      <td>1346049</td>\n",
       "      <td>NSE</td>\n",
       "    </tr>\n",
       "    <tr>\n",
       "      <th>1</th>\n",
       "      <td>2020-02-24 09:16:00+05:30</td>\n",
       "      <td>1165.60</td>\n",
       "      <td>1168.50</td>\n",
       "      <td>1159.00</td>\n",
       "      <td>1160.75</td>\n",
       "      <td>109720</td>\n",
       "      <td>2</td>\n",
       "      <td>INDUSINDBK</td>\n",
       "      <td>1346049</td>\n",
       "      <td>NSE</td>\n",
       "    </tr>\n",
       "    <tr>\n",
       "      <th>2</th>\n",
       "      <td>2020-02-24 09:17:00+05:30</td>\n",
       "      <td>1162.35</td>\n",
       "      <td>1164.45</td>\n",
       "      <td>1161.00</td>\n",
       "      <td>1163.05</td>\n",
       "      <td>48984</td>\n",
       "      <td>2</td>\n",
       "      <td>INDUSINDBK</td>\n",
       "      <td>1346049</td>\n",
       "      <td>NSE</td>\n",
       "    </tr>\n",
       "    <tr>\n",
       "      <th>3</th>\n",
       "      <td>2020-02-24 09:18:00+05:30</td>\n",
       "      <td>1164.10</td>\n",
       "      <td>1168.85</td>\n",
       "      <td>1163.65</td>\n",
       "      <td>1168.85</td>\n",
       "      <td>67387</td>\n",
       "      <td>2</td>\n",
       "      <td>INDUSINDBK</td>\n",
       "      <td>1346049</td>\n",
       "      <td>NSE</td>\n",
       "    </tr>\n",
       "    <tr>\n",
       "      <th>4</th>\n",
       "      <td>2020-02-24 09:19:00+05:30</td>\n",
       "      <td>1168.35</td>\n",
       "      <td>1173.00</td>\n",
       "      <td>1166.45</td>\n",
       "      <td>1173.00</td>\n",
       "      <td>78541</td>\n",
       "      <td>2</td>\n",
       "      <td>INDUSINDBK</td>\n",
       "      <td>1346049</td>\n",
       "      <td>NSE</td>\n",
       "    </tr>\n",
       "  </tbody>\n",
       "</table>\n",
       "</div>\n",
       "      <button class=\"colab-df-convert\" onclick=\"convertToInteractive('df-c01fc387-e75e-474e-967a-a871f2330bdd')\"\n",
       "              title=\"Convert this dataframe to an interactive table.\"\n",
       "              style=\"display:none;\">\n",
       "        \n",
       "  <svg xmlns=\"http://www.w3.org/2000/svg\" height=\"24px\"viewBox=\"0 0 24 24\"\n",
       "       width=\"24px\">\n",
       "    <path d=\"M0 0h24v24H0V0z\" fill=\"none\"/>\n",
       "    <path d=\"M18.56 5.44l.94 2.06.94-2.06 2.06-.94-2.06-.94-.94-2.06-.94 2.06-2.06.94zm-11 1L8.5 8.5l.94-2.06 2.06-.94-2.06-.94L8.5 2.5l-.94 2.06-2.06.94zm10 10l.94 2.06.94-2.06 2.06-.94-2.06-.94-.94-2.06-.94 2.06-2.06.94z\"/><path d=\"M17.41 7.96l-1.37-1.37c-.4-.4-.92-.59-1.43-.59-.52 0-1.04.2-1.43.59L10.3 9.45l-7.72 7.72c-.78.78-.78 2.05 0 2.83L4 21.41c.39.39.9.59 1.41.59.51 0 1.02-.2 1.41-.59l7.78-7.78 2.81-2.81c.8-.78.8-2.07 0-2.86zM5.41 20L4 18.59l7.72-7.72 1.47 1.35L5.41 20z\"/>\n",
       "  </svg>\n",
       "      </button>\n",
       "      \n",
       "  <style>\n",
       "    .colab-df-container {\n",
       "      display:flex;\n",
       "      flex-wrap:wrap;\n",
       "      gap: 12px;\n",
       "    }\n",
       "\n",
       "    .colab-df-convert {\n",
       "      background-color: #E8F0FE;\n",
       "      border: none;\n",
       "      border-radius: 50%;\n",
       "      cursor: pointer;\n",
       "      display: none;\n",
       "      fill: #1967D2;\n",
       "      height: 32px;\n",
       "      padding: 0 0 0 0;\n",
       "      width: 32px;\n",
       "    }\n",
       "\n",
       "    .colab-df-convert:hover {\n",
       "      background-color: #E2EBFA;\n",
       "      box-shadow: 0px 1px 2px rgba(60, 64, 67, 0.3), 0px 1px 3px 1px rgba(60, 64, 67, 0.15);\n",
       "      fill: #174EA6;\n",
       "    }\n",
       "\n",
       "    [theme=dark] .colab-df-convert {\n",
       "      background-color: #3B4455;\n",
       "      fill: #D2E3FC;\n",
       "    }\n",
       "\n",
       "    [theme=dark] .colab-df-convert:hover {\n",
       "      background-color: #434B5C;\n",
       "      box-shadow: 0px 1px 3px 1px rgba(0, 0, 0, 0.15);\n",
       "      filter: drop-shadow(0px 1px 2px rgba(0, 0, 0, 0.3));\n",
       "      fill: #FFFFFF;\n",
       "    }\n",
       "  </style>\n",
       "\n",
       "      <script>\n",
       "        const buttonEl =\n",
       "          document.querySelector('#df-c01fc387-e75e-474e-967a-a871f2330bdd button.colab-df-convert');\n",
       "        buttonEl.style.display =\n",
       "          google.colab.kernel.accessAllowed ? 'block' : 'none';\n",
       "\n",
       "        async function convertToInteractive(key) {\n",
       "          const element = document.querySelector('#df-c01fc387-e75e-474e-967a-a871f2330bdd');\n",
       "          const dataTable =\n",
       "            await google.colab.kernel.invokeFunction('convertToInteractive',\n",
       "                                                     [key], {});\n",
       "          if (!dataTable) return;\n",
       "\n",
       "          const docLinkHtml = 'Like what you see? Visit the ' +\n",
       "            '<a target=\"_blank\" href=https://colab.research.google.com/notebooks/data_table.ipynb>data table notebook</a>'\n",
       "            + ' to learn more about interactive tables.';\n",
       "          element.innerHTML = '';\n",
       "          dataTable['output_type'] = 'display_data';\n",
       "          await google.colab.output.renderOutput(dataTable, element);\n",
       "          const docLink = document.createElement('div');\n",
       "          docLink.innerHTML = docLinkHtml;\n",
       "          element.appendChild(docLink);\n",
       "        }\n",
       "      </script>\n",
       "    </div>\n",
       "  </div>\n",
       "  "
      ],
      "text/plain": [
       "                  timestamp  open_price  high_price  low_price  close_price  \\\n",
       "0 2020-02-24 09:15:00+05:30     1170.00     1170.00    1149.25      1164.60   \n",
       "1 2020-02-24 09:16:00+05:30     1165.60     1168.50    1159.00      1160.75   \n",
       "2 2020-02-24 09:17:00+05:30     1162.35     1164.45    1161.00      1163.05   \n",
       "3 2020-02-24 09:18:00+05:30     1164.10     1168.85    1163.65      1168.85   \n",
       "4 2020-02-24 09:19:00+05:30     1168.35     1173.00    1166.45      1173.00   \n",
       "\n",
       "   volume  scrip_id        name  zerodha_id exchange  \n",
       "0  104528         2  INDUSINDBK     1346049      NSE  \n",
       "1  109720         2  INDUSINDBK     1346049      NSE  \n",
       "2   48984         2  INDUSINDBK     1346049      NSE  \n",
       "3   67387         2  INDUSINDBK     1346049      NSE  \n",
       "4   78541         2  INDUSINDBK     1346049      NSE  "
      ]
     },
     "execution_count": 16,
     "metadata": {},
     "output_type": "execute_result"
    }
   ],
   "source": [
    "df.rename(columns = {'id':'scrip_id'}, inplace=True)\n",
    "merged_df = stocks_df.merge(df, on='scrip_id')\n",
    "merged_df.head()"
   ]
  },
  {
   "cell_type": "code",
   "execution_count": null,
   "metadata": {
    "colab": {
     "base_uri": "https://localhost:8080/",
     "height": 455
    },
    "executionInfo": {
     "elapsed": 592,
     "status": "ok",
     "timestamp": 1653308843408,
     "user": {
      "displayName": "Anastasia Kiiru",
      "userId": "12437046474838202979"
     },
     "user_tz": -180
    },
    "id": "f9zdXIi-4tUe",
    "outputId": "9f57de37-e62e-47ca-bbec-f05a7c445323"
   },
   "outputs": [
    {
     "data": {
      "text/html": [
       "\n",
       "  <div id=\"df-466f8155-4035-446f-a93c-496cbb5139a4\">\n",
       "    <div class=\"colab-df-container\">\n",
       "      <div>\n",
       "<style scoped>\n",
       "    .dataframe tbody tr th:only-of-type {\n",
       "        vertical-align: middle;\n",
       "    }\n",
       "\n",
       "    .dataframe tbody tr th {\n",
       "        vertical-align: top;\n",
       "    }\n",
       "\n",
       "    .dataframe thead th {\n",
       "        text-align: right;\n",
       "    }\n",
       "</style>\n",
       "<table border=\"1\" class=\"dataframe\">\n",
       "  <thead>\n",
       "    <tr style=\"text-align: right;\">\n",
       "      <th></th>\n",
       "      <th>open_price</th>\n",
       "      <th>high_price</th>\n",
       "      <th>low_price</th>\n",
       "      <th>close_price</th>\n",
       "      <th>volume</th>\n",
       "      <th>scrip_id</th>\n",
       "      <th>name</th>\n",
       "    </tr>\n",
       "    <tr>\n",
       "      <th>timestamp</th>\n",
       "      <th></th>\n",
       "      <th></th>\n",
       "      <th></th>\n",
       "      <th></th>\n",
       "      <th></th>\n",
       "      <th></th>\n",
       "      <th></th>\n",
       "    </tr>\n",
       "  </thead>\n",
       "  <tbody>\n",
       "    <tr>\n",
       "      <th>2020-02-24 09:15:00+05:30</th>\n",
       "      <td>1170.00</td>\n",
       "      <td>1170.00</td>\n",
       "      <td>1149.25</td>\n",
       "      <td>1164.60</td>\n",
       "      <td>104528</td>\n",
       "      <td>2</td>\n",
       "      <td>INDUSINDBK</td>\n",
       "    </tr>\n",
       "    <tr>\n",
       "      <th>2020-02-24 09:16:00+05:30</th>\n",
       "      <td>1165.60</td>\n",
       "      <td>1168.50</td>\n",
       "      <td>1159.00</td>\n",
       "      <td>1160.75</td>\n",
       "      <td>109720</td>\n",
       "      <td>2</td>\n",
       "      <td>INDUSINDBK</td>\n",
       "    </tr>\n",
       "    <tr>\n",
       "      <th>2020-02-24 09:17:00+05:30</th>\n",
       "      <td>1162.35</td>\n",
       "      <td>1164.45</td>\n",
       "      <td>1161.00</td>\n",
       "      <td>1163.05</td>\n",
       "      <td>48984</td>\n",
       "      <td>2</td>\n",
       "      <td>INDUSINDBK</td>\n",
       "    </tr>\n",
       "    <tr>\n",
       "      <th>2020-02-24 09:18:00+05:30</th>\n",
       "      <td>1164.10</td>\n",
       "      <td>1168.85</td>\n",
       "      <td>1163.65</td>\n",
       "      <td>1168.85</td>\n",
       "      <td>67387</td>\n",
       "      <td>2</td>\n",
       "      <td>INDUSINDBK</td>\n",
       "    </tr>\n",
       "    <tr>\n",
       "      <th>2020-02-24 09:19:00+05:30</th>\n",
       "      <td>1168.35</td>\n",
       "      <td>1173.00</td>\n",
       "      <td>1166.45</td>\n",
       "      <td>1173.00</td>\n",
       "      <td>78541</td>\n",
       "      <td>2</td>\n",
       "      <td>INDUSINDBK</td>\n",
       "    </tr>\n",
       "    <tr>\n",
       "      <th>...</th>\n",
       "      <td>...</td>\n",
       "      <td>...</td>\n",
       "      <td>...</td>\n",
       "      <td>...</td>\n",
       "      <td>...</td>\n",
       "      <td>...</td>\n",
       "      <td>...</td>\n",
       "    </tr>\n",
       "    <tr>\n",
       "      <th>2020-09-03 15:25:00+05:30</th>\n",
       "      <td>1128.20</td>\n",
       "      <td>1129.00</td>\n",
       "      <td>1127.85</td>\n",
       "      <td>1127.85</td>\n",
       "      <td>61600</td>\n",
       "      <td>39</td>\n",
       "      <td>HDFCBANK20SEPFUT</td>\n",
       "    </tr>\n",
       "    <tr>\n",
       "      <th>2020-09-03 15:26:00+05:30</th>\n",
       "      <td>1127.70</td>\n",
       "      <td>1127.95</td>\n",
       "      <td>1126.50</td>\n",
       "      <td>1126.60</td>\n",
       "      <td>40700</td>\n",
       "      <td>39</td>\n",
       "      <td>HDFCBANK20SEPFUT</td>\n",
       "    </tr>\n",
       "    <tr>\n",
       "      <th>2020-09-03 15:27:00+05:30</th>\n",
       "      <td>1126.80</td>\n",
       "      <td>1126.85</td>\n",
       "      <td>1125.85</td>\n",
       "      <td>1126.70</td>\n",
       "      <td>26950</td>\n",
       "      <td>39</td>\n",
       "      <td>HDFCBANK20SEPFUT</td>\n",
       "    </tr>\n",
       "    <tr>\n",
       "      <th>2020-09-03 15:28:00+05:30</th>\n",
       "      <td>1126.80</td>\n",
       "      <td>1126.80</td>\n",
       "      <td>1125.50</td>\n",
       "      <td>1125.50</td>\n",
       "      <td>56650</td>\n",
       "      <td>39</td>\n",
       "      <td>HDFCBANK20SEPFUT</td>\n",
       "    </tr>\n",
       "    <tr>\n",
       "      <th>2020-09-03 15:29:00+05:30</th>\n",
       "      <td>1125.75</td>\n",
       "      <td>1127.50</td>\n",
       "      <td>1125.50</td>\n",
       "      <td>1126.75</td>\n",
       "      <td>75900</td>\n",
       "      <td>39</td>\n",
       "      <td>HDFCBANK20SEPFUT</td>\n",
       "    </tr>\n",
       "  </tbody>\n",
       "</table>\n",
       "<p>2321232 rows × 7 columns</p>\n",
       "</div>\n",
       "      <button class=\"colab-df-convert\" onclick=\"convertToInteractive('df-466f8155-4035-446f-a93c-496cbb5139a4')\"\n",
       "              title=\"Convert this dataframe to an interactive table.\"\n",
       "              style=\"display:none;\">\n",
       "        \n",
       "  <svg xmlns=\"http://www.w3.org/2000/svg\" height=\"24px\"viewBox=\"0 0 24 24\"\n",
       "       width=\"24px\">\n",
       "    <path d=\"M0 0h24v24H0V0z\" fill=\"none\"/>\n",
       "    <path d=\"M18.56 5.44l.94 2.06.94-2.06 2.06-.94-2.06-.94-.94-2.06-.94 2.06-2.06.94zm-11 1L8.5 8.5l.94-2.06 2.06-.94-2.06-.94L8.5 2.5l-.94 2.06-2.06.94zm10 10l.94 2.06.94-2.06 2.06-.94-2.06-.94-.94-2.06-.94 2.06-2.06.94z\"/><path d=\"M17.41 7.96l-1.37-1.37c-.4-.4-.92-.59-1.43-.59-.52 0-1.04.2-1.43.59L10.3 9.45l-7.72 7.72c-.78.78-.78 2.05 0 2.83L4 21.41c.39.39.9.59 1.41.59.51 0 1.02-.2 1.41-.59l7.78-7.78 2.81-2.81c.8-.78.8-2.07 0-2.86zM5.41 20L4 18.59l7.72-7.72 1.47 1.35L5.41 20z\"/>\n",
       "  </svg>\n",
       "      </button>\n",
       "      \n",
       "  <style>\n",
       "    .colab-df-container {\n",
       "      display:flex;\n",
       "      flex-wrap:wrap;\n",
       "      gap: 12px;\n",
       "    }\n",
       "\n",
       "    .colab-df-convert {\n",
       "      background-color: #E8F0FE;\n",
       "      border: none;\n",
       "      border-radius: 50%;\n",
       "      cursor: pointer;\n",
       "      display: none;\n",
       "      fill: #1967D2;\n",
       "      height: 32px;\n",
       "      padding: 0 0 0 0;\n",
       "      width: 32px;\n",
       "    }\n",
       "\n",
       "    .colab-df-convert:hover {\n",
       "      background-color: #E2EBFA;\n",
       "      box-shadow: 0px 1px 2px rgba(60, 64, 67, 0.3), 0px 1px 3px 1px rgba(60, 64, 67, 0.15);\n",
       "      fill: #174EA6;\n",
       "    }\n",
       "\n",
       "    [theme=dark] .colab-df-convert {\n",
       "      background-color: #3B4455;\n",
       "      fill: #D2E3FC;\n",
       "    }\n",
       "\n",
       "    [theme=dark] .colab-df-convert:hover {\n",
       "      background-color: #434B5C;\n",
       "      box-shadow: 0px 1px 3px 1px rgba(0, 0, 0, 0.15);\n",
       "      filter: drop-shadow(0px 1px 2px rgba(0, 0, 0, 0.3));\n",
       "      fill: #FFFFFF;\n",
       "    }\n",
       "  </style>\n",
       "\n",
       "      <script>\n",
       "        const buttonEl =\n",
       "          document.querySelector('#df-466f8155-4035-446f-a93c-496cbb5139a4 button.colab-df-convert');\n",
       "        buttonEl.style.display =\n",
       "          google.colab.kernel.accessAllowed ? 'block' : 'none';\n",
       "\n",
       "        async function convertToInteractive(key) {\n",
       "          const element = document.querySelector('#df-466f8155-4035-446f-a93c-496cbb5139a4');\n",
       "          const dataTable =\n",
       "            await google.colab.kernel.invokeFunction('convertToInteractive',\n",
       "                                                     [key], {});\n",
       "          if (!dataTable) return;\n",
       "\n",
       "          const docLinkHtml = 'Like what you see? Visit the ' +\n",
       "            '<a target=\"_blank\" href=https://colab.research.google.com/notebooks/data_table.ipynb>data table notebook</a>'\n",
       "            + ' to learn more about interactive tables.';\n",
       "          element.innerHTML = '';\n",
       "          dataTable['output_type'] = 'display_data';\n",
       "          await google.colab.output.renderOutput(dataTable, element);\n",
       "          const docLink = document.createElement('div');\n",
       "          docLink.innerHTML = docLinkHtml;\n",
       "          element.appendChild(docLink);\n",
       "        }\n",
       "      </script>\n",
       "    </div>\n",
       "  </div>\n",
       "  "
      ],
      "text/plain": [
       "                           open_price  high_price  low_price  close_price  \\\n",
       "timestamp                                                                   \n",
       "2020-02-24 09:15:00+05:30     1170.00     1170.00    1149.25      1164.60   \n",
       "2020-02-24 09:16:00+05:30     1165.60     1168.50    1159.00      1160.75   \n",
       "2020-02-24 09:17:00+05:30     1162.35     1164.45    1161.00      1163.05   \n",
       "2020-02-24 09:18:00+05:30     1164.10     1168.85    1163.65      1168.85   \n",
       "2020-02-24 09:19:00+05:30     1168.35     1173.00    1166.45      1173.00   \n",
       "...                               ...         ...        ...          ...   \n",
       "2020-09-03 15:25:00+05:30     1128.20     1129.00    1127.85      1127.85   \n",
       "2020-09-03 15:26:00+05:30     1127.70     1127.95    1126.50      1126.60   \n",
       "2020-09-03 15:27:00+05:30     1126.80     1126.85    1125.85      1126.70   \n",
       "2020-09-03 15:28:00+05:30     1126.80     1126.80    1125.50      1125.50   \n",
       "2020-09-03 15:29:00+05:30     1125.75     1127.50    1125.50      1126.75   \n",
       "\n",
       "                           volume  scrip_id              name  \n",
       "timestamp                                                      \n",
       "2020-02-24 09:15:00+05:30  104528         2        INDUSINDBK  \n",
       "2020-02-24 09:16:00+05:30  109720         2        INDUSINDBK  \n",
       "2020-02-24 09:17:00+05:30   48984         2        INDUSINDBK  \n",
       "2020-02-24 09:18:00+05:30   67387         2        INDUSINDBK  \n",
       "2020-02-24 09:19:00+05:30   78541         2        INDUSINDBK  \n",
       "...                           ...       ...               ...  \n",
       "2020-09-03 15:25:00+05:30   61600        39  HDFCBANK20SEPFUT  \n",
       "2020-09-03 15:26:00+05:30   40700        39  HDFCBANK20SEPFUT  \n",
       "2020-09-03 15:27:00+05:30   26950        39  HDFCBANK20SEPFUT  \n",
       "2020-09-03 15:28:00+05:30   56650        39  HDFCBANK20SEPFUT  \n",
       "2020-09-03 15:29:00+05:30   75900        39  HDFCBANK20SEPFUT  \n",
       "\n",
       "[2321232 rows x 7 columns]"
      ]
     },
     "execution_count": 17,
     "metadata": {},
     "output_type": "execute_result"
    }
   ],
   "source": [
    "timestamp_df = merged_df.set_index('timestamp', inplace=False)\n",
    "timestamp_df.drop(['zerodha_id','exchange'], axis=1, inplace=True)\n",
    "timestamp_df"
   ]
  },
  {
   "cell_type": "code",
   "execution_count": null,
   "metadata": {
    "colab": {
     "base_uri": "https://localhost:8080/",
     "height": 423
    },
    "executionInfo": {
     "elapsed": 644,
     "status": "ok",
     "timestamp": 1653308858261,
     "user": {
      "displayName": "Anastasia Kiiru",
      "userId": "12437046474838202979"
     },
     "user_tz": -180
    },
    "id": "vZoPcTjx4w-B",
    "outputId": "25972c3a-42d2-4805-b1f6-612a86949287"
   },
   "outputs": [
    {
     "data": {
      "text/html": [
       "\n",
       "  <div id=\"df-6d54b412-1875-4864-baa0-739d16d4b353\">\n",
       "    <div class=\"colab-df-container\">\n",
       "      <div>\n",
       "<style scoped>\n",
       "    .dataframe tbody tr th:only-of-type {\n",
       "        vertical-align: middle;\n",
       "    }\n",
       "\n",
       "    .dataframe tbody tr th {\n",
       "        vertical-align: top;\n",
       "    }\n",
       "\n",
       "    .dataframe thead th {\n",
       "        text-align: right;\n",
       "    }\n",
       "</style>\n",
       "<table border=\"1\" class=\"dataframe\">\n",
       "  <thead>\n",
       "    <tr style=\"text-align: right;\">\n",
       "      <th></th>\n",
       "      <th>timestamp</th>\n",
       "      <th>open_price</th>\n",
       "      <th>high_price</th>\n",
       "      <th>low_price</th>\n",
       "      <th>close_price</th>\n",
       "      <th>volume</th>\n",
       "      <th>scrip_id</th>\n",
       "      <th>name</th>\n",
       "    </tr>\n",
       "  </thead>\n",
       "  <tbody>\n",
       "    <tr>\n",
       "      <th>0</th>\n",
       "      <td>2020-02-24 09:15:00+05:30</td>\n",
       "      <td>1170.00</td>\n",
       "      <td>1170.00</td>\n",
       "      <td>1149.25</td>\n",
       "      <td>1164.60</td>\n",
       "      <td>104528</td>\n",
       "      <td>2</td>\n",
       "      <td>INDUSINDBK</td>\n",
       "    </tr>\n",
       "    <tr>\n",
       "      <th>1</th>\n",
       "      <td>2020-02-24 09:16:00+05:30</td>\n",
       "      <td>1165.60</td>\n",
       "      <td>1168.50</td>\n",
       "      <td>1159.00</td>\n",
       "      <td>1160.75</td>\n",
       "      <td>109720</td>\n",
       "      <td>2</td>\n",
       "      <td>INDUSINDBK</td>\n",
       "    </tr>\n",
       "    <tr>\n",
       "      <th>2</th>\n",
       "      <td>2020-02-24 09:17:00+05:30</td>\n",
       "      <td>1162.35</td>\n",
       "      <td>1164.45</td>\n",
       "      <td>1161.00</td>\n",
       "      <td>1163.05</td>\n",
       "      <td>48984</td>\n",
       "      <td>2</td>\n",
       "      <td>INDUSINDBK</td>\n",
       "    </tr>\n",
       "    <tr>\n",
       "      <th>3</th>\n",
       "      <td>2020-02-24 09:18:00+05:30</td>\n",
       "      <td>1164.10</td>\n",
       "      <td>1168.85</td>\n",
       "      <td>1163.65</td>\n",
       "      <td>1168.85</td>\n",
       "      <td>67387</td>\n",
       "      <td>2</td>\n",
       "      <td>INDUSINDBK</td>\n",
       "    </tr>\n",
       "    <tr>\n",
       "      <th>4</th>\n",
       "      <td>2020-02-24 09:19:00+05:30</td>\n",
       "      <td>1168.35</td>\n",
       "      <td>1173.00</td>\n",
       "      <td>1166.45</td>\n",
       "      <td>1173.00</td>\n",
       "      <td>78541</td>\n",
       "      <td>2</td>\n",
       "      <td>INDUSINDBK</td>\n",
       "    </tr>\n",
       "    <tr>\n",
       "      <th>...</th>\n",
       "      <td>...</td>\n",
       "      <td>...</td>\n",
       "      <td>...</td>\n",
       "      <td>...</td>\n",
       "      <td>...</td>\n",
       "      <td>...</td>\n",
       "      <td>...</td>\n",
       "      <td>...</td>\n",
       "    </tr>\n",
       "    <tr>\n",
       "      <th>2321227</th>\n",
       "      <td>2020-09-03 15:25:00+05:30</td>\n",
       "      <td>1128.20</td>\n",
       "      <td>1129.00</td>\n",
       "      <td>1127.85</td>\n",
       "      <td>1127.85</td>\n",
       "      <td>61600</td>\n",
       "      <td>39</td>\n",
       "      <td>HDFCBANK20SEPFUT</td>\n",
       "    </tr>\n",
       "    <tr>\n",
       "      <th>2321228</th>\n",
       "      <td>2020-09-03 15:26:00+05:30</td>\n",
       "      <td>1127.70</td>\n",
       "      <td>1127.95</td>\n",
       "      <td>1126.50</td>\n",
       "      <td>1126.60</td>\n",
       "      <td>40700</td>\n",
       "      <td>39</td>\n",
       "      <td>HDFCBANK20SEPFUT</td>\n",
       "    </tr>\n",
       "    <tr>\n",
       "      <th>2321229</th>\n",
       "      <td>2020-09-03 15:27:00+05:30</td>\n",
       "      <td>1126.80</td>\n",
       "      <td>1126.85</td>\n",
       "      <td>1125.85</td>\n",
       "      <td>1126.70</td>\n",
       "      <td>26950</td>\n",
       "      <td>39</td>\n",
       "      <td>HDFCBANK20SEPFUT</td>\n",
       "    </tr>\n",
       "    <tr>\n",
       "      <th>2321230</th>\n",
       "      <td>2020-09-03 15:28:00+05:30</td>\n",
       "      <td>1126.80</td>\n",
       "      <td>1126.80</td>\n",
       "      <td>1125.50</td>\n",
       "      <td>1125.50</td>\n",
       "      <td>56650</td>\n",
       "      <td>39</td>\n",
       "      <td>HDFCBANK20SEPFUT</td>\n",
       "    </tr>\n",
       "    <tr>\n",
       "      <th>2321231</th>\n",
       "      <td>2020-09-03 15:29:00+05:30</td>\n",
       "      <td>1125.75</td>\n",
       "      <td>1127.50</td>\n",
       "      <td>1125.50</td>\n",
       "      <td>1126.75</td>\n",
       "      <td>75900</td>\n",
       "      <td>39</td>\n",
       "      <td>HDFCBANK20SEPFUT</td>\n",
       "    </tr>\n",
       "  </tbody>\n",
       "</table>\n",
       "<p>2321232 rows × 8 columns</p>\n",
       "</div>\n",
       "      <button class=\"colab-df-convert\" onclick=\"convertToInteractive('df-6d54b412-1875-4864-baa0-739d16d4b353')\"\n",
       "              title=\"Convert this dataframe to an interactive table.\"\n",
       "              style=\"display:none;\">\n",
       "        \n",
       "  <svg xmlns=\"http://www.w3.org/2000/svg\" height=\"24px\"viewBox=\"0 0 24 24\"\n",
       "       width=\"24px\">\n",
       "    <path d=\"M0 0h24v24H0V0z\" fill=\"none\"/>\n",
       "    <path d=\"M18.56 5.44l.94 2.06.94-2.06 2.06-.94-2.06-.94-.94-2.06-.94 2.06-2.06.94zm-11 1L8.5 8.5l.94-2.06 2.06-.94-2.06-.94L8.5 2.5l-.94 2.06-2.06.94zm10 10l.94 2.06.94-2.06 2.06-.94-2.06-.94-.94-2.06-.94 2.06-2.06.94z\"/><path d=\"M17.41 7.96l-1.37-1.37c-.4-.4-.92-.59-1.43-.59-.52 0-1.04.2-1.43.59L10.3 9.45l-7.72 7.72c-.78.78-.78 2.05 0 2.83L4 21.41c.39.39.9.59 1.41.59.51 0 1.02-.2 1.41-.59l7.78-7.78 2.81-2.81c.8-.78.8-2.07 0-2.86zM5.41 20L4 18.59l7.72-7.72 1.47 1.35L5.41 20z\"/>\n",
       "  </svg>\n",
       "      </button>\n",
       "      \n",
       "  <style>\n",
       "    .colab-df-container {\n",
       "      display:flex;\n",
       "      flex-wrap:wrap;\n",
       "      gap: 12px;\n",
       "    }\n",
       "\n",
       "    .colab-df-convert {\n",
       "      background-color: #E8F0FE;\n",
       "      border: none;\n",
       "      border-radius: 50%;\n",
       "      cursor: pointer;\n",
       "      display: none;\n",
       "      fill: #1967D2;\n",
       "      height: 32px;\n",
       "      padding: 0 0 0 0;\n",
       "      width: 32px;\n",
       "    }\n",
       "\n",
       "    .colab-df-convert:hover {\n",
       "      background-color: #E2EBFA;\n",
       "      box-shadow: 0px 1px 2px rgba(60, 64, 67, 0.3), 0px 1px 3px 1px rgba(60, 64, 67, 0.15);\n",
       "      fill: #174EA6;\n",
       "    }\n",
       "\n",
       "    [theme=dark] .colab-df-convert {\n",
       "      background-color: #3B4455;\n",
       "      fill: #D2E3FC;\n",
       "    }\n",
       "\n",
       "    [theme=dark] .colab-df-convert:hover {\n",
       "      background-color: #434B5C;\n",
       "      box-shadow: 0px 1px 3px 1px rgba(0, 0, 0, 0.15);\n",
       "      filter: drop-shadow(0px 1px 2px rgba(0, 0, 0, 0.3));\n",
       "      fill: #FFFFFF;\n",
       "    }\n",
       "  </style>\n",
       "\n",
       "      <script>\n",
       "        const buttonEl =\n",
       "          document.querySelector('#df-6d54b412-1875-4864-baa0-739d16d4b353 button.colab-df-convert');\n",
       "        buttonEl.style.display =\n",
       "          google.colab.kernel.accessAllowed ? 'block' : 'none';\n",
       "\n",
       "        async function convertToInteractive(key) {\n",
       "          const element = document.querySelector('#df-6d54b412-1875-4864-baa0-739d16d4b353');\n",
       "          const dataTable =\n",
       "            await google.colab.kernel.invokeFunction('convertToInteractive',\n",
       "                                                     [key], {});\n",
       "          if (!dataTable) return;\n",
       "\n",
       "          const docLinkHtml = 'Like what you see? Visit the ' +\n",
       "            '<a target=\"_blank\" href=https://colab.research.google.com/notebooks/data_table.ipynb>data table notebook</a>'\n",
       "            + ' to learn more about interactive tables.';\n",
       "          element.innerHTML = '';\n",
       "          dataTable['output_type'] = 'display_data';\n",
       "          await google.colab.output.renderOutput(dataTable, element);\n",
       "          const docLink = document.createElement('div');\n",
       "          docLink.innerHTML = docLinkHtml;\n",
       "          element.appendChild(docLink);\n",
       "        }\n",
       "      </script>\n",
       "    </div>\n",
       "  </div>\n",
       "  "
      ],
      "text/plain": [
       "                        timestamp  open_price  high_price  low_price  \\\n",
       "0       2020-02-24 09:15:00+05:30     1170.00     1170.00    1149.25   \n",
       "1       2020-02-24 09:16:00+05:30     1165.60     1168.50    1159.00   \n",
       "2       2020-02-24 09:17:00+05:30     1162.35     1164.45    1161.00   \n",
       "3       2020-02-24 09:18:00+05:30     1164.10     1168.85    1163.65   \n",
       "4       2020-02-24 09:19:00+05:30     1168.35     1173.00    1166.45   \n",
       "...                           ...         ...         ...        ...   \n",
       "2321227 2020-09-03 15:25:00+05:30     1128.20     1129.00    1127.85   \n",
       "2321228 2020-09-03 15:26:00+05:30     1127.70     1127.95    1126.50   \n",
       "2321229 2020-09-03 15:27:00+05:30     1126.80     1126.85    1125.85   \n",
       "2321230 2020-09-03 15:28:00+05:30     1126.80     1126.80    1125.50   \n",
       "2321231 2020-09-03 15:29:00+05:30     1125.75     1127.50    1125.50   \n",
       "\n",
       "         close_price  volume  scrip_id              name  \n",
       "0            1164.60  104528         2        INDUSINDBK  \n",
       "1            1160.75  109720         2        INDUSINDBK  \n",
       "2            1163.05   48984         2        INDUSINDBK  \n",
       "3            1168.85   67387         2        INDUSINDBK  \n",
       "4            1173.00   78541         2        INDUSINDBK  \n",
       "...              ...     ...       ...               ...  \n",
       "2321227      1127.85   61600        39  HDFCBANK20SEPFUT  \n",
       "2321228      1126.60   40700        39  HDFCBANK20SEPFUT  \n",
       "2321229      1126.70   26950        39  HDFCBANK20SEPFUT  \n",
       "2321230      1125.50   56650        39  HDFCBANK20SEPFUT  \n",
       "2321231      1126.75   75900        39  HDFCBANK20SEPFUT  \n",
       "\n",
       "[2321232 rows x 8 columns]"
      ]
     },
     "execution_count": 18,
     "metadata": {},
     "output_type": "execute_result"
    }
   ],
   "source": [
    "merged_df.drop(['zerodha_id','exchange'], axis=1, inplace=True)\n",
    "merged_df"
   ]
  },
  {
   "cell_type": "markdown",
   "metadata": {
    "id": "r5if3raX44GZ"
   },
   "source": [
    "The Only Different Between merged_df and timestamp_df is the index as timestamp. You will find out soon why I have done this"
   ]
  },
  {
   "cell_type": "code",
   "execution_count": null,
   "metadata": {
    "colab": {
     "base_uri": "https://localhost:8080/"
    },
    "executionInfo": {
     "elapsed": 407,
     "status": "ok",
     "timestamp": 1653308893441,
     "user": {
      "displayName": "Anastasia Kiiru",
      "userId": "12437046474838202979"
     },
     "user_tz": -180
    },
    "id": "2oqa30Sj43Do",
    "outputId": "7e5ea520-111f-4d21-f860-82be99cfddba"
   },
   "outputs": [
    {
     "name": "stdout",
     "output_type": "stream",
     "text": [
      "<class 'pandas.core.frame.DataFrame'>\n",
      "Int64Index: 2321232 entries, 0 to 2321231\n",
      "Data columns (total 8 columns):\n",
      " #   Column       Dtype                                \n",
      "---  ------       -----                                \n",
      " 0   timestamp    datetime64[ns, pytz.FixedOffset(330)]\n",
      " 1   open_price   float64                              \n",
      " 2   high_price   float64                              \n",
      " 3   low_price    float64                              \n",
      " 4   close_price  float64                              \n",
      " 5   volume       int64                                \n",
      " 6   scrip_id     int64                                \n",
      " 7   name         object                               \n",
      "dtypes: datetime64[ns, pytz.FixedOffset(330)](1), float64(4), int64(2), object(1)\n",
      "memory usage: 159.4+ MB\n"
     ]
    }
   ],
   "source": [
    "merged_df.info()"
   ]
  },
  {
   "cell_type": "code",
   "execution_count": null,
   "metadata": {
    "colab": {
     "base_uri": "https://localhost:8080/"
    },
    "executionInfo": {
     "elapsed": 887,
     "status": "ok",
     "timestamp": 1653308905843,
     "user": {
      "displayName": "Anastasia Kiiru",
      "userId": "12437046474838202979"
     },
     "user_tz": -180
    },
    "id": "VuNBqeV_48j6",
    "outputId": "e256c5c1-0483-4d17-9ccd-98809fe39669"
   },
   "outputs": [
    {
     "data": {
      "text/plain": [
       "array(['INDUSINDBK', 'GLENMARK', 'TECHM', 'KOTAKBANK', 'RELIANCE',\n",
       "       'HINDUNILVR', 'HDFCBANK', 'INFY', 'ADANIPORTS', 'WIPRO', 'ONGC',\n",
       "       'HDFC', 'TCS', 'RECLTD', 'NLCINDIA', 'PTC', 'GAIL', 'ITC', 'SBIN',\n",
       "       'SUNPHARMA', 'POWERGRID', 'CIPLA', 'ZEEL', 'M&M', 'IBULHSGFIN',\n",
       "       'VEDL', 'AXISBANK', 'HINDALCO', 'ICICIBANK', 'MUTHOOTFIN',\n",
       "       'MARUTI', 'BHARTIARTL', 'INFRATEL', 'PNBHOUSING', 'PFC',\n",
       "       'NIFTY 50', 'SENSEX', 'RELINFRA', 'BEL', 'DABUR', 'AUROPHARMA',\n",
       "       'JBCHEPHARM', 'VMART', 'PVR', 'AARTIIND', 'ESCORTS', 'IOC',\n",
       "       'ABFRL', 'HCLTECH', 'IGL', 'LUPIN', 'APOLLOHOSP', 'TORNTPHARM',\n",
       "       'NIFTY20DEC9000PE', 'NIFTY20DEC8000PE', 'NIFTY20DEC10000CE',\n",
       "       'NIFTY20DEC9000CE', 'NIFTY20DEC10000PE', 'NIFTY20DEC8000CE',\n",
       "       'HDFCBANK20AUGFUT', 'NIFTY20AUGFUT', 'NIFTY20AUG10000CE',\n",
       "       'RELIANCE20AUGFUT', 'NIFTY20AUG10000PE', 'RELIANCE20SEPFUT',\n",
       "       'HDFCBANK20SEPFUT'], dtype=object)"
      ]
     },
     "execution_count": 20,
     "metadata": {},
     "output_type": "execute_result"
    }
   ],
   "source": [
    "merged_df['name'].unique()"
   ]
  },
  {
   "cell_type": "code",
   "execution_count": null,
   "metadata": {
    "colab": {
     "base_uri": "https://localhost:8080/",
     "height": 316
    },
    "executionInfo": {
     "elapsed": 464,
     "status": "ok",
     "timestamp": 1653308993288,
     "user": {
      "displayName": "Anastasia Kiiru",
      "userId": "12437046474838202979"
     },
     "user_tz": -180
    },
    "id": "AVjD_4BP5Axz",
    "outputId": "d4fe4f81-ddd8-4c9a-e4df-8ea22062fe73"
   },
   "outputs": [
    {
     "name": "stderr",
     "output_type": "stream",
     "text": [
      "/usr/local/lib/python3.7/dist-packages/ipykernel_launcher.py:5: SettingWithCopyWarning: \n",
      "A value is trying to be set on a copy of a slice from a DataFrame.\n",
      "Try using .loc[row_indexer,col_indexer] = value instead\n",
      "\n",
      "See the caveats in the documentation: https://pandas.pydata.org/pandas-docs/stable/user_guide/indexing.html#returning-a-view-versus-a-copy\n",
      "  \"\"\"\n"
     ]
    },
    {
     "data": {
      "text/html": [
       "\n",
       "  <div id=\"df-756ee999-62f4-4736-9940-944d08225125\">\n",
       "    <div class=\"colab-df-container\">\n",
       "      <div>\n",
       "<style scoped>\n",
       "    .dataframe tbody tr th:only-of-type {\n",
       "        vertical-align: middle;\n",
       "    }\n",
       "\n",
       "    .dataframe tbody tr th {\n",
       "        vertical-align: top;\n",
       "    }\n",
       "\n",
       "    .dataframe thead th {\n",
       "        text-align: right;\n",
       "    }\n",
       "</style>\n",
       "<table border=\"1\" class=\"dataframe\">\n",
       "  <thead>\n",
       "    <tr style=\"text-align: right;\">\n",
       "      <th></th>\n",
       "      <th>timestamp</th>\n",
       "      <th>open_price</th>\n",
       "      <th>high_price</th>\n",
       "      <th>low_price</th>\n",
       "      <th>close_price</th>\n",
       "      <th>volume</th>\n",
       "      <th>scrip_id</th>\n",
       "      <th>name</th>\n",
       "      <th>month</th>\n",
       "    </tr>\n",
       "  </thead>\n",
       "  <tbody>\n",
       "    <tr>\n",
       "      <th>0</th>\n",
       "      <td>2020-02-24 09:15:00+05:30</td>\n",
       "      <td>1469.75</td>\n",
       "      <td>1469.75</td>\n",
       "      <td>1463.10</td>\n",
       "      <td>1465.05</td>\n",
       "      <td>150673</td>\n",
       "      <td>5</td>\n",
       "      <td>RELIANCE</td>\n",
       "      <td>2</td>\n",
       "    </tr>\n",
       "    <tr>\n",
       "      <th>1</th>\n",
       "      <td>2020-02-24 09:16:00+05:30</td>\n",
       "      <td>1464.80</td>\n",
       "      <td>1466.90</td>\n",
       "      <td>1463.85</td>\n",
       "      <td>1465.75</td>\n",
       "      <td>70326</td>\n",
       "      <td>5</td>\n",
       "      <td>RELIANCE</td>\n",
       "      <td>2</td>\n",
       "    </tr>\n",
       "    <tr>\n",
       "      <th>2</th>\n",
       "      <td>2020-02-24 09:17:00+05:30</td>\n",
       "      <td>1465.55</td>\n",
       "      <td>1466.15</td>\n",
       "      <td>1464.00</td>\n",
       "      <td>1464.20</td>\n",
       "      <td>48558</td>\n",
       "      <td>5</td>\n",
       "      <td>RELIANCE</td>\n",
       "      <td>2</td>\n",
       "    </tr>\n",
       "    <tr>\n",
       "      <th>3</th>\n",
       "      <td>2020-02-24 09:18:00+05:30</td>\n",
       "      <td>1464.20</td>\n",
       "      <td>1465.85</td>\n",
       "      <td>1464.05</td>\n",
       "      <td>1464.45</td>\n",
       "      <td>30801</td>\n",
       "      <td>5</td>\n",
       "      <td>RELIANCE</td>\n",
       "      <td>2</td>\n",
       "    </tr>\n",
       "    <tr>\n",
       "      <th>4</th>\n",
       "      <td>2020-02-24 09:19:00+05:30</td>\n",
       "      <td>1464.95</td>\n",
       "      <td>1465.80</td>\n",
       "      <td>1463.80</td>\n",
       "      <td>1465.60</td>\n",
       "      <td>32519</td>\n",
       "      <td>5</td>\n",
       "      <td>RELIANCE</td>\n",
       "      <td>2</td>\n",
       "    </tr>\n",
       "  </tbody>\n",
       "</table>\n",
       "</div>\n",
       "      <button class=\"colab-df-convert\" onclick=\"convertToInteractive('df-756ee999-62f4-4736-9940-944d08225125')\"\n",
       "              title=\"Convert this dataframe to an interactive table.\"\n",
       "              style=\"display:none;\">\n",
       "        \n",
       "  <svg xmlns=\"http://www.w3.org/2000/svg\" height=\"24px\"viewBox=\"0 0 24 24\"\n",
       "       width=\"24px\">\n",
       "    <path d=\"M0 0h24v24H0V0z\" fill=\"none\"/>\n",
       "    <path d=\"M18.56 5.44l.94 2.06.94-2.06 2.06-.94-2.06-.94-.94-2.06-.94 2.06-2.06.94zm-11 1L8.5 8.5l.94-2.06 2.06-.94-2.06-.94L8.5 2.5l-.94 2.06-2.06.94zm10 10l.94 2.06.94-2.06 2.06-.94-2.06-.94-.94-2.06-.94 2.06-2.06.94z\"/><path d=\"M17.41 7.96l-1.37-1.37c-.4-.4-.92-.59-1.43-.59-.52 0-1.04.2-1.43.59L10.3 9.45l-7.72 7.72c-.78.78-.78 2.05 0 2.83L4 21.41c.39.39.9.59 1.41.59.51 0 1.02-.2 1.41-.59l7.78-7.78 2.81-2.81c.8-.78.8-2.07 0-2.86zM5.41 20L4 18.59l7.72-7.72 1.47 1.35L5.41 20z\"/>\n",
       "  </svg>\n",
       "      </button>\n",
       "      \n",
       "  <style>\n",
       "    .colab-df-container {\n",
       "      display:flex;\n",
       "      flex-wrap:wrap;\n",
       "      gap: 12px;\n",
       "    }\n",
       "\n",
       "    .colab-df-convert {\n",
       "      background-color: #E8F0FE;\n",
       "      border: none;\n",
       "      border-radius: 50%;\n",
       "      cursor: pointer;\n",
       "      display: none;\n",
       "      fill: #1967D2;\n",
       "      height: 32px;\n",
       "      padding: 0 0 0 0;\n",
       "      width: 32px;\n",
       "    }\n",
       "\n",
       "    .colab-df-convert:hover {\n",
       "      background-color: #E2EBFA;\n",
       "      box-shadow: 0px 1px 2px rgba(60, 64, 67, 0.3), 0px 1px 3px 1px rgba(60, 64, 67, 0.15);\n",
       "      fill: #174EA6;\n",
       "    }\n",
       "\n",
       "    [theme=dark] .colab-df-convert {\n",
       "      background-color: #3B4455;\n",
       "      fill: #D2E3FC;\n",
       "    }\n",
       "\n",
       "    [theme=dark] .colab-df-convert:hover {\n",
       "      background-color: #434B5C;\n",
       "      box-shadow: 0px 1px 3px 1px rgba(0, 0, 0, 0.15);\n",
       "      filter: drop-shadow(0px 1px 2px rgba(0, 0, 0, 0.3));\n",
       "      fill: #FFFFFF;\n",
       "    }\n",
       "  </style>\n",
       "\n",
       "      <script>\n",
       "        const buttonEl =\n",
       "          document.querySelector('#df-756ee999-62f4-4736-9940-944d08225125 button.colab-df-convert');\n",
       "        buttonEl.style.display =\n",
       "          google.colab.kernel.accessAllowed ? 'block' : 'none';\n",
       "\n",
       "        async function convertToInteractive(key) {\n",
       "          const element = document.querySelector('#df-756ee999-62f4-4736-9940-944d08225125');\n",
       "          const dataTable =\n",
       "            await google.colab.kernel.invokeFunction('convertToInteractive',\n",
       "                                                     [key], {});\n",
       "          if (!dataTable) return;\n",
       "\n",
       "          const docLinkHtml = 'Like what you see? Visit the ' +\n",
       "            '<a target=\"_blank\" href=https://colab.research.google.com/notebooks/data_table.ipynb>data table notebook</a>'\n",
       "            + ' to learn more about interactive tables.';\n",
       "          element.innerHTML = '';\n",
       "          dataTable['output_type'] = 'display_data';\n",
       "          await google.colab.output.renderOutput(dataTable, element);\n",
       "          const docLink = document.createElement('div');\n",
       "          docLink.innerHTML = docLinkHtml;\n",
       "          element.appendChild(docLink);\n",
       "        }\n",
       "      </script>\n",
       "    </div>\n",
       "  </div>\n",
       "  "
      ],
      "text/plain": [
       "                  timestamp  open_price  high_price  low_price  close_price  \\\n",
       "0 2020-02-24 09:15:00+05:30     1469.75     1469.75    1463.10      1465.05   \n",
       "1 2020-02-24 09:16:00+05:30     1464.80     1466.90    1463.85      1465.75   \n",
       "2 2020-02-24 09:17:00+05:30     1465.55     1466.15    1464.00      1464.20   \n",
       "3 2020-02-24 09:18:00+05:30     1464.20     1465.85    1464.05      1464.45   \n",
       "4 2020-02-24 09:19:00+05:30     1464.95     1465.80    1463.80      1465.60   \n",
       "\n",
       "   volume  scrip_id      name  month  \n",
       "0  150673         5  RELIANCE      2  \n",
       "1   70326         5  RELIANCE      2  \n",
       "2   48558         5  RELIANCE      2  \n",
       "3   30801         5  RELIANCE      2  \n",
       "4   32519         5  RELIANCE      2  "
      ]
     },
     "execution_count": 22,
     "metadata": {},
     "output_type": "execute_result"
    }
   ],
   "source": [
    "specific_rows = ['GAIL', 'SBIN', 'PVR', 'RELIANCE','SUNPHARMA']\n",
    "#Using the .isin() function here, to filter out data of these 5 specific stocks.\n",
    "curated_merged_df = merged_df[merged_df['name'].isin(specific_rows)]\n",
    "curated_merged_df.reset_index(drop=True, inplace=True)\n",
    "curated_merged_df['month'] = pd.DatetimeIndex(curated_merged_df.timestamp).month\n",
    "curated_merged_df.head()"
   ]
  },
  {
   "cell_type": "code",
   "execution_count": null,
   "metadata": {
    "id": "XzCbuXpZ5Tqc"
   },
   "outputs": [],
   "source": [
    "def choose_month(df, month):\n",
    "    df = df[(df.month == month)]\n",
    "    df.reset_index(drop=True, inplace=True)\n",
    "    return df\n",
    "\n",
    "curated_merged_df = choose_month(curated_merged_df, 5) #Chosen MAY"
   ]
  },
  {
   "cell_type": "code",
   "execution_count": null,
   "metadata": {
    "colab": {
     "base_uri": "https://localhost:8080/"
    },
    "executionInfo": {
     "elapsed": 398,
     "status": "ok",
     "timestamp": 1653309020228,
     "user": {
      "displayName": "Anastasia Kiiru",
      "userId": "12437046474838202979"
     },
     "user_tz": -180
    },
    "id": "Kkhy-19R5Yzd",
    "outputId": "3b1a6b94-773e-4971-9972-89854a6a4ff3"
   },
   "outputs": [
    {
     "data": {
      "text/plain": [
       "array(['RELIANCE', 'GAIL', 'SBIN', 'SUNPHARMA', 'PVR'], dtype=object)"
      ]
     },
     "execution_count": 24,
     "metadata": {},
     "output_type": "execute_result"
    }
   ],
   "source": [
    "curated_merged_df['name'].unique()"
   ]
  },
  {
   "cell_type": "code",
   "execution_count": null,
   "metadata": {
    "colab": {
     "base_uri": "https://localhost:8080/",
     "height": 206
    },
    "executionInfo": {
     "elapsed": 20,
     "status": "ok",
     "timestamp": 1653309032375,
     "user": {
      "displayName": "Anastasia Kiiru",
      "userId": "12437046474838202979"
     },
     "user_tz": -180
    },
    "id": "QV-1zJR75ayk",
    "outputId": "da418f52-01a0-4952-d837-c490fab99cc5"
   },
   "outputs": [
    {
     "data": {
      "text/html": [
       "\n",
       "  <div id=\"df-ba53e64c-b960-470a-aac0-24ae20314f57\">\n",
       "    <div class=\"colab-df-container\">\n",
       "      <div>\n",
       "<style scoped>\n",
       "    .dataframe tbody tr th:only-of-type {\n",
       "        vertical-align: middle;\n",
       "    }\n",
       "\n",
       "    .dataframe tbody tr th {\n",
       "        vertical-align: top;\n",
       "    }\n",
       "\n",
       "    .dataframe thead th {\n",
       "        text-align: right;\n",
       "    }\n",
       "</style>\n",
       "<table border=\"1\" class=\"dataframe\">\n",
       "  <thead>\n",
       "    <tr style=\"text-align: right;\">\n",
       "      <th></th>\n",
       "      <th>timestamp</th>\n",
       "      <th>open_price</th>\n",
       "      <th>high_price</th>\n",
       "      <th>low_price</th>\n",
       "      <th>close_price</th>\n",
       "      <th>volume</th>\n",
       "      <th>scrip_id</th>\n",
       "      <th>name</th>\n",
       "      <th>month</th>\n",
       "    </tr>\n",
       "  </thead>\n",
       "  <tbody>\n",
       "    <tr>\n",
       "      <th>0</th>\n",
       "      <td>2020-05-04 09:15:00+05:30</td>\n",
       "      <td>1440.0</td>\n",
       "      <td>1440.00</td>\n",
       "      <td>1421.20</td>\n",
       "      <td>1436.70</td>\n",
       "      <td>723622</td>\n",
       "      <td>5</td>\n",
       "      <td>RELIANCE</td>\n",
       "      <td>5</td>\n",
       "    </tr>\n",
       "    <tr>\n",
       "      <th>1</th>\n",
       "      <td>2020-05-04 09:16:00+05:30</td>\n",
       "      <td>1436.6</td>\n",
       "      <td>1456.20</td>\n",
       "      <td>1434.65</td>\n",
       "      <td>1452.55</td>\n",
       "      <td>533782</td>\n",
       "      <td>5</td>\n",
       "      <td>RELIANCE</td>\n",
       "      <td>5</td>\n",
       "    </tr>\n",
       "    <tr>\n",
       "      <th>2</th>\n",
       "      <td>2020-05-04 09:17:00+05:30</td>\n",
       "      <td>1453.0</td>\n",
       "      <td>1463.15</td>\n",
       "      <td>1450.25</td>\n",
       "      <td>1456.70</td>\n",
       "      <td>620080</td>\n",
       "      <td>5</td>\n",
       "      <td>RELIANCE</td>\n",
       "      <td>5</td>\n",
       "    </tr>\n",
       "    <tr>\n",
       "      <th>3</th>\n",
       "      <td>2020-05-04 09:18:00+05:30</td>\n",
       "      <td>1455.9</td>\n",
       "      <td>1456.55</td>\n",
       "      <td>1436.50</td>\n",
       "      <td>1436.50</td>\n",
       "      <td>439336</td>\n",
       "      <td>5</td>\n",
       "      <td>RELIANCE</td>\n",
       "      <td>5</td>\n",
       "    </tr>\n",
       "    <tr>\n",
       "      <th>4</th>\n",
       "      <td>2020-05-04 09:19:00+05:30</td>\n",
       "      <td>1437.6</td>\n",
       "      <td>1443.30</td>\n",
       "      <td>1436.00</td>\n",
       "      <td>1437.00</td>\n",
       "      <td>307428</td>\n",
       "      <td>5</td>\n",
       "      <td>RELIANCE</td>\n",
       "      <td>5</td>\n",
       "    </tr>\n",
       "  </tbody>\n",
       "</table>\n",
       "</div>\n",
       "      <button class=\"colab-df-convert\" onclick=\"convertToInteractive('df-ba53e64c-b960-470a-aac0-24ae20314f57')\"\n",
       "              title=\"Convert this dataframe to an interactive table.\"\n",
       "              style=\"display:none;\">\n",
       "        \n",
       "  <svg xmlns=\"http://www.w3.org/2000/svg\" height=\"24px\"viewBox=\"0 0 24 24\"\n",
       "       width=\"24px\">\n",
       "    <path d=\"M0 0h24v24H0V0z\" fill=\"none\"/>\n",
       "    <path d=\"M18.56 5.44l.94 2.06.94-2.06 2.06-.94-2.06-.94-.94-2.06-.94 2.06-2.06.94zm-11 1L8.5 8.5l.94-2.06 2.06-.94-2.06-.94L8.5 2.5l-.94 2.06-2.06.94zm10 10l.94 2.06.94-2.06 2.06-.94-2.06-.94-.94-2.06-.94 2.06-2.06.94z\"/><path d=\"M17.41 7.96l-1.37-1.37c-.4-.4-.92-.59-1.43-.59-.52 0-1.04.2-1.43.59L10.3 9.45l-7.72 7.72c-.78.78-.78 2.05 0 2.83L4 21.41c.39.39.9.59 1.41.59.51 0 1.02-.2 1.41-.59l7.78-7.78 2.81-2.81c.8-.78.8-2.07 0-2.86zM5.41 20L4 18.59l7.72-7.72 1.47 1.35L5.41 20z\"/>\n",
       "  </svg>\n",
       "      </button>\n",
       "      \n",
       "  <style>\n",
       "    .colab-df-container {\n",
       "      display:flex;\n",
       "      flex-wrap:wrap;\n",
       "      gap: 12px;\n",
       "    }\n",
       "\n",
       "    .colab-df-convert {\n",
       "      background-color: #E8F0FE;\n",
       "      border: none;\n",
       "      border-radius: 50%;\n",
       "      cursor: pointer;\n",
       "      display: none;\n",
       "      fill: #1967D2;\n",
       "      height: 32px;\n",
       "      padding: 0 0 0 0;\n",
       "      width: 32px;\n",
       "    }\n",
       "\n",
       "    .colab-df-convert:hover {\n",
       "      background-color: #E2EBFA;\n",
       "      box-shadow: 0px 1px 2px rgba(60, 64, 67, 0.3), 0px 1px 3px 1px rgba(60, 64, 67, 0.15);\n",
       "      fill: #174EA6;\n",
       "    }\n",
       "\n",
       "    [theme=dark] .colab-df-convert {\n",
       "      background-color: #3B4455;\n",
       "      fill: #D2E3FC;\n",
       "    }\n",
       "\n",
       "    [theme=dark] .colab-df-convert:hover {\n",
       "      background-color: #434B5C;\n",
       "      box-shadow: 0px 1px 3px 1px rgba(0, 0, 0, 0.15);\n",
       "      filter: drop-shadow(0px 1px 2px rgba(0, 0, 0, 0.3));\n",
       "      fill: #FFFFFF;\n",
       "    }\n",
       "  </style>\n",
       "\n",
       "      <script>\n",
       "        const buttonEl =\n",
       "          document.querySelector('#df-ba53e64c-b960-470a-aac0-24ae20314f57 button.colab-df-convert');\n",
       "        buttonEl.style.display =\n",
       "          google.colab.kernel.accessAllowed ? 'block' : 'none';\n",
       "\n",
       "        async function convertToInteractive(key) {\n",
       "          const element = document.querySelector('#df-ba53e64c-b960-470a-aac0-24ae20314f57');\n",
       "          const dataTable =\n",
       "            await google.colab.kernel.invokeFunction('convertToInteractive',\n",
       "                                                     [key], {});\n",
       "          if (!dataTable) return;\n",
       "\n",
       "          const docLinkHtml = 'Like what you see? Visit the ' +\n",
       "            '<a target=\"_blank\" href=https://colab.research.google.com/notebooks/data_table.ipynb>data table notebook</a>'\n",
       "            + ' to learn more about interactive tables.';\n",
       "          element.innerHTML = '';\n",
       "          dataTable['output_type'] = 'display_data';\n",
       "          await google.colab.output.renderOutput(dataTable, element);\n",
       "          const docLink = document.createElement('div');\n",
       "          docLink.innerHTML = docLinkHtml;\n",
       "          element.appendChild(docLink);\n",
       "        }\n",
       "      </script>\n",
       "    </div>\n",
       "  </div>\n",
       "  "
      ],
      "text/plain": [
       "                  timestamp  open_price  high_price  low_price  close_price  \\\n",
       "0 2020-05-04 09:15:00+05:30      1440.0     1440.00    1421.20      1436.70   \n",
       "1 2020-05-04 09:16:00+05:30      1436.6     1456.20    1434.65      1452.55   \n",
       "2 2020-05-04 09:17:00+05:30      1453.0     1463.15    1450.25      1456.70   \n",
       "3 2020-05-04 09:18:00+05:30      1455.9     1456.55    1436.50      1436.50   \n",
       "4 2020-05-04 09:19:00+05:30      1437.6     1443.30    1436.00      1437.00   \n",
       "\n",
       "   volume  scrip_id      name  month  \n",
       "0  723622         5  RELIANCE      5  \n",
       "1  533782         5  RELIANCE      5  \n",
       "2  620080         5  RELIANCE      5  \n",
       "3  439336         5  RELIANCE      5  \n",
       "4  307428         5  RELIANCE      5  "
      ]
     },
     "execution_count": 25,
     "metadata": {},
     "output_type": "execute_result"
    }
   ],
   "source": [
    "curated_merged_df.head()"
   ]
  },
  {
   "cell_type": "code",
   "execution_count": null,
   "metadata": {
    "colab": {
     "base_uri": "https://localhost:8080/",
     "height": 557
    },
    "executionInfo": {
     "elapsed": 2692,
     "status": "ok",
     "timestamp": 1653309048218,
     "user": {
      "displayName": "Anastasia Kiiru",
      "userId": "12437046474838202979"
     },
     "user_tz": -180
    },
    "id": "pkvp0S0E5dJu",
    "outputId": "b4554533-45a8-414b-a7eb-0915688a9301"
   },
   "outputs": [
    {
     "name": "stderr",
     "output_type": "stream",
     "text": [
      "/usr/local/lib/python3.7/dist-packages/seaborn/_decorators.py:43: FutureWarning: Pass the following variables as keyword args: x, y. From version 0.12, the only valid positional argument will be `data`, and passing other arguments without an explicit keyword will result in an error or misinterpretation.\n",
      "  FutureWarning\n"
     ]
    },
    {
     "data": {
      "image/png": "[encoded data removed]",
      "text/plain": [
       "<Figure size 1728x720 with 1 Axes>"
      ]
     },
     "metadata": {
      "needs_background": "light"
     },
     "output_type": "display_data"
    }
   ],
   "source": [
    "plt.figure(figsize=(24,10))\n",
    "plt.title('Plotting Variation of different Stocks,')\n",
    "#sns.lineplot(curated_merged_df, hue=curated_merged_df.name)\n",
    "sns.lineplot(curated_merged_df.timestamp, curated_merged_df.close_price, hue=curated_merged_df.name);"
   ]
  },
  {
   "cell_type": "markdown",
   "metadata": {
    "id": "gsKeb3wx5rVD"
   },
   "source": [
    "Have Seperated out the month column from the timestamp, so we can have more precise results. For Example: If I wish I can observe a specific stock, lets say RELIANCE, and observe its values under a particular month or on a particular day of that month per say."
   ]
  },
  {
   "cell_type": "code",
   "execution_count": null,
   "metadata": {
    "colab": {
     "base_uri": "https://localhost:8080/",
     "height": 206
    },
    "executionInfo": {
     "elapsed": 2041,
     "status": "ok",
     "timestamp": 1653309122864,
     "user": {
      "displayName": "Anastasia Kiiru",
      "userId": "12437046474838202979"
     },
     "user_tz": -180
    },
    "id": "T0AU_AJT5pyX",
    "outputId": "cd723096-4c99-4042-c1d5-5f08afe1831e"
   },
   "outputs": [
    {
     "data": {
      "text/html": [
       "\n",
       "  <div id=\"df-dc9e8240-f87a-4dd7-aae1-ef0f018c7931\">\n",
       "    <div class=\"colab-df-container\">\n",
       "      <div>\n",
       "<style scoped>\n",
       "    .dataframe tbody tr th:only-of-type {\n",
       "        vertical-align: middle;\n",
       "    }\n",
       "\n",
       "    .dataframe tbody tr th {\n",
       "        vertical-align: top;\n",
       "    }\n",
       "\n",
       "    .dataframe thead th {\n",
       "        text-align: right;\n",
       "    }\n",
       "</style>\n",
       "<table border=\"1\" class=\"dataframe\">\n",
       "  <thead>\n",
       "    <tr style=\"text-align: right;\">\n",
       "      <th></th>\n",
       "      <th>timestamp</th>\n",
       "      <th>open_price</th>\n",
       "      <th>high_price</th>\n",
       "      <th>low_price</th>\n",
       "      <th>close_price</th>\n",
       "      <th>volume</th>\n",
       "      <th>scrip_id</th>\n",
       "      <th>name</th>\n",
       "      <th>month</th>\n",
       "    </tr>\n",
       "  </thead>\n",
       "  <tbody>\n",
       "    <tr>\n",
       "      <th>0</th>\n",
       "      <td>2020-02-24 09:15:00+05:30</td>\n",
       "      <td>1170.00</td>\n",
       "      <td>1170.00</td>\n",
       "      <td>1149.25</td>\n",
       "      <td>1164.60</td>\n",
       "      <td>104528</td>\n",
       "      <td>2</td>\n",
       "      <td>INDUSINDBK</td>\n",
       "      <td>2</td>\n",
       "    </tr>\n",
       "    <tr>\n",
       "      <th>1</th>\n",
       "      <td>2020-02-24 09:16:00+05:30</td>\n",
       "      <td>1165.60</td>\n",
       "      <td>1168.50</td>\n",
       "      <td>1159.00</td>\n",
       "      <td>1160.75</td>\n",
       "      <td>109720</td>\n",
       "      <td>2</td>\n",
       "      <td>INDUSINDBK</td>\n",
       "      <td>2</td>\n",
       "    </tr>\n",
       "    <tr>\n",
       "      <th>2</th>\n",
       "      <td>2020-02-24 09:17:00+05:30</td>\n",
       "      <td>1162.35</td>\n",
       "      <td>1164.45</td>\n",
       "      <td>1161.00</td>\n",
       "      <td>1163.05</td>\n",
       "      <td>48984</td>\n",
       "      <td>2</td>\n",
       "      <td>INDUSINDBK</td>\n",
       "      <td>2</td>\n",
       "    </tr>\n",
       "    <tr>\n",
       "      <th>3</th>\n",
       "      <td>2020-02-24 09:18:00+05:30</td>\n",
       "      <td>1164.10</td>\n",
       "      <td>1168.85</td>\n",
       "      <td>1163.65</td>\n",
       "      <td>1168.85</td>\n",
       "      <td>67387</td>\n",
       "      <td>2</td>\n",
       "      <td>INDUSINDBK</td>\n",
       "      <td>2</td>\n",
       "    </tr>\n",
       "    <tr>\n",
       "      <th>4</th>\n",
       "      <td>2020-02-24 09:19:00+05:30</td>\n",
       "      <td>1168.35</td>\n",
       "      <td>1173.00</td>\n",
       "      <td>1166.45</td>\n",
       "      <td>1173.00</td>\n",
       "      <td>78541</td>\n",
       "      <td>2</td>\n",
       "      <td>INDUSINDBK</td>\n",
       "      <td>2</td>\n",
       "    </tr>\n",
       "  </tbody>\n",
       "</table>\n",
       "</div>\n",
       "      <button class=\"colab-df-convert\" onclick=\"convertToInteractive('df-dc9e8240-f87a-4dd7-aae1-ef0f018c7931')\"\n",
       "              title=\"Convert this dataframe to an interactive table.\"\n",
       "              style=\"display:none;\">\n",
       "        \n",
       "  <svg xmlns=\"http://www.w3.org/2000/svg\" height=\"24px\"viewBox=\"0 0 24 24\"\n",
       "       width=\"24px\">\n",
       "    <path d=\"M0 0h24v24H0V0z\" fill=\"none\"/>\n",
       "    <path d=\"M18.56 5.44l.94 2.06.94-2.06 2.06-.94-2.06-.94-.94-2.06-.94 2.06-2.06.94zm-11 1L8.5 8.5l.94-2.06 2.06-.94-2.06-.94L8.5 2.5l-.94 2.06-2.06.94zm10 10l.94 2.06.94-2.06 2.06-.94-2.06-.94-.94-2.06-.94 2.06-2.06.94z\"/><path d=\"M17.41 7.96l-1.37-1.37c-.4-.4-.92-.59-1.43-.59-.52 0-1.04.2-1.43.59L10.3 9.45l-7.72 7.72c-.78.78-.78 2.05 0 2.83L4 21.41c.39.39.9.59 1.41.59.51 0 1.02-.2 1.41-.59l7.78-7.78 2.81-2.81c.8-.78.8-2.07 0-2.86zM5.41 20L4 18.59l7.72-7.72 1.47 1.35L5.41 20z\"/>\n",
       "  </svg>\n",
       "      </button>\n",
       "      \n",
       "  <style>\n",
       "    .colab-df-container {\n",
       "      display:flex;\n",
       "      flex-wrap:wrap;\n",
       "      gap: 12px;\n",
       "    }\n",
       "\n",
       "    .colab-df-convert {\n",
       "      background-color: #E8F0FE;\n",
       "      border: none;\n",
       "      border-radius: 50%;\n",
       "      cursor: pointer;\n",
       "      display: none;\n",
       "      fill: #1967D2;\n",
       "      height: 32px;\n",
       "      padding: 0 0 0 0;\n",
       "      width: 32px;\n",
       "    }\n",
       "\n",
       "    .colab-df-convert:hover {\n",
       "      background-color: #E2EBFA;\n",
       "      box-shadow: 0px 1px 2px rgba(60, 64, 67, 0.3), 0px 1px 3px 1px rgba(60, 64, 67, 0.15);\n",
       "      fill: #174EA6;\n",
       "    }\n",
       "\n",
       "    [theme=dark] .colab-df-convert {\n",
       "      background-color: #3B4455;\n",
       "      fill: #D2E3FC;\n",
       "    }\n",
       "\n",
       "    [theme=dark] .colab-df-convert:hover {\n",
       "      background-color: #434B5C;\n",
       "      box-shadow: 0px 1px 3px 1px rgba(0, 0, 0, 0.15);\n",
       "      filter: drop-shadow(0px 1px 2px rgba(0, 0, 0, 0.3));\n",
       "      fill: #FFFFFF;\n",
       "    }\n",
       "  </style>\n",
       "\n",
       "      <script>\n",
       "        const buttonEl =\n",
       "          document.querySelector('#df-dc9e8240-f87a-4dd7-aae1-ef0f018c7931 button.colab-df-convert');\n",
       "        buttonEl.style.display =\n",
       "          google.colab.kernel.accessAllowed ? 'block' : 'none';\n",
       "\n",
       "        async function convertToInteractive(key) {\n",
       "          const element = document.querySelector('#df-dc9e8240-f87a-4dd7-aae1-ef0f018c7931');\n",
       "          const dataTable =\n",
       "            await google.colab.kernel.invokeFunction('convertToInteractive',\n",
       "                                                     [key], {});\n",
       "          if (!dataTable) return;\n",
       "\n",
       "          const docLinkHtml = 'Like what you see? Visit the ' +\n",
       "            '<a target=\"_blank\" href=https://colab.research.google.com/notebooks/data_table.ipynb>data table notebook</a>'\n",
       "            + ' to learn more about interactive tables.';\n",
       "          element.innerHTML = '';\n",
       "          dataTable['output_type'] = 'display_data';\n",
       "          await google.colab.output.renderOutput(dataTable, element);\n",
       "          const docLink = document.createElement('div');\n",
       "          docLink.innerHTML = docLinkHtml;\n",
       "          element.appendChild(docLink);\n",
       "        }\n",
       "      </script>\n",
       "    </div>\n",
       "  </div>\n",
       "  "
      ],
      "text/plain": [
       "                  timestamp  open_price  high_price  low_price  close_price  \\\n",
       "0 2020-02-24 09:15:00+05:30     1170.00     1170.00    1149.25      1164.60   \n",
       "1 2020-02-24 09:16:00+05:30     1165.60     1168.50    1159.00      1160.75   \n",
       "2 2020-02-24 09:17:00+05:30     1162.35     1164.45    1161.00      1163.05   \n",
       "3 2020-02-24 09:18:00+05:30     1164.10     1168.85    1163.65      1168.85   \n",
       "4 2020-02-24 09:19:00+05:30     1168.35     1173.00    1166.45      1173.00   \n",
       "\n",
       "   volume  scrip_id        name  month  \n",
       "0  104528         2  INDUSINDBK      2  \n",
       "1  109720         2  INDUSINDBK      2  \n",
       "2   48984         2  INDUSINDBK      2  \n",
       "3   67387         2  INDUSINDBK      2  \n",
       "4   78541         2  INDUSINDBK      2  "
      ]
     },
     "execution_count": 28,
     "metadata": {},
     "output_type": "execute_result"
    }
   ],
   "source": [
    "#segregating month from the timestamp.\n",
    "merged_df['month'] = pd.DatetimeIndex(merged_df.timestamp).month\n",
    "timestamp_df['month'] = pd.DatetimeIndex(timestamp_df.index).month\n",
    "merged_df.head()"
   ]
  },
  {
   "cell_type": "markdown",
   "metadata": {
    "id": "OaVQbfHf52a8"
   },
   "source": [
    "Now, to be able to visualize particular stocks, I can either call them up by scrip_id/name or particular Month, or particular day."
   ]
  },
  {
   "cell_type": "code",
   "execution_count": null,
   "metadata": {
    "id": "2NYvf_oX50L6"
   },
   "outputs": [],
   "source": [
    "#function to call a specific stock\n",
    "specific_coloumns=['timestamp','open_price','high_price','low_price','close_price','volume','month']"
   ]
  },
  {
   "cell_type": "code",
   "execution_count": null,
   "metadata": {
    "id": "ZpBlQFnc6AoH"
   },
   "outputs": [],
   "source": [
    "def call_this_stock(df, name): #Remember to declare default argument in the end! \n",
    "  #temp_df = merged_df[(merged_df.month == month) & (merged_df.name == name)]\n",
    "  temp_df = merged_df[(merged_df.name ==name)]\n",
    "  #particular_stock = temp_df.set_index('timestamp', inplace=True)\n",
    "  particular_stock = temp_df[specific_coloumns].copy()\n",
    "  particular_stock.reset_index(drop=True, inplace=True)\n",
    "  return particular_stock\n",
    "\n",
    "def timestamp_as_index(df):\n",
    "    temp = df\n",
    "    temp = temp.set_index('timestamp', inplace=False)\n",
    "    return temp"
   ]
  },
  {
   "cell_type": "code",
   "execution_count": null,
   "metadata": {
    "colab": {
     "base_uri": "https://localhost:8080/",
     "height": 206
    },
    "executionInfo": {
     "elapsed": 448,
     "status": "ok",
     "timestamp": 1653309278868,
     "user": {
      "displayName": "Anastasia Kiiru",
      "userId": "12437046474838202979"
     },
     "user_tz": -180
    },
    "id": "R2vOyBRN6Wup",
    "outputId": "0d0d10b0-f85d-4f2d-d34c-817c1a812f15"
   },
   "outputs": [
    {
     "data": {
      "text/html": [
       "\n",
       "  <div id=\"df-26fa4cd2-45c2-4012-bc71-03703c3cff06\">\n",
       "    <div class=\"colab-df-container\">\n",
       "      <div>\n",
       "<style scoped>\n",
       "    .dataframe tbody tr th:only-of-type {\n",
       "        vertical-align: middle;\n",
       "    }\n",
       "\n",
       "    .dataframe tbody tr th {\n",
       "        vertical-align: top;\n",
       "    }\n",
       "\n",
       "    .dataframe thead th {\n",
       "        text-align: right;\n",
       "    }\n",
       "</style>\n",
       "<table border=\"1\" class=\"dataframe\">\n",
       "  <thead>\n",
       "    <tr style=\"text-align: right;\">\n",
       "      <th></th>\n",
       "      <th>timestamp</th>\n",
       "      <th>open_price</th>\n",
       "      <th>high_price</th>\n",
       "      <th>low_price</th>\n",
       "      <th>close_price</th>\n",
       "      <th>volume</th>\n",
       "      <th>month</th>\n",
       "    </tr>\n",
       "  </thead>\n",
       "  <tbody>\n",
       "    <tr>\n",
       "      <th>0</th>\n",
       "      <td>2020-04-20 09:15:00+05:30</td>\n",
       "      <td>9390.20</td>\n",
       "      <td>9390.20</td>\n",
       "      <td>9306.25</td>\n",
       "      <td>9308.40</td>\n",
       "      <td>0</td>\n",
       "      <td>4</td>\n",
       "    </tr>\n",
       "    <tr>\n",
       "      <th>1</th>\n",
       "      <td>2020-04-20 09:16:00+05:30</td>\n",
       "      <td>9310.75</td>\n",
       "      <td>9319.35</td>\n",
       "      <td>9289.80</td>\n",
       "      <td>9291.40</td>\n",
       "      <td>0</td>\n",
       "      <td>4</td>\n",
       "    </tr>\n",
       "    <tr>\n",
       "      <th>2</th>\n",
       "      <td>2020-04-20 09:17:00+05:30</td>\n",
       "      <td>9292.00</td>\n",
       "      <td>9292.00</td>\n",
       "      <td>9270.70</td>\n",
       "      <td>9281.50</td>\n",
       "      <td>0</td>\n",
       "      <td>4</td>\n",
       "    </tr>\n",
       "    <tr>\n",
       "      <th>3</th>\n",
       "      <td>2020-04-20 09:18:00+05:30</td>\n",
       "      <td>9280.95</td>\n",
       "      <td>9296.55</td>\n",
       "      <td>9278.35</td>\n",
       "      <td>9290.30</td>\n",
       "      <td>0</td>\n",
       "      <td>4</td>\n",
       "    </tr>\n",
       "    <tr>\n",
       "      <th>4</th>\n",
       "      <td>2020-04-20 09:19:00+05:30</td>\n",
       "      <td>9288.25</td>\n",
       "      <td>9297.15</td>\n",
       "      <td>9280.75</td>\n",
       "      <td>9291.95</td>\n",
       "      <td>0</td>\n",
       "      <td>4</td>\n",
       "    </tr>\n",
       "  </tbody>\n",
       "</table>\n",
       "</div>\n",
       "      <button class=\"colab-df-convert\" onclick=\"convertToInteractive('df-26fa4cd2-45c2-4012-bc71-03703c3cff06')\"\n",
       "              title=\"Convert this dataframe to an interactive table.\"\n",
       "              style=\"display:none;\">\n",
       "        \n",
       "  <svg xmlns=\"http://www.w3.org/2000/svg\" height=\"24px\"viewBox=\"0 0 24 24\"\n",
       "       width=\"24px\">\n",
       "    <path d=\"M0 0h24v24H0V0z\" fill=\"none\"/>\n",
       "    <path d=\"M18.56 5.44l.94 2.06.94-2.06 2.06-.94-2.06-.94-.94-2.06-.94 2.06-2.06.94zm-11 1L8.5 8.5l.94-2.06 2.06-.94-2.06-.94L8.5 2.5l-.94 2.06-2.06.94zm10 10l.94 2.06.94-2.06 2.06-.94-2.06-.94-.94-2.06-.94 2.06-2.06.94z\"/><path d=\"M17.41 7.96l-1.37-1.37c-.4-.4-.92-.59-1.43-.59-.52 0-1.04.2-1.43.59L10.3 9.45l-7.72 7.72c-.78.78-.78 2.05 0 2.83L4 21.41c.39.39.9.59 1.41.59.51 0 1.02-.2 1.41-.59l7.78-7.78 2.81-2.81c.8-.78.8-2.07 0-2.86zM5.41 20L4 18.59l7.72-7.72 1.47 1.35L5.41 20z\"/>\n",
       "  </svg>\n",
       "      </button>\n",
       "      \n",
       "  <style>\n",
       "    .colab-df-container {\n",
       "      display:flex;\n",
       "      flex-wrap:wrap;\n",
       "      gap: 12px;\n",
       "    }\n",
       "\n",
       "    .colab-df-convert {\n",
       "      background-color: #E8F0FE;\n",
       "      border: none;\n",
       "      border-radius: 50%;\n",
       "      cursor: pointer;\n",
       "      display: none;\n",
       "      fill: #1967D2;\n",
       "      height: 32px;\n",
       "      padding: 0 0 0 0;\n",
       "      width: 32px;\n",
       "    }\n",
       "\n",
       "    .colab-df-convert:hover {\n",
       "      background-color: #E2EBFA;\n",
       "      box-shadow: 0px 1px 2px rgba(60, 64, 67, 0.3), 0px 1px 3px 1px rgba(60, 64, 67, 0.15);\n",
       "      fill: #174EA6;\n",
       "    }\n",
       "\n",
       "    [theme=dark] .colab-df-convert {\n",
       "      background-color: #3B4455;\n",
       "      fill: #D2E3FC;\n",
       "    }\n",
       "\n",
       "    [theme=dark] .colab-df-convert:hover {\n",
       "      background-color: #434B5C;\n",
       "      box-shadow: 0px 1px 3px 1px rgba(0, 0, 0, 0.15);\n",
       "      filter: drop-shadow(0px 1px 2px rgba(0, 0, 0, 0.3));\n",
       "      fill: #FFFFFF;\n",
       "    }\n",
       "  </style>\n",
       "\n",
       "      <script>\n",
       "        const buttonEl =\n",
       "          document.querySelector('#df-26fa4cd2-45c2-4012-bc71-03703c3cff06 button.colab-df-convert');\n",
       "        buttonEl.style.display =\n",
       "          google.colab.kernel.accessAllowed ? 'block' : 'none';\n",
       "\n",
       "        async function convertToInteractive(key) {\n",
       "          const element = document.querySelector('#df-26fa4cd2-45c2-4012-bc71-03703c3cff06');\n",
       "          const dataTable =\n",
       "            await google.colab.kernel.invokeFunction('convertToInteractive',\n",
       "                                                     [key], {});\n",
       "          if (!dataTable) return;\n",
       "\n",
       "          const docLinkHtml = 'Like what you see? Visit the ' +\n",
       "            '<a target=\"_blank\" href=https://colab.research.google.com/notebooks/data_table.ipynb>data table notebook</a>'\n",
       "            + ' to learn more about interactive tables.';\n",
       "          element.innerHTML = '';\n",
       "          dataTable['output_type'] = 'display_data';\n",
       "          await google.colab.output.renderOutput(dataTable, element);\n",
       "          const docLink = document.createElement('div');\n",
       "          docLink.innerHTML = docLinkHtml;\n",
       "          element.appendChild(docLink);\n",
       "        }\n",
       "      </script>\n",
       "    </div>\n",
       "  </div>\n",
       "  "
      ],
      "text/plain": [
       "                  timestamp  open_price  high_price  low_price  close_price  \\\n",
       "0 2020-04-20 09:15:00+05:30     9390.20     9390.20    9306.25      9308.40   \n",
       "1 2020-04-20 09:16:00+05:30     9310.75     9319.35    9289.80      9291.40   \n",
       "2 2020-04-20 09:17:00+05:30     9292.00     9292.00    9270.70      9281.50   \n",
       "3 2020-04-20 09:18:00+05:30     9280.95     9296.55    9278.35      9290.30   \n",
       "4 2020-04-20 09:19:00+05:30     9288.25     9297.15    9280.75      9291.95   \n",
       "\n",
       "   volume  month  \n",
       "0       0      4  \n",
       "1       0      4  \n",
       "2       0      4  \n",
       "3       0      4  \n",
       "4       0      4  "
      ]
     },
     "execution_count": 32,
     "metadata": {},
     "output_type": "execute_result"
    }
   ],
   "source": [
    "nifty_50 = call_this_stock(merged_df, 'NIFTY 50')\n",
    "nifty_50_t = timestamp_as_index(nifty_50)\n",
    "nifty_50.head()"
   ]
  },
  {
   "cell_type": "markdown",
   "metadata": {
    "id": "W2pLXidA6awk"
   },
   "source": [
    "This above dataframe contains variation of a particular stock that we have chosen to be NIFTY 50, throughout the timevariation we have in the original data.\n",
    "\n",
    "Now, Lets observe this stock with some visual outputs."
   ]
  },
  {
   "cell_type": "code",
   "execution_count": null,
   "metadata": {
    "colab": {
     "base_uri": "https://localhost:8080/",
     "height": 415
    },
    "executionInfo": {
     "elapsed": 1672,
     "status": "ok",
     "timestamp": 1653309312596,
     "user": {
      "displayName": "Anastasia Kiiru",
      "userId": "12437046474838202979"
     },
     "user_tz": -180
    },
    "id": "5PecJaiz6eAa",
    "outputId": "f7e6f157-3796-4360-d435-b51201d64641"
   },
   "outputs": [
    {
     "data": {
      "image/png": "[encoded data removed]",
      "text/plain": [
       "<Figure size 1728x576 with 1 Axes>"
      ]
     },
     "metadata": {
      "needs_background": "light"
     },
     "output_type": "display_data"
    }
   ],
   "source": [
    "plt.figure(figsize=(24,8))\n",
    "plt.title('Variation of Nifty50 throughout our observations.', fontsize= 15)\n",
    "plt.ylabel('Stock Price(rs)', fontsize=13)\n",
    "plt.xlabel('Increasing index of observations -> from the month APRIL to SEPTEMBER ', fontsize=12)\n",
    "plt.plot(nifty_50.close_price);"
   ]
  },
  {
   "cell_type": "code",
   "execution_count": null,
   "metadata": {
    "colab": {
     "base_uri": "https://localhost:8080/",
     "height": 237
    },
    "executionInfo": {
     "elapsed": 21,
     "status": "ok",
     "timestamp": 1653309331111,
     "user": {
      "displayName": "Anastasia Kiiru",
      "userId": "12437046474838202979"
     },
     "user_tz": -180
    },
    "id": "BYw9CeW16j2p",
    "outputId": "395f4e7d-d80d-42b2-e2b3-a4fb9b827168"
   },
   "outputs": [
    {
     "data": {
      "text/html": [
       "\n",
       "  <div id=\"df-9725d2bc-bde4-489a-8244-f9b8ed591308\">\n",
       "    <div class=\"colab-df-container\">\n",
       "      <div>\n",
       "<style scoped>\n",
       "    .dataframe tbody tr th:only-of-type {\n",
       "        vertical-align: middle;\n",
       "    }\n",
       "\n",
       "    .dataframe tbody tr th {\n",
       "        vertical-align: top;\n",
       "    }\n",
       "\n",
       "    .dataframe thead th {\n",
       "        text-align: right;\n",
       "    }\n",
       "</style>\n",
       "<table border=\"1\" class=\"dataframe\">\n",
       "  <thead>\n",
       "    <tr style=\"text-align: right;\">\n",
       "      <th></th>\n",
       "      <th>open_price</th>\n",
       "      <th>high_price</th>\n",
       "      <th>low_price</th>\n",
       "      <th>close_price</th>\n",
       "      <th>volume</th>\n",
       "      <th>month</th>\n",
       "    </tr>\n",
       "    <tr>\n",
       "      <th>timestamp</th>\n",
       "      <th></th>\n",
       "      <th></th>\n",
       "      <th></th>\n",
       "      <th></th>\n",
       "      <th></th>\n",
       "      <th></th>\n",
       "    </tr>\n",
       "  </thead>\n",
       "  <tbody>\n",
       "    <tr>\n",
       "      <th>2020-04-20 09:15:00+05:30</th>\n",
       "      <td>9390.20</td>\n",
       "      <td>9390.20</td>\n",
       "      <td>9306.25</td>\n",
       "      <td>9308.40</td>\n",
       "      <td>0</td>\n",
       "      <td>4</td>\n",
       "    </tr>\n",
       "    <tr>\n",
       "      <th>2020-04-20 09:16:00+05:30</th>\n",
       "      <td>9310.75</td>\n",
       "      <td>9319.35</td>\n",
       "      <td>9289.80</td>\n",
       "      <td>9291.40</td>\n",
       "      <td>0</td>\n",
       "      <td>4</td>\n",
       "    </tr>\n",
       "    <tr>\n",
       "      <th>2020-04-20 09:17:00+05:30</th>\n",
       "      <td>9292.00</td>\n",
       "      <td>9292.00</td>\n",
       "      <td>9270.70</td>\n",
       "      <td>9281.50</td>\n",
       "      <td>0</td>\n",
       "      <td>4</td>\n",
       "    </tr>\n",
       "    <tr>\n",
       "      <th>2020-04-20 09:18:00+05:30</th>\n",
       "      <td>9280.95</td>\n",
       "      <td>9296.55</td>\n",
       "      <td>9278.35</td>\n",
       "      <td>9290.30</td>\n",
       "      <td>0</td>\n",
       "      <td>4</td>\n",
       "    </tr>\n",
       "    <tr>\n",
       "      <th>2020-04-20 09:19:00+05:30</th>\n",
       "      <td>9288.25</td>\n",
       "      <td>9297.15</td>\n",
       "      <td>9280.75</td>\n",
       "      <td>9291.95</td>\n",
       "      <td>0</td>\n",
       "      <td>4</td>\n",
       "    </tr>\n",
       "  </tbody>\n",
       "</table>\n",
       "</div>\n",
       "      <button class=\"colab-df-convert\" onclick=\"convertToInteractive('df-9725d2bc-bde4-489a-8244-f9b8ed591308')\"\n",
       "              title=\"Convert this dataframe to an interactive table.\"\n",
       "              style=\"display:none;\">\n",
       "        \n",
       "  <svg xmlns=\"http://www.w3.org/2000/svg\" height=\"24px\"viewBox=\"0 0 24 24\"\n",
       "       width=\"24px\">\n",
       "    <path d=\"M0 0h24v24H0V0z\" fill=\"none\"/>\n",
       "    <path d=\"M18.56 5.44l.94 2.06.94-2.06 2.06-.94-2.06-.94-.94-2.06-.94 2.06-2.06.94zm-11 1L8.5 8.5l.94-2.06 2.06-.94-2.06-.94L8.5 2.5l-.94 2.06-2.06.94zm10 10l.94 2.06.94-2.06 2.06-.94-2.06-.94-.94-2.06-.94 2.06-2.06.94z\"/><path d=\"M17.41 7.96l-1.37-1.37c-.4-.4-.92-.59-1.43-.59-.52 0-1.04.2-1.43.59L10.3 9.45l-7.72 7.72c-.78.78-.78 2.05 0 2.83L4 21.41c.39.39.9.59 1.41.59.51 0 1.02-.2 1.41-.59l7.78-7.78 2.81-2.81c.8-.78.8-2.07 0-2.86zM5.41 20L4 18.59l7.72-7.72 1.47 1.35L5.41 20z\"/>\n",
       "  </svg>\n",
       "      </button>\n",
       "      \n",
       "  <style>\n",
       "    .colab-df-container {\n",
       "      display:flex;\n",
       "      flex-wrap:wrap;\n",
       "      gap: 12px;\n",
       "    }\n",
       "\n",
       "    .colab-df-convert {\n",
       "      background-color: #E8F0FE;\n",
       "      border: none;\n",
       "      border-radius: 50%;\n",
       "      cursor: pointer;\n",
       "      display: none;\n",
       "      fill: #1967D2;\n",
       "      height: 32px;\n",
       "      padding: 0 0 0 0;\n",
       "      width: 32px;\n",
       "    }\n",
       "\n",
       "    .colab-df-convert:hover {\n",
       "      background-color: #E2EBFA;\n",
       "      box-shadow: 0px 1px 2px rgba(60, 64, 67, 0.3), 0px 1px 3px 1px rgba(60, 64, 67, 0.15);\n",
       "      fill: #174EA6;\n",
       "    }\n",
       "\n",
       "    [theme=dark] .colab-df-convert {\n",
       "      background-color: #3B4455;\n",
       "      fill: #D2E3FC;\n",
       "    }\n",
       "\n",
       "    [theme=dark] .colab-df-convert:hover {\n",
       "      background-color: #434B5C;\n",
       "      box-shadow: 0px 1px 3px 1px rgba(0, 0, 0, 0.15);\n",
       "      filter: drop-shadow(0px 1px 2px rgba(0, 0, 0, 0.3));\n",
       "      fill: #FFFFFF;\n",
       "    }\n",
       "  </style>\n",
       "\n",
       "      <script>\n",
       "        const buttonEl =\n",
       "          document.querySelector('#df-9725d2bc-bde4-489a-8244-f9b8ed591308 button.colab-df-convert');\n",
       "        buttonEl.style.display =\n",
       "          google.colab.kernel.accessAllowed ? 'block' : 'none';\n",
       "\n",
       "        async function convertToInteractive(key) {\n",
       "          const element = document.querySelector('#df-9725d2bc-bde4-489a-8244-f9b8ed591308');\n",
       "          const dataTable =\n",
       "            await google.colab.kernel.invokeFunction('convertToInteractive',\n",
       "                                                     [key], {});\n",
       "          if (!dataTable) return;\n",
       "\n",
       "          const docLinkHtml = 'Like what you see? Visit the ' +\n",
       "            '<a target=\"_blank\" href=https://colab.research.google.com/notebooks/data_table.ipynb>data table notebook</a>'\n",
       "            + ' to learn more about interactive tables.';\n",
       "          element.innerHTML = '';\n",
       "          dataTable['output_type'] = 'display_data';\n",
       "          await google.colab.output.renderOutput(dataTable, element);\n",
       "          const docLink = document.createElement('div');\n",
       "          docLink.innerHTML = docLinkHtml;\n",
       "          element.appendChild(docLink);\n",
       "        }\n",
       "      </script>\n",
       "    </div>\n",
       "  </div>\n",
       "  "
      ],
      "text/plain": [
       "                           open_price  high_price  low_price  close_price  \\\n",
       "timestamp                                                                   \n",
       "2020-04-20 09:15:00+05:30     9390.20     9390.20    9306.25      9308.40   \n",
       "2020-04-20 09:16:00+05:30     9310.75     9319.35    9289.80      9291.40   \n",
       "2020-04-20 09:17:00+05:30     9292.00     9292.00    9270.70      9281.50   \n",
       "2020-04-20 09:18:00+05:30     9280.95     9296.55    9278.35      9290.30   \n",
       "2020-04-20 09:19:00+05:30     9288.25     9297.15    9280.75      9291.95   \n",
       "\n",
       "                           volume  month  \n",
       "timestamp                                 \n",
       "2020-04-20 09:15:00+05:30       0      4  \n",
       "2020-04-20 09:16:00+05:30       0      4  \n",
       "2020-04-20 09:17:00+05:30       0      4  \n",
       "2020-04-20 09:18:00+05:30       0      4  \n",
       "2020-04-20 09:19:00+05:30       0      4  "
      ]
     },
     "execution_count": 34,
     "metadata": {},
     "output_type": "execute_result"
    }
   ],
   "source": [
    "nifty_50_t.head()"
   ]
  },
  {
   "cell_type": "code",
   "execution_count": null,
   "metadata": {
    "colab": {
     "base_uri": "https://localhost:8080/",
     "height": 499
    },
    "executionInfo": {
     "elapsed": 3284,
     "status": "ok",
     "timestamp": 1653309349429,
     "user": {
      "displayName": "Anastasia Kiiru",
      "userId": "12437046474838202979"
     },
     "user_tz": -180
    },
    "id": "L3cBQ0qV6oR8",
    "outputId": "14110c14-b03f-4f36-d89c-e242c1cc7783"
   },
   "outputs": [
    {
     "name": "stderr",
     "output_type": "stream",
     "text": [
      "/usr/local/lib/python3.7/dist-packages/seaborn/_decorators.py:43: FutureWarning: Pass the following variable as a keyword arg: x. From version 0.12, the only valid positional argument will be `data`, and passing other arguments without an explicit keyword will result in an error or misinterpretation.\n",
      "  FutureWarning\n"
     ]
    },
    {
     "data": {
      "image/png": "[encoded data removed]",
      "text/plain": [
       "<Figure size 1728x576 with 1 Axes>"
      ]
     },
     "metadata": {
      "needs_background": "light"
     },
     "output_type": "display_data"
    }
   ],
   "source": [
    "plt.figure(figsize=(24,8))\n",
    "plt.title('Variation of Nifty50 Plotted against timestamp, with month variation')\n",
    "plt.xticks(rotation = 45)\n",
    "#plt.yticks(fontsize=14)\n",
    "sns.lineplot(nifty_50_t.index, y= nifty_50_t.close_price, hue=nifty_50_t.month);"
   ]
  },
  {
   "cell_type": "markdown",
   "metadata": {
    "id": "hoGK5MZ56tow"
   },
   "source": [
    "With the timestamp as index, the graph has few continous points in between. This is because, we only have data of the days the stock market is open. Example: we dont have data for weekends, or any other holidays, or even the time the market is close. Whereas, When I plotted stock prices against index, there were a continuity in the values."
   ]
  },
  {
   "cell_type": "code",
   "execution_count": null,
   "metadata": {
    "colab": {
     "base_uri": "https://localhost:8080/",
     "height": 206
    },
    "executionInfo": {
     "elapsed": 444,
     "status": "ok",
     "timestamp": 1653309390353,
     "user": {
      "displayName": "Anastasia Kiiru",
      "userId": "12437046474838202979"
     },
     "user_tz": -180
    },
    "id": "StmK22Bq6w2g",
    "outputId": "d2608164-00fb-4ce0-b63c-c498c229be4d"
   },
   "outputs": [
    {
     "data": {
      "text/html": [
       "\n",
       "  <div id=\"df-0620335d-4fe0-4358-a2c7-c0bdc24c72b6\">\n",
       "    <div class=\"colab-df-container\">\n",
       "      <div>\n",
       "<style scoped>\n",
       "    .dataframe tbody tr th:only-of-type {\n",
       "        vertical-align: middle;\n",
       "    }\n",
       "\n",
       "    .dataframe tbody tr th {\n",
       "        vertical-align: top;\n",
       "    }\n",
       "\n",
       "    .dataframe thead th {\n",
       "        text-align: right;\n",
       "    }\n",
       "</style>\n",
       "<table border=\"1\" class=\"dataframe\">\n",
       "  <thead>\n",
       "    <tr style=\"text-align: right;\">\n",
       "      <th></th>\n",
       "      <th>timestamp</th>\n",
       "      <th>open_price</th>\n",
       "      <th>high_price</th>\n",
       "      <th>low_price</th>\n",
       "      <th>close_price</th>\n",
       "      <th>volume</th>\n",
       "      <th>month</th>\n",
       "    </tr>\n",
       "  </thead>\n",
       "  <tbody>\n",
       "    <tr>\n",
       "      <th>0</th>\n",
       "      <td>2020-02-24 09:15:00+05:30</td>\n",
       "      <td>1469.75</td>\n",
       "      <td>1469.75</td>\n",
       "      <td>1463.10</td>\n",
       "      <td>1465.05</td>\n",
       "      <td>150673</td>\n",
       "      <td>2</td>\n",
       "    </tr>\n",
       "    <tr>\n",
       "      <th>1</th>\n",
       "      <td>2020-02-24 09:16:00+05:30</td>\n",
       "      <td>1464.80</td>\n",
       "      <td>1466.90</td>\n",
       "      <td>1463.85</td>\n",
       "      <td>1465.75</td>\n",
       "      <td>70326</td>\n",
       "      <td>2</td>\n",
       "    </tr>\n",
       "    <tr>\n",
       "      <th>2</th>\n",
       "      <td>2020-02-24 09:17:00+05:30</td>\n",
       "      <td>1465.55</td>\n",
       "      <td>1466.15</td>\n",
       "      <td>1464.00</td>\n",
       "      <td>1464.20</td>\n",
       "      <td>48558</td>\n",
       "      <td>2</td>\n",
       "    </tr>\n",
       "    <tr>\n",
       "      <th>3</th>\n",
       "      <td>2020-02-24 09:18:00+05:30</td>\n",
       "      <td>1464.20</td>\n",
       "      <td>1465.85</td>\n",
       "      <td>1464.05</td>\n",
       "      <td>1464.45</td>\n",
       "      <td>30801</td>\n",
       "      <td>2</td>\n",
       "    </tr>\n",
       "    <tr>\n",
       "      <th>4</th>\n",
       "      <td>2020-02-24 09:19:00+05:30</td>\n",
       "      <td>1464.95</td>\n",
       "      <td>1465.80</td>\n",
       "      <td>1463.80</td>\n",
       "      <td>1465.60</td>\n",
       "      <td>32519</td>\n",
       "      <td>2</td>\n",
       "    </tr>\n",
       "  </tbody>\n",
       "</table>\n",
       "</div>\n",
       "      <button class=\"colab-df-convert\" onclick=\"convertToInteractive('df-0620335d-4fe0-4358-a2c7-c0bdc24c72b6')\"\n",
       "              title=\"Convert this dataframe to an interactive table.\"\n",
       "              style=\"display:none;\">\n",
       "        \n",
       "  <svg xmlns=\"http://www.w3.org/2000/svg\" height=\"24px\"viewBox=\"0 0 24 24\"\n",
       "       width=\"24px\">\n",
       "    <path d=\"M0 0h24v24H0V0z\" fill=\"none\"/>\n",
       "    <path d=\"M18.56 5.44l.94 2.06.94-2.06 2.06-.94-2.06-.94-.94-2.06-.94 2.06-2.06.94zm-11 1L8.5 8.5l.94-2.06 2.06-.94-2.06-.94L8.5 2.5l-.94 2.06-2.06.94zm10 10l.94 2.06.94-2.06 2.06-.94-2.06-.94-.94-2.06-.94 2.06-2.06.94z\"/><path d=\"M17.41 7.96l-1.37-1.37c-.4-.4-.92-.59-1.43-.59-.52 0-1.04.2-1.43.59L10.3 9.45l-7.72 7.72c-.78.78-.78 2.05 0 2.83L4 21.41c.39.39.9.59 1.41.59.51 0 1.02-.2 1.41-.59l7.78-7.78 2.81-2.81c.8-.78.8-2.07 0-2.86zM5.41 20L4 18.59l7.72-7.72 1.47 1.35L5.41 20z\"/>\n",
       "  </svg>\n",
       "      </button>\n",
       "      \n",
       "  <style>\n",
       "    .colab-df-container {\n",
       "      display:flex;\n",
       "      flex-wrap:wrap;\n",
       "      gap: 12px;\n",
       "    }\n",
       "\n",
       "    .colab-df-convert {\n",
       "      background-color: #E8F0FE;\n",
       "      border: none;\n",
       "      border-radius: 50%;\n",
       "      cursor: pointer;\n",
       "      display: none;\n",
       "      fill: #1967D2;\n",
       "      height: 32px;\n",
       "      padding: 0 0 0 0;\n",
       "      width: 32px;\n",
       "    }\n",
       "\n",
       "    .colab-df-convert:hover {\n",
       "      background-color: #E2EBFA;\n",
       "      box-shadow: 0px 1px 2px rgba(60, 64, 67, 0.3), 0px 1px 3px 1px rgba(60, 64, 67, 0.15);\n",
       "      fill: #174EA6;\n",
       "    }\n",
       "\n",
       "    [theme=dark] .colab-df-convert {\n",
       "      background-color: #3B4455;\n",
       "      fill: #D2E3FC;\n",
       "    }\n",
       "\n",
       "    [theme=dark] .colab-df-convert:hover {\n",
       "      background-color: #434B5C;\n",
       "      box-shadow: 0px 1px 3px 1px rgba(0, 0, 0, 0.15);\n",
       "      filter: drop-shadow(0px 1px 2px rgba(0, 0, 0, 0.3));\n",
       "      fill: #FFFFFF;\n",
       "    }\n",
       "  </style>\n",
       "\n",
       "      <script>\n",
       "        const buttonEl =\n",
       "          document.querySelector('#df-0620335d-4fe0-4358-a2c7-c0bdc24c72b6 button.colab-df-convert');\n",
       "        buttonEl.style.display =\n",
       "          google.colab.kernel.accessAllowed ? 'block' : 'none';\n",
       "\n",
       "        async function convertToInteractive(key) {\n",
       "          const element = document.querySelector('#df-0620335d-4fe0-4358-a2c7-c0bdc24c72b6');\n",
       "          const dataTable =\n",
       "            await google.colab.kernel.invokeFunction('convertToInteractive',\n",
       "                                                     [key], {});\n",
       "          if (!dataTable) return;\n",
       "\n",
       "          const docLinkHtml = 'Like what you see? Visit the ' +\n",
       "            '<a target=\"_blank\" href=https://colab.research.google.com/notebooks/data_table.ipynb>data table notebook</a>'\n",
       "            + ' to learn more about interactive tables.';\n",
       "          element.innerHTML = '';\n",
       "          dataTable['output_type'] = 'display_data';\n",
       "          await google.colab.output.renderOutput(dataTable, element);\n",
       "          const docLink = document.createElement('div');\n",
       "          docLink.innerHTML = docLinkHtml;\n",
       "          element.appendChild(docLink);\n",
       "        }\n",
       "      </script>\n",
       "    </div>\n",
       "  </div>\n",
       "  "
      ],
      "text/plain": [
       "                  timestamp  open_price  high_price  low_price  close_price  \\\n",
       "0 2020-02-24 09:15:00+05:30     1469.75     1469.75    1463.10      1465.05   \n",
       "1 2020-02-24 09:16:00+05:30     1464.80     1466.90    1463.85      1465.75   \n",
       "2 2020-02-24 09:17:00+05:30     1465.55     1466.15    1464.00      1464.20   \n",
       "3 2020-02-24 09:18:00+05:30     1464.20     1465.85    1464.05      1464.45   \n",
       "4 2020-02-24 09:19:00+05:30     1464.95     1465.80    1463.80      1465.60   \n",
       "\n",
       "   volume  month  \n",
       "0  150673      2  \n",
       "1   70326      2  \n",
       "2   48558      2  \n",
       "3   30801      2  \n",
       "4   32519      2  "
      ]
     },
     "execution_count": 36,
     "metadata": {},
     "output_type": "execute_result"
    }
   ],
   "source": [
    "reliance = call_this_stock(merged_df, 'RELIANCE')\n",
    "reliance.head()"
   ]
  },
  {
   "cell_type": "code",
   "execution_count": null,
   "metadata": {
    "colab": {
     "base_uri": "https://localhost:8080/",
     "height": 387
    },
    "executionInfo": {
     "elapsed": 2543,
     "status": "ok",
     "timestamp": 1653309413834,
     "user": {
      "displayName": "Anastasia Kiiru",
      "userId": "12437046474838202979"
     },
     "user_tz": -180
    },
    "id": "jG0EMzGK618g",
    "outputId": "525fb536-bdf8-4297-fbff-07b274eafade"
   },
   "outputs": [
    {
     "name": "stderr",
     "output_type": "stream",
     "text": [
      "/usr/local/lib/python3.7/dist-packages/seaborn/_decorators.py:43: FutureWarning: Pass the following variable as a keyword arg: x. From version 0.12, the only valid positional argument will be `data`, and passing other arguments without an explicit keyword will result in an error or misinterpretation.\n",
      "  FutureWarning\n"
     ]
    },
    {
     "data": {
      "image/png": "[encoded data removed]",
      "text/plain": [
       "<Figure size 2160x576 with 1 Axes>"
      ]
     },
     "metadata": {
      "needs_background": "light"
     },
     "output_type": "display_data"
    }
   ],
   "source": [
    "plt.figure(figsize=(30,8))\n",
    "plt.title('Variation of Volume of RELIANCE stocks under this time period.')\n",
    "#plt.xticks(rotation = 45)\n",
    "#plt.yticks(fontsize=14)\n",
    "sns.lineplot(reliance.index, y= reliance.volume, hue=reliance.month, palette=\"deep\");"
   ]
  },
  {
   "cell_type": "code",
   "execution_count": null,
   "metadata": {
    "id": "AE_Rxhs267lp"
   },
   "outputs": [],
   "source": [
    "#function to get a slope column\n",
    "def cal_slope(unit_value, df, column):\n",
    "    df['slope_%s'%(column)] = ((df[column] - df[column].shift(unit_value))/unit_value).round(10)"
   ]
  },
  {
   "cell_type": "code",
   "execution_count": null,
   "metadata": {
    "id": "Zrp18UlY7BBv"
   },
   "outputs": [],
   "source": [
    "#Choosing a specific month frm the entire dataset.\n",
    "def choose_month(df, month):\n",
    "    df = df[(df.month == month)]\n",
    "    return df"
   ]
  },
  {
   "cell_type": "code",
   "execution_count": null,
   "metadata": {
    "id": "ak7ySR2h7GS2"
   },
   "outputs": [],
   "source": [
    "nifty_50_april = choose_month(nifty_50, 4)\n",
    "nifty_50_t_april = choose_month(nifty_50, 4)\n",
    "reliance_april = choose_month(reliance, 4)"
   ]
  },
  {
   "cell_type": "code",
   "execution_count": null,
   "metadata": {
    "colab": {
     "base_uri": "https://localhost:8080/",
     "height": 206
    },
    "executionInfo": {
     "elapsed": 19,
     "status": "ok",
     "timestamp": 1653309483173,
     "user": {
      "displayName": "Anastasia Kiiru",
      "userId": "12437046474838202979"
     },
     "user_tz": -180
    },
    "id": "barpTXz87IqR",
    "outputId": "4dc4e65f-2ebc-4a81-cd0d-6c0b4ad22cee"
   },
   "outputs": [
    {
     "data": {
      "text/html": [
       "\n",
       "  <div id=\"df-eb7249ee-75a6-4dd7-8d08-7bc331e773fa\">\n",
       "    <div class=\"colab-df-container\">\n",
       "      <div>\n",
       "<style scoped>\n",
       "    .dataframe tbody tr th:only-of-type {\n",
       "        vertical-align: middle;\n",
       "    }\n",
       "\n",
       "    .dataframe tbody tr th {\n",
       "        vertical-align: top;\n",
       "    }\n",
       "\n",
       "    .dataframe thead th {\n",
       "        text-align: right;\n",
       "    }\n",
       "</style>\n",
       "<table border=\"1\" class=\"dataframe\">\n",
       "  <thead>\n",
       "    <tr style=\"text-align: right;\">\n",
       "      <th></th>\n",
       "      <th>timestamp</th>\n",
       "      <th>open_price</th>\n",
       "      <th>high_price</th>\n",
       "      <th>low_price</th>\n",
       "      <th>close_price</th>\n",
       "      <th>volume</th>\n",
       "      <th>month</th>\n",
       "    </tr>\n",
       "  </thead>\n",
       "  <tbody>\n",
       "    <tr>\n",
       "      <th>0</th>\n",
       "      <td>2020-04-20 09:15:00+05:30</td>\n",
       "      <td>9390.20</td>\n",
       "      <td>9390.20</td>\n",
       "      <td>9306.25</td>\n",
       "      <td>9308.40</td>\n",
       "      <td>0</td>\n",
       "      <td>4</td>\n",
       "    </tr>\n",
       "    <tr>\n",
       "      <th>1</th>\n",
       "      <td>2020-04-20 09:16:00+05:30</td>\n",
       "      <td>9310.75</td>\n",
       "      <td>9319.35</td>\n",
       "      <td>9289.80</td>\n",
       "      <td>9291.40</td>\n",
       "      <td>0</td>\n",
       "      <td>4</td>\n",
       "    </tr>\n",
       "    <tr>\n",
       "      <th>2</th>\n",
       "      <td>2020-04-20 09:17:00+05:30</td>\n",
       "      <td>9292.00</td>\n",
       "      <td>9292.00</td>\n",
       "      <td>9270.70</td>\n",
       "      <td>9281.50</td>\n",
       "      <td>0</td>\n",
       "      <td>4</td>\n",
       "    </tr>\n",
       "    <tr>\n",
       "      <th>3</th>\n",
       "      <td>2020-04-20 09:18:00+05:30</td>\n",
       "      <td>9280.95</td>\n",
       "      <td>9296.55</td>\n",
       "      <td>9278.35</td>\n",
       "      <td>9290.30</td>\n",
       "      <td>0</td>\n",
       "      <td>4</td>\n",
       "    </tr>\n",
       "    <tr>\n",
       "      <th>4</th>\n",
       "      <td>2020-04-20 09:19:00+05:30</td>\n",
       "      <td>9288.25</td>\n",
       "      <td>9297.15</td>\n",
       "      <td>9280.75</td>\n",
       "      <td>9291.95</td>\n",
       "      <td>0</td>\n",
       "      <td>4</td>\n",
       "    </tr>\n",
       "  </tbody>\n",
       "</table>\n",
       "</div>\n",
       "      <button class=\"colab-df-convert\" onclick=\"convertToInteractive('df-eb7249ee-75a6-4dd7-8d08-7bc331e773fa')\"\n",
       "              title=\"Convert this dataframe to an interactive table.\"\n",
       "              style=\"display:none;\">\n",
       "        \n",
       "  <svg xmlns=\"http://www.w3.org/2000/svg\" height=\"24px\"viewBox=\"0 0 24 24\"\n",
       "       width=\"24px\">\n",
       "    <path d=\"M0 0h24v24H0V0z\" fill=\"none\"/>\n",
       "    <path d=\"M18.56 5.44l.94 2.06.94-2.06 2.06-.94-2.06-.94-.94-2.06-.94 2.06-2.06.94zm-11 1L8.5 8.5l.94-2.06 2.06-.94-2.06-.94L8.5 2.5l-.94 2.06-2.06.94zm10 10l.94 2.06.94-2.06 2.06-.94-2.06-.94-.94-2.06-.94 2.06-2.06.94z\"/><path d=\"M17.41 7.96l-1.37-1.37c-.4-.4-.92-.59-1.43-.59-.52 0-1.04.2-1.43.59L10.3 9.45l-7.72 7.72c-.78.78-.78 2.05 0 2.83L4 21.41c.39.39.9.59 1.41.59.51 0 1.02-.2 1.41-.59l7.78-7.78 2.81-2.81c.8-.78.8-2.07 0-2.86zM5.41 20L4 18.59l7.72-7.72 1.47 1.35L5.41 20z\"/>\n",
       "  </svg>\n",
       "      </button>\n",
       "      \n",
       "  <style>\n",
       "    .colab-df-container {\n",
       "      display:flex;\n",
       "      flex-wrap:wrap;\n",
       "      gap: 12px;\n",
       "    }\n",
       "\n",
       "    .colab-df-convert {\n",
       "      background-color: #E8F0FE;\n",
       "      border: none;\n",
       "      border-radius: 50%;\n",
       "      cursor: pointer;\n",
       "      display: none;\n",
       "      fill: #1967D2;\n",
       "      height: 32px;\n",
       "      padding: 0 0 0 0;\n",
       "      width: 32px;\n",
       "    }\n",
       "\n",
       "    .colab-df-convert:hover {\n",
       "      background-color: #E2EBFA;\n",
       "      box-shadow: 0px 1px 2px rgba(60, 64, 67, 0.3), 0px 1px 3px 1px rgba(60, 64, 67, 0.15);\n",
       "      fill: #174EA6;\n",
       "    }\n",
       "\n",
       "    [theme=dark] .colab-df-convert {\n",
       "      background-color: #3B4455;\n",
       "      fill: #D2E3FC;\n",
       "    }\n",
       "\n",
       "    [theme=dark] .colab-df-convert:hover {\n",
       "      background-color: #434B5C;\n",
       "      box-shadow: 0px 1px 3px 1px rgba(0, 0, 0, 0.15);\n",
       "      filter: drop-shadow(0px 1px 2px rgba(0, 0, 0, 0.3));\n",
       "      fill: #FFFFFF;\n",
       "    }\n",
       "  </style>\n",
       "\n",
       "      <script>\n",
       "        const buttonEl =\n",
       "          document.querySelector('#df-eb7249ee-75a6-4dd7-8d08-7bc331e773fa button.colab-df-convert');\n",
       "        buttonEl.style.display =\n",
       "          google.colab.kernel.accessAllowed ? 'block' : 'none';\n",
       "\n",
       "        async function convertToInteractive(key) {\n",
       "          const element = document.querySelector('#df-eb7249ee-75a6-4dd7-8d08-7bc331e773fa');\n",
       "          const dataTable =\n",
       "            await google.colab.kernel.invokeFunction('convertToInteractive',\n",
       "                                                     [key], {});\n",
       "          if (!dataTable) return;\n",
       "\n",
       "          const docLinkHtml = 'Like what you see? Visit the ' +\n",
       "            '<a target=\"_blank\" href=https://colab.research.google.com/notebooks/data_table.ipynb>data table notebook</a>'\n",
       "            + ' to learn more about interactive tables.';\n",
       "          element.innerHTML = '';\n",
       "          dataTable['output_type'] = 'display_data';\n",
       "          await google.colab.output.renderOutput(dataTable, element);\n",
       "          const docLink = document.createElement('div');\n",
       "          docLink.innerHTML = docLinkHtml;\n",
       "          element.appendChild(docLink);\n",
       "        }\n",
       "      </script>\n",
       "    </div>\n",
       "  </div>\n",
       "  "
      ],
      "text/plain": [
       "                  timestamp  open_price  high_price  low_price  close_price  \\\n",
       "0 2020-04-20 09:15:00+05:30     9390.20     9390.20    9306.25      9308.40   \n",
       "1 2020-04-20 09:16:00+05:30     9310.75     9319.35    9289.80      9291.40   \n",
       "2 2020-04-20 09:17:00+05:30     9292.00     9292.00    9270.70      9281.50   \n",
       "3 2020-04-20 09:18:00+05:30     9280.95     9296.55    9278.35      9290.30   \n",
       "4 2020-04-20 09:19:00+05:30     9288.25     9297.15    9280.75      9291.95   \n",
       "\n",
       "   volume  month  \n",
       "0       0      4  \n",
       "1       0      4  \n",
       "2       0      4  \n",
       "3       0      4  \n",
       "4       0      4  "
      ]
     },
     "execution_count": 41,
     "metadata": {},
     "output_type": "execute_result"
    }
   ],
   "source": [
    "nifty_50_april.head()"
   ]
  },
  {
   "cell_type": "code",
   "execution_count": null,
   "metadata": {
    "colab": {
     "base_uri": "https://localhost:8080/",
     "height": 417
    },
    "executionInfo": {
     "elapsed": 3286,
     "status": "ok",
     "timestamp": 1653313833607,
     "user": {
      "displayName": "Anastasia Kiiru",
      "userId": "12437046474838202979"
     },
     "user_tz": -180
    },
    "id": "0GkW7zugLfQo",
    "outputId": "4d64f671-f1d4-4eb4-ccae-dbfdb2259eb4"
   },
   "outputs": [
    {
     "data": {
      "image/png": "[encoded data removed]",
      "text/plain": [
       "<Figure size 1728x576 with 1 Axes>"
      ]
     },
     "metadata": {
      "needs_background": "light"
     },
     "output_type": "display_data"
    }
   ],
   "source": [
    "plt.figure(figsize=(24,8))\n",
    "plt.title('Variation of Nifty50 throughout our observations.', fontsize= 15)\n",
    "plt.ylabel('Stock Price(rs)', fontsize=13)\n",
    "plt.xlabel('Increasing index of observations -> from the month APRIL to SEPTEMBER ', fontsize=12)\n",
    "plt.plot(nifty_50_april.close_price);"
   ]
  },
  {
   "cell_type": "markdown",
   "metadata": {
    "id": "LdtH0s5F7MO1"
   },
   "source": [
    "## Autocorelation and Corelation Plot\n",
    "Autocorrelation plot, tells us the similarity between observations as a function of time lag between them. It is designed to show whether the elements of a time series are positively correlated, negatively correlated, or independent of each other. It can range from –1 to 1.\n",
    "\n",
    "The horizontal axis of an autocorrelation plot shows the size of the lag between the elements of the time series. For example, the autocorrelation with lag 2 is the correlation between the time series elements and the corresponding elements that were observed two time periods earlier.\n",
    "\n",
    "The kth lag is the time period that happened “k” time points before time i."
   ]
  },
  {
   "cell_type": "code",
   "execution_count": null,
   "metadata": {
    "colab": {
     "base_uri": "https://localhost:8080/",
     "height": 392
    },
    "executionInfo": {
     "elapsed": 2587,
     "status": "ok",
     "timestamp": 1653309558477,
     "user": {
      "displayName": "Anastasia Kiiru",
      "userId": "12437046474838202979"
     },
     "user_tz": -180
    },
    "id": "wuGa37cN7W8A",
    "outputId": "df138e4f-7e99-453a-f9f3-13e3c610a197"
   },
   "outputs": [
    {
     "data": {
      "image/png": "[encoded data removed]",
      "text/plain": [
       "<Figure size 720x432 with 1 Axes>"
      ]
     },
     "metadata": {
      "needs_background": "light"
     },
     "output_type": "display_data"
    }
   ],
   "source": [
    "#from pandas.plotting import autocorrelation_plot\n",
    "plt.rc(\"figure\", figsize=(10,6))\n",
    "pd.plotting.autocorrelation_plot(nifty_50['close_price']);"
   ]
  },
  {
   "cell_type": "markdown",
   "metadata": {
    "id": "TxdIUtxv7hYx"
   },
   "source": [
    "Well, we have a -ve autocorrelation here, meaning that the close_price values after the time lag are not dependant on the close_price values before the time lag."
   ]
  },
  {
   "cell_type": "code",
   "execution_count": null,
   "metadata": {
    "colab": {
     "base_uri": "https://localhost:8080/"
    },
    "executionInfo": {
     "elapsed": 1022,
     "status": "ok",
     "timestamp": 1653309589823,
     "user": {
      "displayName": "Anastasia Kiiru",
      "userId": "12437046474838202979"
     },
     "user_tz": -180
    },
    "id": "L24_fpX37iiJ",
    "outputId": "da7b3b5e-d6b9-460d-e376-82fb664d18e9"
   },
   "outputs": [
    {
     "name": "stderr",
     "output_type": "stream",
     "text": [
      "/usr/local/lib/python3.7/dist-packages/statsmodels/tools/_testing.py:19: FutureWarning: pandas.util.testing is deprecated. Use the functions in the public API at pandas.testing instead.\n",
      "  import pandas.util.testing as tm\n"
     ]
    }
   ],
   "source": [
    "import statsmodels.api as sm"
   ]
  },
  {
   "cell_type": "code",
   "execution_count": null,
   "metadata": {
    "colab": {
     "base_uri": "https://localhost:8080/",
     "height": 390
    },
    "executionInfo": {
     "elapsed": 2811,
     "status": "ok",
     "timestamp": 1653309607944,
     "user": {
      "displayName": "Anastasia Kiiru",
      "userId": "12437046474838202979"
     },
     "user_tz": -180
    },
    "id": "JRGE7TOn7nQ-",
    "outputId": "41f982e4-4f59-466e-83fe-be51d46d97cd"
   },
   "outputs": [
    {
     "data": {
      "image/png": "[encoded data removed]",
      "text/plain": [
       "<Figure size 720x432 with 1 Axes>"
      ]
     },
     "metadata": {
      "needs_background": "light"
     },
     "output_type": "display_data"
    }
   ],
   "source": [
    "plt.rc(\"figure\", figsize=(10,6))\n",
    "sm.graphics.tsa.plot_acf(nifty_50['close_price'], lags = 36000);"
   ]
  },
  {
   "cell_type": "markdown",
   "metadata": {
    "id": "Gsg58KeE7p39"
   },
   "source": [
    "## Before Removing Trend"
   ]
  },
  {
   "cell_type": "code",
   "execution_count": null,
   "metadata": {
    "colab": {
     "base_uri": "https://localhost:8080/",
     "height": 318
    },
    "executionInfo": {
     "elapsed": 1351,
     "status": "ok",
     "timestamp": 1653309639577,
     "user": {
      "displayName": "Anastasia Kiiru",
      "userId": "12437046474838202979"
     },
     "user_tz": -180
    },
    "id": "92EtCRnD7sDY",
    "outputId": "16ad57b2-e96a-45bb-f5c1-1b81d0523b11"
   },
   "outputs": [
    {
     "data": {
      "image/png": "[encoded data removed]",
      "text/plain": [
       "<Figure size 2160x576 with 1 Axes>"
      ]
     },
     "metadata": {
      "needs_background": "light"
     },
     "output_type": "display_data"
    }
   ],
   "source": [
    "plt.figure(figsize=(30,8))\n",
    "sns.lineplot(data=nifty_50_april['close_price'], palette=\"deep\");"
   ]
  },
  {
   "cell_type": "code",
   "execution_count": null,
   "metadata": {
    "colab": {
     "base_uri": "https://localhost:8080/",
     "height": 392
    },
    "executionInfo": {
     "elapsed": 710,
     "status": "ok",
     "timestamp": 1653309734251,
     "user": {
      "displayName": "Anastasia Kiiru",
      "userId": "12437046474838202979"
     },
     "user_tz": -180
    },
    "id": "qf1odrsV8G1A",
    "outputId": "0767f92f-8882-4b4d-a353-df5893367179"
   },
   "outputs": [
    {
     "data": {
      "image/png": "[encoded data removed]",
      "text/plain": [
       "<Figure size 720x432 with 1 Axes>"
      ]
     },
     "metadata": {
      "needs_background": "light"
     },
     "output_type": "display_data"
    }
   ],
   "source": [
    "plt.rc(\"figure\", figsize=(10,6))\n",
    "pd.plotting.autocorrelation_plot(nifty_50_april['close_price']);"
   ]
  },
  {
   "cell_type": "code",
   "execution_count": null,
   "metadata": {
    "colab": {
     "base_uri": "https://localhost:8080/",
     "height": 390
    },
    "executionInfo": {
     "elapsed": 1359,
     "status": "ok",
     "timestamp": 1653309748512,
     "user": {
      "displayName": "Anastasia Kiiru",
      "userId": "12437046474838202979"
     },
     "user_tz": -180
    },
    "id": "Ty_YuLtQ8KTF",
    "outputId": "8dab232e-c778-4f1c-d57e-d63ead979ed0"
   },
   "outputs": [
    {
     "data": {
      "image/png": "[encoded data removed]",
      "text/plain": [
       "<Figure size 720x432 with 1 Axes>"
      ]
     },
     "metadata": {
      "needs_background": "light"
     },
     "output_type": "display_data"
    }
   ],
   "source": [
    "plt.rc(\"figure\", figsize=(10,6))\n",
    "sm.graphics.tsa.plot_acf(nifty_50_april['close_price'], lags=50);"
   ]
  },
  {
   "cell_type": "markdown",
   "metadata": {
    "id": "yRYqrfXv8OgC"
   },
   "source": [
    "Differencing. Differencing is a popular and widely used data transform for making time series data stationary.\n",
    "\n",
    "difference(t) = observation(t) - observation(t-1)"
   ]
  },
  {
   "cell_type": "markdown",
   "metadata": {
    "id": "Yw21soua8Pr4"
   },
   "source": [
    "## After removing Trend"
   ]
  },
  {
   "cell_type": "code",
   "execution_count": null,
   "metadata": {
    "colab": {
     "base_uri": "https://localhost:8080/",
     "height": 390
    },
    "executionInfo": {
     "elapsed": 1239,
     "status": "ok",
     "timestamp": 1653309789151,
     "user": {
      "displayName": "Anastasia Kiiru",
      "userId": "12437046474838202979"
     },
     "user_tz": -180
    },
    "id": "lvy2z4Jw8RtT",
    "outputId": "f0c0e1ba-f4b2-4012-f369-1da8532ed880"
   },
   "outputs": [
    {
     "data": {
      "image/png": "[encoded data removed]",
      "text/plain": [
       "<Figure size 720x432 with 1 Axes>"
      ]
     },
     "metadata": {
      "needs_background": "light"
     },
     "output_type": "display_data"
    }
   ],
   "source": [
    "data = nifty_50_april['close_price'] - nifty_50_april['close_price'].shift(1)\n",
    "plt.rc(\"figure\", figsize=(10,6))\n",
    "sm.graphics.tsa.plot_acf(data[1:], lags=50);"
   ]
  },
  {
   "cell_type": "code",
   "execution_count": null,
   "metadata": {
    "colab": {
     "base_uri": "https://localhost:8080/",
     "height": 318
    },
    "executionInfo": {
     "elapsed": 3140,
     "status": "ok",
     "timestamp": 1653309803872,
     "user": {
      "displayName": "Anastasia Kiiru",
      "userId": "12437046474838202979"
     },
     "user_tz": -180
    },
    "id": "hipsxipt8XJH",
    "outputId": "63bf890e-da59-4b43-d749-edc297bff6e9"
   },
   "outputs": [
    {
     "data": {
      "image/png": "[encoded data removed]",
      "text/plain": [
       "<Figure size 2160x576 with 1 Axes>"
      ]
     },
     "metadata": {
      "needs_background": "light"
     },
     "output_type": "display_data"
    }
   ],
   "source": [
    "plt.figure(figsize=(30,8))\n",
    "sns.lineplot(data=data[1:], palette=\"deep\");"
   ]
  },
  {
   "cell_type": "code",
   "execution_count": null,
   "metadata": {
    "colab": {
     "base_uri": "https://localhost:8080/",
     "height": 392
    },
    "executionInfo": {
     "elapsed": 909,
     "status": "ok",
     "timestamp": 1653309819418,
     "user": {
      "displayName": "Anastasia Kiiru",
      "userId": "12437046474838202979"
     },
     "user_tz": -180
    },
    "id": "w6rqNlN18bef",
    "outputId": "4bb607dd-3436-406c-d434-9ab7da377343"
   },
   "outputs": [
    {
     "data": {
      "image/png": "[encoded data removed]",
      "text/plain": [
       "<Figure size 720x432 with 1 Axes>"
      ]
     },
     "metadata": {
      "needs_background": "light"
     },
     "output_type": "display_data"
    }
   ],
   "source": [
    "#plt.rc(\"figure\", figsize=(10,6))\n",
    "pd.plotting.autocorrelation_plot(data[1:]);"
   ]
  },
  {
   "cell_type": "code",
   "execution_count": null,
   "metadata": {
    "colab": {
     "base_uri": "https://localhost:8080/"
    },
    "executionInfo": {
     "elapsed": 12,
     "status": "ok",
     "timestamp": 1653309837084,
     "user": {
      "displayName": "Anastasia Kiiru",
      "userId": "12437046474838202979"
     },
     "user_tz": -180
    },
    "id": "6s2Z2bv_8dwq",
    "outputId": "93b8a06a-ec23-4d37-f4c3-49d3f6ce2512"
   },
   "outputs": [
    {
     "data": {
      "text/plain": [
       "0      NaN\n",
       "1   -17.00\n",
       "2    -9.90\n",
       "3     8.80\n",
       "4     1.65\n",
       "Name: close_price, dtype: float64"
      ]
     },
     "execution_count": 51,
     "metadata": {},
     "output_type": "execute_result"
    }
   ],
   "source": [
    "data.head()"
   ]
  },
  {
   "cell_type": "code",
   "execution_count": null,
   "metadata": {
    "colab": {
     "base_uri": "https://localhost:8080/",
     "height": 390
    },
    "executionInfo": {
     "elapsed": 838,
     "status": "ok",
     "timestamp": 1653309852873,
     "user": {
      "displayName": "Anastasia Kiiru",
      "userId": "12437046474838202979"
     },
     "user_tz": -180
    },
    "id": "1e2VgtCB8jq7",
    "outputId": "fca843e0-14a8-411e-a699-bb5233baa71f"
   },
   "outputs": [
    {
     "data": {
      "image/png": "[encoded data removed]",
      "text/plain": [
       "<Figure size 720x432 with 1 Axes>"
      ]
     },
     "metadata": {
      "needs_background": "light"
     },
     "output_type": "display_data"
    }
   ],
   "source": [
    "plt.rc(\"figure\", figsize=(10,6))\n",
    "sm.graphics.tsa.plot_pacf(nifty_50['close_price']);"
   ]
  },
  {
   "cell_type": "code",
   "execution_count": null,
   "metadata": {
    "colab": {
     "base_uri": "https://localhost:8080/",
     "height": 390
    },
    "executionInfo": {
     "elapsed": 440,
     "status": "ok",
     "timestamp": 1653309878121,
     "user": {
      "displayName": "Anastasia Kiiru",
      "userId": "12437046474838202979"
     },
     "user_tz": -180
    },
    "id": "57QtRf-T8osh",
    "outputId": "14145c3d-e685-4282-9a3b-c487bc9dcd9c"
   },
   "outputs": [
    {
     "data": {
      "image/png": "[encoded data removed]",
      "text/plain": [
       "<Figure size 720x432 with 1 Axes>"
      ]
     },
     "metadata": {
      "needs_background": "light"
     },
     "output_type": "display_data"
    }
   ],
   "source": [
    "plt.rc(\"figure\", figsize=(10,6))\n",
    "sm.graphics.tsa.plot_pacf(nifty_50_april['close_price']);"
   ]
  },
  {
   "cell_type": "markdown",
   "metadata": {
    "id": "k9XqZ6FP8siG"
   },
   "source": [
    "### Partial AutoCorrelation After Removing Trend"
   ]
  },
  {
   "cell_type": "code",
   "execution_count": null,
   "metadata": {
    "colab": {
     "base_uri": "https://localhost:8080/",
     "height": 390
    },
    "executionInfo": {
     "elapsed": 693,
     "status": "ok",
     "timestamp": 1653309913834,
     "user": {
      "displayName": "Anastasia Kiiru",
      "userId": "12437046474838202979"
     },
     "user_tz": -180
    },
    "id": "YpZK_Spr8w72",
    "outputId": "cc23745a-2a0d-4404-d39b-8d6fc9692d7f"
   },
   "outputs": [
    {
     "data": {
      "image/png": "[encoded data removed]",
      "text/plain": [
       "<Figure size 720x432 with 1 Axes>"
      ]
     },
     "metadata": {
      "needs_background": "light"
     },
     "output_type": "display_data"
    }
   ],
   "source": [
    "plt.rc(\"figure\", figsize=(10,6))\n",
    "sm.graphics.tsa.plot_pacf(data[1:]);"
   ]
  },
  {
   "cell_type": "code",
   "execution_count": null,
   "metadata": {
    "id": "qaKks9NH81oC"
   },
   "outputs": [],
   "source": [
    "cal_slope(10, nifty_50, 'close_price')"
   ]
  },
  {
   "cell_type": "code",
   "execution_count": null,
   "metadata": {
    "colab": {
     "base_uri": "https://localhost:8080/",
     "height": 206
    },
    "executionInfo": {
     "elapsed": 433,
     "status": "ok",
     "timestamp": 1653309939609,
     "user": {
      "displayName": "Anastasia Kiiru",
      "userId": "12437046474838202979"
     },
     "user_tz": -180
    },
    "id": "UF7YscZJ83lp",
    "outputId": "4c522fcc-0b58-4043-9e6e-51576bdc1cf6"
   },
   "outputs": [
    {
     "data": {
      "text/html": [
       "\n",
       "  <div id=\"df-f6fe7370-7dfe-45bb-ad98-fa68e7126afb\">\n",
       "    <div class=\"colab-df-container\">\n",
       "      <div>\n",
       "<style scoped>\n",
       "    .dataframe tbody tr th:only-of-type {\n",
       "        vertical-align: middle;\n",
       "    }\n",
       "\n",
       "    .dataframe tbody tr th {\n",
       "        vertical-align: top;\n",
       "    }\n",
       "\n",
       "    .dataframe thead th {\n",
       "        text-align: right;\n",
       "    }\n",
       "</style>\n",
       "<table border=\"1\" class=\"dataframe\">\n",
       "  <thead>\n",
       "    <tr style=\"text-align: right;\">\n",
       "      <th></th>\n",
       "      <th>timestamp</th>\n",
       "      <th>open_price</th>\n",
       "      <th>high_price</th>\n",
       "      <th>low_price</th>\n",
       "      <th>close_price</th>\n",
       "      <th>volume</th>\n",
       "      <th>month</th>\n",
       "      <th>slope_close_price</th>\n",
       "    </tr>\n",
       "  </thead>\n",
       "  <tbody>\n",
       "    <tr>\n",
       "      <th>0</th>\n",
       "      <td>2020-04-20 09:15:00+05:30</td>\n",
       "      <td>9390.20</td>\n",
       "      <td>9390.20</td>\n",
       "      <td>9306.25</td>\n",
       "      <td>9308.40</td>\n",
       "      <td>0</td>\n",
       "      <td>4</td>\n",
       "      <td>NaN</td>\n",
       "    </tr>\n",
       "    <tr>\n",
       "      <th>1</th>\n",
       "      <td>2020-04-20 09:16:00+05:30</td>\n",
       "      <td>9310.75</td>\n",
       "      <td>9319.35</td>\n",
       "      <td>9289.80</td>\n",
       "      <td>9291.40</td>\n",
       "      <td>0</td>\n",
       "      <td>4</td>\n",
       "      <td>NaN</td>\n",
       "    </tr>\n",
       "    <tr>\n",
       "      <th>2</th>\n",
       "      <td>2020-04-20 09:17:00+05:30</td>\n",
       "      <td>9292.00</td>\n",
       "      <td>9292.00</td>\n",
       "      <td>9270.70</td>\n",
       "      <td>9281.50</td>\n",
       "      <td>0</td>\n",
       "      <td>4</td>\n",
       "      <td>NaN</td>\n",
       "    </tr>\n",
       "    <tr>\n",
       "      <th>3</th>\n",
       "      <td>2020-04-20 09:18:00+05:30</td>\n",
       "      <td>9280.95</td>\n",
       "      <td>9296.55</td>\n",
       "      <td>9278.35</td>\n",
       "      <td>9290.30</td>\n",
       "      <td>0</td>\n",
       "      <td>4</td>\n",
       "      <td>NaN</td>\n",
       "    </tr>\n",
       "    <tr>\n",
       "      <th>4</th>\n",
       "      <td>2020-04-20 09:19:00+05:30</td>\n",
       "      <td>9288.25</td>\n",
       "      <td>9297.15</td>\n",
       "      <td>9280.75</td>\n",
       "      <td>9291.95</td>\n",
       "      <td>0</td>\n",
       "      <td>4</td>\n",
       "      <td>NaN</td>\n",
       "    </tr>\n",
       "  </tbody>\n",
       "</table>\n",
       "</div>\n",
       "      <button class=\"colab-df-convert\" onclick=\"convertToInteractive('df-f6fe7370-7dfe-45bb-ad98-fa68e7126afb')\"\n",
       "              title=\"Convert this dataframe to an interactive table.\"\n",
       "              style=\"display:none;\">\n",
       "        \n",
       "  <svg xmlns=\"http://www.w3.org/2000/svg\" height=\"24px\"viewBox=\"0 0 24 24\"\n",
       "       width=\"24px\">\n",
       "    <path d=\"M0 0h24v24H0V0z\" fill=\"none\"/>\n",
       "    <path d=\"M18.56 5.44l.94 2.06.94-2.06 2.06-.94-2.06-.94-.94-2.06-.94 2.06-2.06.94zm-11 1L8.5 8.5l.94-2.06 2.06-.94-2.06-.94L8.5 2.5l-.94 2.06-2.06.94zm10 10l.94 2.06.94-2.06 2.06-.94-2.06-.94-.94-2.06-.94 2.06-2.06.94z\"/><path d=\"M17.41 7.96l-1.37-1.37c-.4-.4-.92-.59-1.43-.59-.52 0-1.04.2-1.43.59L10.3 9.45l-7.72 7.72c-.78.78-.78 2.05 0 2.83L4 21.41c.39.39.9.59 1.41.59.51 0 1.02-.2 1.41-.59l7.78-7.78 2.81-2.81c.8-.78.8-2.07 0-2.86zM5.41 20L4 18.59l7.72-7.72 1.47 1.35L5.41 20z\"/>\n",
       "  </svg>\n",
       "      </button>\n",
       "      \n",
       "  <style>\n",
       "    .colab-df-container {\n",
       "      display:flex;\n",
       "      flex-wrap:wrap;\n",
       "      gap: 12px;\n",
       "    }\n",
       "\n",
       "    .colab-df-convert {\n",
       "      background-color: #E8F0FE;\n",
       "      border: none;\n",
       "      border-radius: 50%;\n",
       "      cursor: pointer;\n",
       "      display: none;\n",
       "      fill: #1967D2;\n",
       "      height: 32px;\n",
       "      padding: 0 0 0 0;\n",
       "      width: 32px;\n",
       "    }\n",
       "\n",
       "    .colab-df-convert:hover {\n",
       "      background-color: #E2EBFA;\n",
       "      box-shadow: 0px 1px 2px rgba(60, 64, 67, 0.3), 0px 1px 3px 1px rgba(60, 64, 67, 0.15);\n",
       "      fill: #174EA6;\n",
       "    }\n",
       "\n",
       "    [theme=dark] .colab-df-convert {\n",
       "      background-color: #3B4455;\n",
       "      fill: #D2E3FC;\n",
       "    }\n",
       "\n",
       "    [theme=dark] .colab-df-convert:hover {\n",
       "      background-color: #434B5C;\n",
       "      box-shadow: 0px 1px 3px 1px rgba(0, 0, 0, 0.15);\n",
       "      filter: drop-shadow(0px 1px 2px rgba(0, 0, 0, 0.3));\n",
       "      fill: #FFFFFF;\n",
       "    }\n",
       "  </style>\n",
       "\n",
       "      <script>\n",
       "        const buttonEl =\n",
       "          document.querySelector('#df-f6fe7370-7dfe-45bb-ad98-fa68e7126afb button.colab-df-convert');\n",
       "        buttonEl.style.display =\n",
       "          google.colab.kernel.accessAllowed ? 'block' : 'none';\n",
       "\n",
       "        async function convertToInteractive(key) {\n",
       "          const element = document.querySelector('#df-f6fe7370-7dfe-45bb-ad98-fa68e7126afb');\n",
       "          const dataTable =\n",
       "            await google.colab.kernel.invokeFunction('convertToInteractive',\n",
       "                                                     [key], {});\n",
       "          if (!dataTable) return;\n",
       "\n",
       "          const docLinkHtml = 'Like what you see? Visit the ' +\n",
       "            '<a target=\"_blank\" href=https://colab.research.google.com/notebooks/data_table.ipynb>data table notebook</a>'\n",
       "            + ' to learn more about interactive tables.';\n",
       "          element.innerHTML = '';\n",
       "          dataTable['output_type'] = 'display_data';\n",
       "          await google.colab.output.renderOutput(dataTable, element);\n",
       "          const docLink = document.createElement('div');\n",
       "          docLink.innerHTML = docLinkHtml;\n",
       "          element.appendChild(docLink);\n",
       "        }\n",
       "      </script>\n",
       "    </div>\n",
       "  </div>\n",
       "  "
      ],
      "text/plain": [
       "                  timestamp  open_price  high_price  low_price  close_price  \\\n",
       "0 2020-04-20 09:15:00+05:30     9390.20     9390.20    9306.25      9308.40   \n",
       "1 2020-04-20 09:16:00+05:30     9310.75     9319.35    9289.80      9291.40   \n",
       "2 2020-04-20 09:17:00+05:30     9292.00     9292.00    9270.70      9281.50   \n",
       "3 2020-04-20 09:18:00+05:30     9280.95     9296.55    9278.35      9290.30   \n",
       "4 2020-04-20 09:19:00+05:30     9288.25     9297.15    9280.75      9291.95   \n",
       "\n",
       "   volume  month  slope_close_price  \n",
       "0       0      4                NaN  \n",
       "1       0      4                NaN  \n",
       "2       0      4                NaN  \n",
       "3       0      4                NaN  \n",
       "4       0      4                NaN  "
      ]
     },
     "execution_count": 56,
     "metadata": {},
     "output_type": "execute_result"
    }
   ],
   "source": [
    "nifty_50.head()"
   ]
  },
  {
   "cell_type": "code",
   "execution_count": null,
   "metadata": {
    "id": "Mhq2SdsL87KJ"
   },
   "outputs": [],
   "source": [
    "def corr_matrix(df):\n",
    "    #correlation_matrix = df.drop(['volume'], axis=1)\n",
    "    correlation_matrix = df.drop(['volume'], axis=1).corr()\n",
    "    print(correlation_matrix)\n",
    "    \n",
    "    fig, ax = plt.subplots(figsize=(13,10))\n",
    "\n",
    "    sns.heatmap(correlation_matrix,\n",
    "                annot=True,\n",
    "                fmt='.2f',\n",
    "                #cmap='YlGnBu',\n",
    "                ax=ax);\n",
    "    plt.xticks(fontsize=14)\n",
    "    plt.yticks(fontsize=14);"
   ]
  },
  {
   "cell_type": "code",
   "execution_count": null,
   "metadata": {
    "colab": {
     "base_uri": "https://localhost:8080/",
     "height": 874
    },
    "executionInfo": {
     "elapsed": 1577,
     "status": "ok",
     "timestamp": 1653309969291,
     "user": {
      "displayName": "Anastasia Kiiru",
      "userId": "12437046474838202979"
     },
     "user_tz": -180
    },
    "id": "tKVYmFei8_qd",
    "outputId": "593be72d-b080-49ee-f55f-77ed0014d96b"
   },
   "outputs": [
    {
     "name": "stdout",
     "output_type": "stream",
     "text": [
      "                   open_price  high_price  low_price  close_price     month  \\\n",
      "open_price           1.000000    0.999991   0.999989     0.999979  0.936798   \n",
      "high_price           0.999991    1.000000   0.999988     0.999991  0.936807   \n",
      "low_price            0.999989    0.999988   1.000000     0.999992  0.936785   \n",
      "close_price          0.999979    0.999991   0.999992     1.000000  0.936796   \n",
      "month                0.936798    0.936807   0.936785     0.936796  1.000000   \n",
      "slope_close_price    0.013885    0.014638   0.014794     0.015239  0.001234   \n",
      "\n",
      "                   slope_close_price  \n",
      "open_price                  0.013885  \n",
      "high_price                  0.014638  \n",
      "low_price                   0.014794  \n",
      "close_price                 0.015239  \n",
      "month                       0.001234  \n",
      "slope_close_price           1.000000  \n"
     ]
    },
    {
     "data": {
      "image/png": "[encoded data removed]",
      "text/plain": [
       "<Figure size 936x720 with 2 Axes>"
      ]
     },
     "metadata": {
      "needs_background": "light"
     },
     "output_type": "display_data"
    }
   ],
   "source": [
    "corr_matrix(nifty_50)"
   ]
  },
  {
   "cell_type": "code",
   "execution_count": null,
   "metadata": {
    "colab": {
     "base_uri": "https://localhost:8080/",
     "height": 710
    },
    "executionInfo": {
     "elapsed": 1579,
     "status": "ok",
     "timestamp": 1653309990548,
     "user": {
      "displayName": "Anastasia Kiiru",
      "userId": "12437046474838202979"
     },
     "user_tz": -180
    },
    "id": "Gksz6ArG9EFx",
    "outputId": "a2df9285-928d-4e06-df4c-6659d1e990d0"
   },
   "outputs": [
    {
     "name": "stdout",
     "output_type": "stream",
     "text": [
      "             open_price  high_price  low_price  close_price  month\n",
      "open_price     1.000000    0.999849   0.999829     0.999619    NaN\n",
      "high_price     0.999849    1.000000   0.999822     0.999846    NaN\n",
      "low_price      0.999829    0.999822   1.000000     0.999859    NaN\n",
      "close_price    0.999619    0.999846   0.999859     1.000000    NaN\n",
      "month               NaN         NaN        NaN          NaN    NaN\n"
     ]
    },
    {
     "data": {
      "image/png": "[encoded data removed]",
      "text/plain": [
       "<Figure size 936x720 with 2 Axes>"
      ]
     },
     "metadata": {
      "needs_background": "light"
     },
     "output_type": "display_data"
    }
   ],
   "source": [
    "corr_matrix(nifty_50_april)"
   ]
  },
  {
   "cell_type": "markdown",
   "metadata": {
    "id": "CkM6ggjS9H71"
   },
   "source": [
    "## Checking if our data is stationary of not\n",
    "A quick and dirty check to see if your time series is non-stationary is to review summary statistics.\n",
    "\n",
    "You can split your time series into two (or more) partitions and compare the mean and variance of each group. If they differ and the difference is statistically significant, the time series is likely non-stationary."
   ]
  },
  {
   "cell_type": "code",
   "execution_count": null,
   "metadata": {
    "colab": {
     "base_uri": "https://localhost:8080/",
     "height": 374
    },
    "executionInfo": {
     "elapsed": 601,
     "status": "ok",
     "timestamp": 1653310038008,
     "user": {
      "displayName": "Anastasia Kiiru",
      "userId": "12437046474838202979"
     },
     "user_tz": -180
    },
    "id": "j0mxrS4I9PnD",
    "outputId": "6bc4cf37-072b-4ee4-cf3f-39f4d80b2874"
   },
   "outputs": [
    {
     "data": {
      "image/png": "[encoded data removed]",
      "text/plain": [
       "<Figure size 720x432 with 1 Axes>"
      ]
     },
     "metadata": {
      "needs_background": "light"
     },
     "output_type": "display_data"
    }
   ],
   "source": [
    "nifty_50['close_price'].hist()\n",
    "plt.show();"
   ]
  },
  {
   "cell_type": "code",
   "execution_count": null,
   "metadata": {
    "colab": {
     "base_uri": "https://localhost:8080/"
    },
    "executionInfo": {
     "elapsed": 391,
     "status": "ok",
     "timestamp": 1653310052477,
     "user": {
      "displayName": "Anastasia Kiiru",
      "userId": "12437046474838202979"
     },
     "user_tz": -180
    },
    "id": "b_P60s1S9UiM",
    "outputId": "3a6d790a-648c-4b02-eac0-ae5eea7ebe3a"
   },
   "outputs": [
    {
     "name": "stdout",
     "output_type": "stream",
     "text": [
      "mean1=9603.421572, mean2=11105.933332\n",
      "variance1=223878.109347, variance2=114346.102623\n"
     ]
    }
   ],
   "source": [
    "X = nifty_50['close_price'].values\n",
    "split = round(len(X) / 2)\n",
    "X1, X2 = X[0:split], X[split:]\n",
    "mean1, mean2 = X1.mean(), X2.mean()\n",
    "var1, var2 = X1.var(), X2.var()\n",
    "print('mean1=%f, mean2=%f' % (mean1, mean2))\n",
    "print('variance1=%f, variance2=%f' % (var1, var2))"
   ]
  },
  {
   "cell_type": "code",
   "execution_count": null,
   "metadata": {
    "colab": {
     "base_uri": "https://localhost:8080/",
     "height": 374
    },
    "executionInfo": {
     "elapsed": 1485,
     "status": "ok",
     "timestamp": 1653310073670,
     "user": {
      "displayName": "Anastasia Kiiru",
      "userId": "12437046474838202979"
     },
     "user_tz": -180
    },
    "id": "FIh7Wr-99Yka",
    "outputId": "49a12dc1-4116-45c4-c605-47dfb26f43d0"
   },
   "outputs": [
    {
     "data": {
      "image/png": "[encoded data removed]",
      "text/plain": [
       "<Figure size 720x432 with 1 Axes>"
      ]
     },
     "metadata": {
      "needs_background": "light"
     },
     "output_type": "display_data"
    }
   ],
   "source": [
    "nifty_50_april['close_price'].hist()\n",
    "plt.show();"
   ]
  },
  {
   "cell_type": "code",
   "execution_count": null,
   "metadata": {
    "colab": {
     "base_uri": "https://localhost:8080/"
    },
    "executionInfo": {
     "elapsed": 10,
     "status": "ok",
     "timestamp": 1653310085727,
     "user": {
      "displayName": "Anastasia Kiiru",
      "userId": "12437046474838202979"
     },
     "user_tz": -180
    },
    "id": "ql3vMHTl9cQS",
    "outputId": "8e0f7987-4e6c-456a-c785-cac1121e08a7"
   },
   "outputs": [
    {
     "name": "stdout",
     "output_type": "stream",
     "text": [
      "mean1=9166.116973, mean2=9464.824778\n",
      "variance1=16449.605830, variance2=44951.527240\n"
     ]
    }
   ],
   "source": [
    "X = nifty_50_april['close_price'].values\n",
    "split = round(len(X) / 2)\n",
    "X1, X2 = X[0:split], X[split:]\n",
    "mean1, mean2 = X1.mean(), X2.mean()\n",
    "var1, var2 = X1.var(), X2.var()\n",
    "print('mean1=%f, mean2=%f' % (mean1, mean2))\n",
    "print('variance1=%f, variance2=%f' % (var1, var2))"
   ]
  },
  {
   "cell_type": "markdown",
   "metadata": {
    "id": "QIo5Fyza9gAu"
   },
   "source": [
    "The Augmented Dickey-Fuller test is a type of statistical test called a unit root test. The intuition behind a unit root test is that it determines how strongly a time series is defined by a trend. There are a number of unit root tests and the Augmented Dickey-Fuller may be one of the more widely used. It uses an autoregressive model and optimizes an information criterion across multiple different lag values."
   ]
  },
  {
   "cell_type": "code",
   "execution_count": null,
   "metadata": {
    "id": "qQzbRoFL9hGq"
   },
   "outputs": [],
   "source": [
    "from statsmodels.tsa.stattools import adfuller"
   ]
  },
  {
   "cell_type": "code",
   "execution_count": null,
   "metadata": {
    "colab": {
     "base_uri": "https://localhost:8080/"
    },
    "executionInfo": {
     "elapsed": 7353,
     "status": "ok",
     "timestamp": 1653310127202,
     "user": {
      "displayName": "Anastasia Kiiru",
      "userId": "12437046474838202979"
     },
     "user_tz": -180
    },
    "id": "ti_5xHzh9ksd",
    "outputId": "5d9673e7-b6d6-4f40-df90-51b07448f826"
   },
   "outputs": [
    {
     "name": "stdout",
     "output_type": "stream",
     "text": [
      "ADF Statistic: -0.663206\n",
      "p-value: 0.856051\n",
      "Critical Values:\n",
      "\t1%: -3.431\n",
      "\t5%: -2.862\n",
      "\t10%: -2.567\n"
     ]
    }
   ],
   "source": [
    "X = nifty_50['close_price'].values\n",
    "\n",
    "result = adfuller(X)\n",
    "print('ADF Statistic: %f' % result[0])\n",
    "print('p-value: %f' % result[1])\n",
    "print('Critical Values:')\n",
    "for key, value in result[4].items():\n",
    "\tprint('\\t%s: %.3f' % (key, value))"
   ]
  },
  {
   "cell_type": "markdown",
   "metadata": {
    "id": "_DaPv_oe9n9r"
   },
   "source": [
    "## Removing Trend from our non-stationary data"
   ]
  },
  {
   "cell_type": "code",
   "execution_count": null,
   "metadata": {
    "colab": {
     "base_uri": "https://localhost:8080/"
    },
    "executionInfo": {
     "elapsed": 1378,
     "status": "ok",
     "timestamp": 1653310169563,
     "user": {
      "displayName": "Anastasia Kiiru",
      "userId": "12437046474838202979"
     },
     "user_tz": -180
    },
    "id": "Pes-Nlj79sMI",
    "outputId": "9d9009e3-9849-4a74-aa93-e0eace140428"
   },
   "outputs": [
    {
     "name": "stdout",
     "output_type": "stream",
     "text": [
      "ADF Statistic: -58.045640\n",
      "p-value: 0.000000\n",
      "Critical Values:\n",
      "\t1%: -3.432\n",
      "\t5%: -2.862\n",
      "\t10%: -2.567\n"
     ]
    }
   ],
   "source": [
    "X = data[1:].values\n",
    "\n",
    "result = adfuller(X)\n",
    "print('ADF Statistic: %f' % result[0])\n",
    "print('p-value: %f' % result[1])\n",
    "print('Critical Values:')\n",
    "for key, value in result[4].items():\n",
    "\tprint('\\t%s: %.3f' % (key, value))"
   ]
  },
  {
   "cell_type": "code",
   "execution_count": null,
   "metadata": {
    "colab": {
     "base_uri": "https://localhost:8080/"
    },
    "executionInfo": {
     "elapsed": 410,
     "status": "ok",
     "timestamp": 1653310185739,
     "user": {
      "displayName": "Anastasia Kiiru",
      "userId": "12437046474838202979"
     },
     "user_tz": -180
    },
    "id": "gXVWBPCQ91HA",
    "outputId": "dc662cd6-618a-4d63-fb9a-6ee824b90104"
   },
   "outputs": [
    {
     "name": "stdout",
     "output_type": "stream",
     "text": [
      "mean1=-0.035388, mean2=0.357528\n",
      "variance1=87.897485, variance2=67.514623\n"
     ]
    }
   ],
   "source": [
    "X = data[1:].values\n",
    "split = round(len(X) / 2)\n",
    "X1, X2 = X[0:split], X[split:]\n",
    "mean1, mean2 = X1.mean(), X2.mean()\n",
    "var1, var2 = X1.var(), X2.var()\n",
    "print('mean1=%f, mean2=%f' % (mean1, mean2))\n",
    "print('variance1=%f, variance2=%f' % (var1, var2))"
   ]
  }
 ],
 "metadata": {
  "colab": {
   "collapsed_sections": [
    "LdtH0s5F7MO1",
    "Gsg58KeE7p39",
    "Yw21soua8Pr4",
    "k9XqZ6FP8siG",
    "CkM6ggjS9H71",
    "_DaPv_oe9n9r"
   ],
   "provenance": []
  },
  "kernelspec": {
   "display_name": "Python 3 (ipykernel)",
   "language": "python",
   "name": "python3"
  },
  "language_info": {
   "codemirror_mode": {
    "name": "ipython",
    "version": 3
   },
   "file_extension": ".py",
   "mimetype": "text/x-python",
   "name": "python",
   "nbconvert_exporter": "python",
   "pygments_lexer": "ipython3",
   "version": "3.9.7"
  }
 },
 "nbformat": 4,
 "nbformat_minor": 1
}

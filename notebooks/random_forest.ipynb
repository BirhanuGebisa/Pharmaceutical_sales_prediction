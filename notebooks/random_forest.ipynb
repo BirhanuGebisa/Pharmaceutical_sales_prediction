{
 "cells": [
  {
   "cell_type": "markdown",
   "metadata": {},
   "source": [
    "##### Random Forest Modeling"
   ]
  },
  {
   "cell_type": "code",
   "execution_count": 56,
   "metadata": {},
   "outputs": [],
   "source": [
    "# importing useful modules\n",
    "#import Library of python\n",
    "import sys\n",
    "import numpy as np\n",
    "import pandas as pd\n",
    "import matplotlib\n",
    "import matplotlib.pyplot as plt\n",
    "import seaborn as sns\n",
    "from scipy import stats\n",
    "import datetime \n",
    "import logging\n",
    "sys.path.append('../src')\n",
    "import warnings\n",
    "warnings.filterwarnings('ignore')\n",
    "from file_handler import FileHandler\n",
    "from clean_data import data_preProcessing_script\n",
    "from visualize_data import visualize\n",
    "from cleaner import DataCleaner\n",
    "File_handler=FileHandler()\n",
    "from sklearn.linear_model import LinearRegression\n",
    "from sklearn.preprocessing import StandardScaler\n",
    "from sklearn.ensemble import RandomForestRegressor\n",
    "from sklearn.compose import ColumnTransformer\n",
    "from sklearn.pipeline import Pipeline\n",
    "from sklearn.impute import SimpleImputer\n",
    "from sklearn import preprocessing\n",
    "from sklearn import metrics\n",
    "from sklearn.model_selection import train_test_split, GridSearchCV\n",
    "from sklearn.metrics import mean_squared_error, mean_absolute_error, r2_score\n",
    "import mlflow\n",
    "from pickle import dump\n",
    "import mlflow.sklearn\n",
    "from numpy.core.umath_tests import inner1d\n",
    "import category_encoders as ce\n",
    "%matplotlib inline\n",
    "import pickle"
   ]
  },
  {
   "cell_type": "code",
   "execution_count": 43,
   "metadata": {},
   "outputs": [],
   "source": [
    "# The load the raw sales data\n",
    "data_path = '../data/train_store_label.csv'\n",
    "version = 'vsl1'\n",
    "repo = '../'\n",
    "\n",
    "#train_train_model_df = File_handler.dvc_get_data(data_path, version, repo)\n",
    "train_train_model_df=pd.read_csv(data_path)"
   ]
  },
  {
   "cell_type": "markdown",
   "metadata": {},
   "source": [
    "#### Build Sklearn model"
   ]
  },
  {
   "cell_type": "markdown",
   "metadata": {},
   "source": [
    "##### Split Data set as Train and Test"
   ]
  },
  {
   "cell_type": "code",
   "execution_count": 16,
   "metadata": {},
   "outputs": [],
   "source": [
    "#use sales as target variable\n",
    "X = train_train_model_df.drop(['Customers', 'Sales'], axis = 1)\n",
    "y = train_train_model_df['Sales']"
   ]
  },
  {
   "cell_type": "code",
   "execution_count": 17,
   "metadata": {},
   "outputs": [
    {
     "name": "stdout",
     "output_type": "stream",
     "text": [
      "Training, Validating and Testing Dataset split was successful Done.\n"
     ]
    }
   ],
   "source": [
    "# Split train, validate, test with ratio of 70:20:10\n",
    "X_train, X_test, y_train, y_test = train_test_split(X, y, test_size=0.10, random_state=85)\n",
    "X_train, X_valid, y_train, y_valid = train_test_split(X_train, y_train, test_size=0.2, random_state=85)\n",
    "print (\"Training, Validating and Testing Dataset split was successful Done.\")"
   ]
  },
  {
   "cell_type": "code",
   "execution_count": 18,
   "metadata": {},
   "outputs": [],
   "source": [
    "#Creat the Skelearn Pipeline using random forest\n",
    "model_pipeline = Pipeline(steps=[('random_forest', RandomForestRegressor(max_depth=10,random_state=2))])"
   ]
  },
  {
   "cell_type": "markdown",
   "metadata": {},
   "source": [
    "##### Define evaluation metrics"
   ]
  },
  {
   "cell_type": "code",
   "execution_count": 19,
   "metadata": {},
   "outputs": [],
   "source": [
    "def eval_metrics(actual, pred):\n",
    "    rmse = np.sqrt(mean_squared_error(actual, pred))\n",
    "    mae = mean_absolute_error(actual, pred)\n",
    "    r2 = r2_score(actual, pred)\n",
    "    print(\"RMSE Score is: {:.5%}\".format(rmse))\n",
    "    print(\"R2 Square Score is: {:.5%}\".format(r2))\n",
    "    print(\"MAE Score is: {:.5%}\".format(mae))\n",
    "    return {f'RMSE Score': rmse, f'R2_Squared': r2, f'MAE Score': mae}"
   ]
  },
  {
   "cell_type": "markdown",
   "metadata": {},
   "source": [
    "#### Pipeline for model"
   ]
  },
  {
   "cell_type": "code",
   "execution_count": 20,
   "metadata": {},
   "outputs": [
    {
     "name": "stdout",
     "output_type": "stream",
     "text": [
      "RMSE Score is: 53.62851%\n",
      "R2 Square Score is: 71.18533%\n",
      "MAE Score is: 38.44882%\n",
      "RMSE Score is: 53.63901%\n",
      "R2 Square Score is: 71.33190%\n",
      "MAE Score is: 38.40962%\n"
     ]
    }
   ],
   "source": [
    "# Fit the pipeline with the dataset\n",
    "mlflow.autolog(log_input_examples=True, disable_for_unsupported_versions=True, silent=True)\n",
    "with mlflow.start_run() as run:\n",
    "    best_model = model_pipeline.fit(X_train, y_train)\n",
    "\n",
    "    train_score = best_model.score(X_train, y_train)\n",
    "    valid_score = best_model.score(X_valid, y_valid)\n",
    "    valid_metrics = eval_metrics(y_valid, best_model.predict(X_valid))\n",
    "    test_score = best_model.score(X_test, y_test)\n",
    "    test_metrics = eval_metrics(y_test, best_model.predict(X_test))\n",
    "\n",
    "    mlflow.log_metric(\"Valid Score\", valid_score)\n",
    "    mlflow.log_metrics(valid_metrics)\n",
    "    mlflow.log_metric(\"Test Score\", test_score)\n",
    "    mlflow.log_metrics(test_metrics)"
   ]
  },
  {
   "cell_type": "markdown",
   "metadata": {},
   "source": [
    "#### Hyperparamete tuning using random forest algorithm"
   ]
  },
  {
   "cell_type": "code",
   "execution_count": 21,
   "metadata": {},
   "outputs": [],
   "source": [
    "# Create dictionary with candidate learning algorithms and their hyperparameters\n",
    "grid_param = [{\n",
    "     'random_forest': [RandomForestRegressor(max_depth=10, random_state=42)],\n",
    "     'random_forest__bootstrap': [True, True],\n",
    "     'random_forest__ccp_alpha': [0.0],\n",
    "     'random_forest__criterion': ['mse'],\n",
    "     'random_forest__max_depth': [5,8,15],\n",
    "     'random_forest__max_features': ['auto'],\n",
    "#      'random_forest__max_leaf_nodes': None,\n",
    "#      'random_forest__max_samples': None,\n",
    "     'random_forest__min_impurity_decrease': [0.0],\n",
    "#      'random_forest__min_impurity_split': None,\n",
    "     'random_forest__min_samples_leaf': [1,5],\n",
    "     'random_forest__min_samples_split': [2],\n",
    "     'random_forest__min_weight_fraction_leaf': [0.0],\n",
    "     'random_forest__n_estimators': [100],\n",
    "#      'random_forest__n_jobs': None,\n",
    "     'random_forest__oob_score': [False, True],\n",
    "     'random_forest__random_state': [2],\n",
    "     'random_forest__verbose': [0],\n",
    "     'random_forest__warm_start': [True, False]\n",
    "}]\n",
    "\n",
    "    \n",
    "# create a gridsearch of the pipeline, the fit the best model\n",
    "grid_search_pipeline = GridSearchCV(\n",
    "    model_pipeline, grid_param, cv=3, verbose=0, n_jobs=-1)  "
   ]
  },
  {
   "cell_type": "markdown",
   "metadata": {},
   "source": [
    "Generate model name"
   ]
  },
  {
   "cell_type": "code",
   "execution_count": 71,
   "metadata": {},
   "outputs": [],
   "source": [
    "def generate_model_name(mse_score: float) -> str:\n",
    "    now = datetime.now()\n",
    "    dt_string = now.strftime(\"%d-%m-%Y-%H-%M-%S-\")\n",
    "    dt_string = dt_string + \"{:.2%}\".format(mse_score)\n",
    "    return dt_string"
   ]
  },
  {
   "cell_type": "markdown",
   "metadata": {},
   "source": [
    "#### Validation Results"
   ]
  },
  {
   "cell_type": "code",
   "execution_count": 45,
   "metadata": {},
   "outputs": [
    {
     "data": {
      "text/plain": [
       "{'RMSE Score': 0.5362850838827523,\n",
       " 'R2_Squared': 0.7118532594227123,\n",
       " 'MAE Score': 0.3844882028285244}"
      ]
     },
     "execution_count": 45,
     "metadata": {},
     "output_type": "execute_result"
    }
   ],
   "source": [
    "valid_metrics"
   ]
  },
  {
   "cell_type": "code",
   "execution_count": 57,
   "metadata": {},
   "outputs": [
    {
     "data": {
      "image/png": "[encoded data removed]",
      "text/plain": [
       "<Figure size 936x648 with 1 Axes>"
      ]
     },
     "metadata": {
      "needs_background": "light"
     },
     "output_type": "display_data"
    }
   ],
   "source": [
    "plt.figure(figsize=(13,9))\n",
    "feat_importances = pd.Series(valid_metrics, index = valid_metrics.keys())\n",
    "feat_importances.nlargest(10).plot(kind='barh');"
   ]
  },
  {
   "cell_type": "markdown",
   "metadata": {},
   "source": [
    "#### Testing Results "
   ]
  },
  {
   "cell_type": "code",
   "execution_count": 47,
   "metadata": {},
   "outputs": [
    {
     "data": {
      "text/plain": [
       "{'RMSE Score': 0.5363901008169621,\n",
       " 'R2_Squared': 0.713318982454849,\n",
       " 'MAE Score': 0.3840961567020896}"
      ]
     },
     "execution_count": 47,
     "metadata": {},
     "output_type": "execute_result"
    }
   ],
   "source": [
    "test_metrics"
   ]
  },
  {
   "cell_type": "code",
   "execution_count": 31,
   "metadata": {},
   "outputs": [
    {
     "data": {
      "image/png": "[encoded data removed]",
      "text/plain": [
       "<Figure size 936x648 with 1 Axes>"
      ]
     },
     "metadata": {
      "needs_background": "light"
     },
     "output_type": "display_data"
    }
   ],
   "source": [
    "plt.figure(figsize=(13,9))\n",
    "feat_importances = pd.Series(test_metrics, index = test_metrics.keys())\n",
    "feat_importances.nlargest(10).plot(kind='barh');"
   ]
  },
  {
   "cell_type": "markdown",
   "metadata": {},
   "source": [
    "- The RMSE values between 0.2 and 0.60 shows that the model can relatively predict the data accurately.\n",
    "- The R-squared more than 0.70 is a very good value for showing the accuracy"
   ]
  },
  {
   "cell_type": "markdown",
   "metadata": {},
   "source": [
    "#### Save model with generate model name"
   ]
  },
  {
   "cell_type": "code",
   "execution_count": 77,
   "metadata": {},
   "outputs": [],
   "source": [
    "def save_model(model, mse_score) -> None:\n",
    "    try:\n",
    "        file_name = '../models/' + generate_model_name(mse_score=mse_score) +'.pkl'\n",
    "        with open(file_name, 'wb') as handle:\n",
    "            dump(model, handle)\n",
    "    except Exception as e:\n",
    "        print('Error message producing model')"
   ]
  },
  {
   "cell_type": "code",
   "execution_count": null,
   "metadata": {},
   "outputs": [],
   "source": [
    "save_model(best_model, test_metrics['RMSE Score'])"
   ]
  },
  {
   "cell_type": "code",
   "execution_count": 58,
   "metadata": {},
   "outputs": [
    {
     "data": {
      "text/plain": [
       "{'memory': None,\n",
       " 'steps': [('random_forest',\n",
       "   RandomForestRegressor(max_depth=10, random_state=2))],\n",
       " 'verbose': False,\n",
       " 'random_forest': RandomForestRegressor(max_depth=10, random_state=2),\n",
       " 'random_forest__bootstrap': True,\n",
       " 'random_forest__ccp_alpha': 0.0,\n",
       " 'random_forest__criterion': 'squared_error',\n",
       " 'random_forest__max_depth': 10,\n",
       " 'random_forest__max_features': 'auto',\n",
       " 'random_forest__max_leaf_nodes': None,\n",
       " 'random_forest__max_samples': None,\n",
       " 'random_forest__min_impurity_decrease': 0.0,\n",
       " 'random_forest__min_samples_leaf': 1,\n",
       " 'random_forest__min_samples_split': 2,\n",
       " 'random_forest__min_weight_fraction_leaf': 0.0,\n",
       " 'random_forest__n_estimators': 100,\n",
       " 'random_forest__n_jobs': None,\n",
       " 'random_forest__oob_score': False,\n",
       " 'random_forest__random_state': 2,\n",
       " 'random_forest__verbose': 0,\n",
       " 'random_forest__warm_start': False}"
      ]
     },
     "execution_count": 58,
     "metadata": {},
     "output_type": "execute_result"
    }
   ],
   "source": [
    "best_model.get_params()"
   ]
  },
  {
   "cell_type": "code",
   "execution_count": 84,
   "metadata": {},
   "outputs": [
    {
     "data": {
      "text/plain": [
       "nan"
      ]
     },
     "execution_count": 84,
     "metadata": {},
     "output_type": "execute_result"
    }
   ],
   "source": [
    "def rmspe(y, y_pred):\n",
    "    rmspe = np.sqrt(np.mean( (y - y_pred)**2 ))\n",
    "    return rmspe\n",
    "\n",
    "error=rmspe(y_train,y_valid)\n",
    "error"
   ]
  },
  {
   "cell_type": "markdown",
   "metadata": {},
   "source": [
    "#### Feature importance"
   ]
  },
  {
   "cell_type": "code",
   "execution_count": 37,
   "metadata": {},
   "outputs": [
    {
     "data": {
      "image/png": "[encoded data removed]",
      "text/plain": [
       "<Figure size 720x504 with 1 Axes>"
      ]
     },
     "metadata": {
      "needs_background": "light"
     },
     "output_type": "display_data"
    }
   ],
   "source": [
    "plt.figure(figsize=(10,7))\n",
    "feat_importances = pd.Series(best_model.steps[0][1].feature_importances_, index = X.columns)\n",
    "feat_importances.nlargest(10).plot(kind='barh');"
   ]
  },
  {
   "cell_type": "markdown",
   "metadata": {},
   "source": [
    "The Feature importance show us the Open columns more important than other feature"
   ]
  },
  {
   "cell_type": "markdown",
   "metadata": {},
   "source": [
    "==============//=============================="
   ]
  }
 ],
 "metadata": {
  "kernelspec": {
   "display_name": "Python 3.7.0 ('base')",
   "language": "python",
   "name": "python3"
  },
  "language_info": {
   "codemirror_mode": {
    "name": "ipython",
    "version": 3
   },
   "file_extension": ".py",
   "mimetype": "text/x-python",
   "name": "python",
   "nbconvert_exporter": "python",
   "pygments_lexer": "ipython3",
   "version": "3.7.0"
  },
  "orig_nbformat": 4,
  "vscode": {
   "interpreter": {
    "hash": "1c1d84affd04ea94635ae004ab92d8f7c59753998561fcf20a79a729cfcfa1a8"
   }
  }
 },
 "nbformat": 4,
 "nbformat_minor": 2
}
